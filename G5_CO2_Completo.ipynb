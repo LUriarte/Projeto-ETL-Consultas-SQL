{
  "nbformat": 4,
  "nbformat_minor": 0,
  "metadata": {
    "colab": {
      "name": "G5_CO2_Completo.ipynb",
      "provenance": [],
      "collapsed_sections": [],
      "include_colab_link": true
    },
    "kernelspec": {
      "name": "python3",
      "display_name": "Python 3"
    },
    "language_info": {
      "name": "python"
    }
  },
  "cells": [
    {
      "cell_type": "markdown",
      "metadata": {
        "id": "view-in-github",
        "colab_type": "text"
      },
      "source": [
        "<a href=\"https://colab.research.google.com/github/LucasBrandaoGomes/Projeto-ETL-Consultas-SQL/blob/main/G5_CO2_Completo.ipynb\" target=\"_parent\"><img src=\"https://colab.research.google.com/assets/colab-badge.svg\" alt=\"Open In Colab\"/></a>"
      ]
    },
    {
      "cell_type": "markdown",
      "metadata": {
        "id": "X7nXXwuBRhbT"
      },
      "source": [
        "##PANDAS\n",
        "\n"
      ]
    },
    {
      "cell_type": "markdown",
      "metadata": {
        "id": "MpS-ArchtfLo"
      },
      "source": [
        "Instalação do pacote gcsfs para acesso de arquivos direto do GCStorage "
      ]
    },
    {
      "cell_type": "code",
      "metadata": {
        "id": "ITsnBMj9rd9C"
      },
      "source": [
        "pip install gcsfs"
      ],
      "execution_count": null,
      "outputs": []
    },
    {
      "cell_type": "markdown",
      "metadata": {
        "id": "J3_rC9M0aThC"
      },
      "source": [
        "Instalação do pacote Pandera para validação de dados"
      ]
    },
    {
      "cell_type": "code",
      "metadata": {
        "id": "4Bc2OxlPt6np"
      },
      "source": [
        "pip install pandera"
      ],
      "execution_count": null,
      "outputs": []
    },
    {
      "cell_type": "markdown",
      "metadata": {
        "id": "1oHa_bhstjg8"
      },
      "source": [
        "Importação de biblioteca para autenticação da service account e uso dos arquivos do bucket GCP"
      ]
    },
    {
      "cell_type": "code",
      "metadata": {
        "id": "LyLwVTUfrinJ"
      },
      "source": [
        "import os"
      ],
      "execution_count": null,
      "outputs": []
    },
    {
      "cell_type": "markdown",
      "metadata": {
        "id": "DryO7L6OagD9"
      },
      "source": [
        "Foi criada uma conta de serviço relacionada ao Bucket do CloudStorage bem como uma chave para interação entre as ferramentas. A seguir o arquivo de chave da conta de servico é atribuida a variável serviceAccount."
      ]
    },
    {
      "cell_type": "code",
      "metadata": {
        "id": "GI9G0ReXrl44"
      },
      "source": [
        "serviceAccount ='/content/chave-projeto-g5.json'\n",
        "\n",
        "os.environ['GOOGLE_APPLICATION_CREDENTIALS'] = serviceAccount"
      ],
      "execution_count": null,
      "outputs": []
    },
    {
      "cell_type": "markdown",
      "metadata": {
        "id": "AE_oreYibDUv"
      },
      "source": [
        "Importação de bibliotecas a serem utilizadas na etapa de tratamento pandas/pandera."
      ]
    },
    {
      "cell_type": "code",
      "metadata": {
        "id": "SXyK9MowrtIj"
      },
      "source": [
        "import pandas as pd\n",
        "import pandera as pa\n",
        "from google.cloud import storage\n"
      ],
      "execution_count": null,
      "outputs": []
    },
    {
      "cell_type": "markdown",
      "metadata": {
        "id": "UUrzfFUhbgNH"
      },
      "source": [
        "Leitura do arquivo CSV utilizando o URI do arquivo no bucket."
      ]
    },
    {
      "cell_type": "code",
      "metadata": {
        "id": "M75uTbwyrx-w",
        "colab": {
          "base_uri": "https://localhost:8080/",
          "height": 424
        },
        "outputId": "e6456361-8298-4b01-cd15-e79c173a5e22"
      },
      "source": [
        "df = pd.read_csv('gs://projeto-final-bucket-g5/entrada/Emissao_CO2_pais.csv')\n",
        "df"
      ],
      "execution_count": null,
      "outputs": [
        {
          "output_type": "execute_result",
          "data": {
            "text/html": [
              "<div>\n",
              "<style scoped>\n",
              "    .dataframe tbody tr th:only-of-type {\n",
              "        vertical-align: middle;\n",
              "    }\n",
              "\n",
              "    .dataframe tbody tr th {\n",
              "        vertical-align: top;\n",
              "    }\n",
              "\n",
              "    .dataframe thead th {\n",
              "        text-align: right;\n",
              "    }\n",
              "</style>\n",
              "<table border=\"1\" class=\"dataframe\">\n",
              "  <thead>\n",
              "    <tr style=\"text-align: right;\">\n",
              "      <th></th>\n",
              "      <th>Entity</th>\n",
              "      <th>Code</th>\n",
              "      <th>Year</th>\n",
              "      <th>Annual CO₂ emissions (tonnes )</th>\n",
              "    </tr>\n",
              "  </thead>\n",
              "  <tbody>\n",
              "    <tr>\n",
              "      <th>0</th>\n",
              "      <td>Afghanistan</td>\n",
              "      <td>AFG</td>\n",
              "      <td>1949</td>\n",
              "      <td>14656.00</td>\n",
              "    </tr>\n",
              "    <tr>\n",
              "      <th>1</th>\n",
              "      <td>Afghanistan</td>\n",
              "      <td>AFG</td>\n",
              "      <td>1950</td>\n",
              "      <td>84272.00</td>\n",
              "    </tr>\n",
              "    <tr>\n",
              "      <th>2</th>\n",
              "      <td>Afghanistan</td>\n",
              "      <td>AFG</td>\n",
              "      <td>1951</td>\n",
              "      <td>91600.00</td>\n",
              "    </tr>\n",
              "    <tr>\n",
              "      <th>3</th>\n",
              "      <td>Afghanistan</td>\n",
              "      <td>AFG</td>\n",
              "      <td>1952</td>\n",
              "      <td>91600.00</td>\n",
              "    </tr>\n",
              "    <tr>\n",
              "      <th>4</th>\n",
              "      <td>Afghanistan</td>\n",
              "      <td>AFG</td>\n",
              "      <td>1953</td>\n",
              "      <td>106256.00</td>\n",
              "    </tr>\n",
              "    <tr>\n",
              "      <th>...</th>\n",
              "      <td>...</td>\n",
              "      <td>...</td>\n",
              "      <td>...</td>\n",
              "      <td>...</td>\n",
              "    </tr>\n",
              "    <tr>\n",
              "      <th>20848</th>\n",
              "      <td>Zimbabwe</td>\n",
              "      <td>ZWE</td>\n",
              "      <td>2013</td>\n",
              "      <td>11536239.29</td>\n",
              "    </tr>\n",
              "    <tr>\n",
              "      <th>20849</th>\n",
              "      <td>Zimbabwe</td>\n",
              "      <td>ZWE</td>\n",
              "      <td>2014</td>\n",
              "      <td>11866348.41</td>\n",
              "    </tr>\n",
              "    <tr>\n",
              "      <th>20850</th>\n",
              "      <td>Zimbabwe</td>\n",
              "      <td>ZWE</td>\n",
              "      <td>2015</td>\n",
              "      <td>10907603.94</td>\n",
              "    </tr>\n",
              "    <tr>\n",
              "      <th>20851</th>\n",
              "      <td>Zimbabwe</td>\n",
              "      <td>ZWE</td>\n",
              "      <td>2016</td>\n",
              "      <td>9932649.88</td>\n",
              "    </tr>\n",
              "    <tr>\n",
              "      <th>20852</th>\n",
              "      <td>Zimbabwe</td>\n",
              "      <td>ZWE</td>\n",
              "      <td>2017</td>\n",
              "      <td>10397718.47</td>\n",
              "    </tr>\n",
              "  </tbody>\n",
              "</table>\n",
              "<p>20853 rows × 4 columns</p>\n",
              "</div>"
            ],
            "text/plain": [
              "            Entity Code  Year  Annual CO₂ emissions (tonnes )\n",
              "0      Afghanistan  AFG  1949                        14656.00\n",
              "1      Afghanistan  AFG  1950                        84272.00\n",
              "2      Afghanistan  AFG  1951                        91600.00\n",
              "3      Afghanistan  AFG  1952                        91600.00\n",
              "4      Afghanistan  AFG  1953                       106256.00\n",
              "...            ...  ...   ...                             ...\n",
              "20848     Zimbabwe  ZWE  2013                     11536239.29\n",
              "20849     Zimbabwe  ZWE  2014                     11866348.41\n",
              "20850     Zimbabwe  ZWE  2015                     10907603.94\n",
              "20851     Zimbabwe  ZWE  2016                      9932649.88\n",
              "20852     Zimbabwe  ZWE  2017                     10397718.47\n",
              "\n",
              "[20853 rows x 4 columns]"
            ]
          },
          "metadata": {},
          "execution_count": 7
        }
      ]
    },
    {
      "cell_type": "code",
      "metadata": {
        "colab": {
          "base_uri": "https://localhost:8080/"
        },
        "id": "zgt8koOPRIIR",
        "outputId": "ae415637-5aa3-4bc3-8591-897f03d9e871"
      },
      "source": [
        "#verificação do tipo do dado\n",
        "df.dtypes"
      ],
      "execution_count": null,
      "outputs": [
        {
          "output_type": "execute_result",
          "data": {
            "text/plain": [
              "Entity                             object\n",
              "Code                               object\n",
              "Year                                int64\n",
              "Annual CO₂ emissions (tonnes )    float64\n",
              "dtype: object"
            ]
          },
          "metadata": {},
          "execution_count": 8
        }
      ]
    },
    {
      "cell_type": "code",
      "metadata": {
        "id": "gKVOiYNMpkBo"
      },
      "source": [
        "#função pd.unique sendo utilizada para verificarmos as lista de países(Entity)\n",
        "pd.unique(df['Entity'])"
      ],
      "execution_count": null,
      "outputs": []
    },
    {
      "cell_type": "markdown",
      "metadata": {
        "id": "LNCgSqPfuGuC"
      },
      "source": [
        "Utilizando a função pd.unique verificamos que alguns paises não são de interesse para o propósito da análise ou apresentam divergências.\n",
        "\n",
        "* As linhas referentes seguintes países/territórios serão excluidas:\n",
        "\n",
        "[Africa, Americas (other), Antarctic Fisheries', 'Asia and Pacific (other)', 'Bonaire Sint Eustatius and Saba','Bermuda','Brunei', 'EU-28','Cook Islands', 'Europe (other)', 'Gibraltar', 'International transport', 'Kyrgysztan', 'Middle East', 'Maldives', 'Marshall Islands', 'Nauru', 'Saint Helena', 'Saint Pierre and Miquelon', 'Sint Maarten (Dutch part)', 'Statistical differences', 'South Sudan', 'Tuvalu',  'Vanuatu', 'Wallis and Futuna Islands', 'World','Czechoslovakia'.\n",
        "\n",
        "* Os paises com os seguintes nomes terão nomes ajustados para alinhar com o outro dataset: \n",
        "\n",
        "['Timor'= 'Timor leste'\n",
        "'Antarctic Fisheries'  = 'Antarctic'\n",
        "'Faeroe Islands = 'Faroe Islands'\n",
        "'Falkland Islands', = 'Islas Malvinas'\n",
        "'Micronesia (country)' = 'Micronesia' \n",
        "'Democratic Republic of Republic of the Congo'\t = 'Democratic Republic of the Congo'\n",
        "'Republic of the Congo' = 'Congo']"
      ]
    },
    {
      "cell_type": "code",
      "metadata": {
        "id": "rdbA_6sKGhRI",
        "colab": {
          "base_uri": "https://localhost:8080/"
        },
        "outputId": "2c8e4745-4c5b-4708-d779-bb9d814000ab"
      },
      "source": [
        "len(df['Entity'].unique())"
      ],
      "execution_count": null,
      "outputs": [
        {
          "output_type": "execute_result",
          "data": {
            "text/plain": [
              "233"
            ]
          },
          "metadata": {},
          "execution_count": 10
        }
      ]
    },
    {
      "cell_type": "markdown",
      "metadata": {
        "id": "p_VFBToba0xt"
      },
      "source": [
        "Realização de Backup"
      ]
    },
    {
      "cell_type": "code",
      "metadata": {
        "id": "RUIIXRLtac3-"
      },
      "source": [
        "#definição de um fataframe de backup\n",
        "df_backup = df.copy()"
      ],
      "execution_count": null,
      "outputs": []
    },
    {
      "cell_type": "code",
      "metadata": {
        "id": "eP76T7TvalSY"
      },
      "source": [
        "df_backup"
      ],
      "execution_count": null,
      "outputs": []
    },
    {
      "cell_type": "markdown",
      "metadata": {
        "id": "5M3e9GdmXRPX"
      },
      "source": [
        "Tradução de colunas"
      ]
    },
    {
      "cell_type": "code",
      "metadata": {
        "id": "4_hmOXNDZps7"
      },
      "source": [
        "(df.rename(columns={'Entity': 'País', 'Code': 'Código', \n",
        "                       'Year': 'Ano', 'Annual CO₂ emissions (tonnes )': 'Emissão CO₂ (ton/ano)'}\n",
        "                        , inplace=True))"
      ],
      "execution_count": null,
      "outputs": []
    },
    {
      "cell_type": "markdown",
      "metadata": {
        "id": "B1RpIpygXkuz"
      },
      "source": [
        "Eliminando linhas relacionadas a datas superiores a 2012. Tal tratamento foi feito analisando o outro dataset (Temperatura média), a fim de igualar os períodos de tempo entre os conjunto de dados."
      ]
    },
    {
      "cell_type": "code",
      "metadata": {
        "id": "14OZUTMTbKfD"
      },
      "source": [
        "filtro_anomax = df.Ano <= 2012\n",
        "\n",
        "df = df.loc[filtro_anomax]"
      ],
      "execution_count": null,
      "outputs": []
    },
    {
      "cell_type": "markdown",
      "metadata": {
        "id": "0LbDUlfKXnei"
      },
      "source": [
        "Verificação dados nulos"
      ]
    },
    {
      "cell_type": "code",
      "metadata": {
        "colab": {
          "base_uri": "https://localhost:8080/"
        },
        "id": "Ni1b2XbJhIde",
        "outputId": "08c5c944-dd7f-4934-ccc7-510f0d0be402"
      },
      "source": [
        "df.isna().sum()"
      ],
      "execution_count": null,
      "outputs": [
        {
          "output_type": "execute_result",
          "data": {
            "text/plain": [
              "País                        0\n",
              "Código                   2162\n",
              "Ano                         0\n",
              "Emissão CO₂ (ton/ano)       0\n",
              "dtype: int64"
            ]
          },
          "metadata": {},
          "execution_count": 15
        }
      ]
    },
    {
      "cell_type": "code",
      "metadata": {
        "id": "_G9Op4AVlVyq"
      },
      "source": [
        "#conferindo inconsistências\n",
        "pd.unique(df['Código'])"
      ],
      "execution_count": null,
      "outputs": []
    },
    {
      "cell_type": "code",
      "metadata": {
        "id": "8-rY9WUKh4QV",
        "colab": {
          "base_uri": "https://localhost:8080/",
          "height": 424
        },
        "outputId": "977cdb77-4a18-4ec9-e905-73f10e006141"
      },
      "source": [
        "#vizualizando os valores NaN\n",
        "filter = df['Código'].isna()\n",
        "df.loc[filter]"
      ],
      "execution_count": null,
      "outputs": [
        {
          "output_type": "execute_result",
          "data": {
            "text/html": [
              "<div>\n",
              "<style scoped>\n",
              "    .dataframe tbody tr th:only-of-type {\n",
              "        vertical-align: middle;\n",
              "    }\n",
              "\n",
              "    .dataframe tbody tr th {\n",
              "        vertical-align: top;\n",
              "    }\n",
              "\n",
              "    .dataframe thead th {\n",
              "        text-align: right;\n",
              "    }\n",
              "</style>\n",
              "<table border=\"1\" class=\"dataframe\">\n",
              "  <thead>\n",
              "    <tr style=\"text-align: right;\">\n",
              "      <th></th>\n",
              "      <th>País</th>\n",
              "      <th>Código</th>\n",
              "      <th>Ano</th>\n",
              "      <th>Emissão CO₂ (ton/ano)</th>\n",
              "    </tr>\n",
              "  </thead>\n",
              "  <tbody>\n",
              "    <tr>\n",
              "      <th>69</th>\n",
              "      <td>Africa</td>\n",
              "      <td>NaN</td>\n",
              "      <td>1751</td>\n",
              "      <td>0.0</td>\n",
              "    </tr>\n",
              "    <tr>\n",
              "      <th>70</th>\n",
              "      <td>Africa</td>\n",
              "      <td>NaN</td>\n",
              "      <td>1752</td>\n",
              "      <td>0.0</td>\n",
              "    </tr>\n",
              "    <tr>\n",
              "      <th>71</th>\n",
              "      <td>Africa</td>\n",
              "      <td>NaN</td>\n",
              "      <td>1753</td>\n",
              "      <td>0.0</td>\n",
              "    </tr>\n",
              "    <tr>\n",
              "      <th>72</th>\n",
              "      <td>Africa</td>\n",
              "      <td>NaN</td>\n",
              "      <td>1754</td>\n",
              "      <td>0.0</td>\n",
              "    </tr>\n",
              "    <tr>\n",
              "      <th>73</th>\n",
              "      <td>Africa</td>\n",
              "      <td>NaN</td>\n",
              "      <td>1755</td>\n",
              "      <td>0.0</td>\n",
              "    </tr>\n",
              "    <tr>\n",
              "      <th>...</th>\n",
              "      <td>...</td>\n",
              "      <td>...</td>\n",
              "      <td>...</td>\n",
              "      <td>...</td>\n",
              "    </tr>\n",
              "    <tr>\n",
              "      <th>20343</th>\n",
              "      <td>Wallis and Futuna Islands</td>\n",
              "      <td>NaN</td>\n",
              "      <td>2008</td>\n",
              "      <td>21984.0</td>\n",
              "    </tr>\n",
              "    <tr>\n",
              "      <th>20344</th>\n",
              "      <td>Wallis and Futuna Islands</td>\n",
              "      <td>NaN</td>\n",
              "      <td>2009</td>\n",
              "      <td>29312.0</td>\n",
              "    </tr>\n",
              "    <tr>\n",
              "      <th>20345</th>\n",
              "      <td>Wallis and Futuna Islands</td>\n",
              "      <td>NaN</td>\n",
              "      <td>2010</td>\n",
              "      <td>29312.0</td>\n",
              "    </tr>\n",
              "    <tr>\n",
              "      <th>20346</th>\n",
              "      <td>Wallis and Futuna Islands</td>\n",
              "      <td>NaN</td>\n",
              "      <td>2011</td>\n",
              "      <td>25648.0</td>\n",
              "    </tr>\n",
              "    <tr>\n",
              "      <th>20347</th>\n",
              "      <td>Wallis and Futuna Islands</td>\n",
              "      <td>NaN</td>\n",
              "      <td>2012</td>\n",
              "      <td>25648.0</td>\n",
              "    </tr>\n",
              "  </tbody>\n",
              "</table>\n",
              "<p>2162 rows × 4 columns</p>\n",
              "</div>"
            ],
            "text/plain": [
              "                            País Código   Ano  Emissão CO₂ (ton/ano)\n",
              "69                        Africa    NaN  1751                    0.0\n",
              "70                        Africa    NaN  1752                    0.0\n",
              "71                        Africa    NaN  1753                    0.0\n",
              "72                        Africa    NaN  1754                    0.0\n",
              "73                        Africa    NaN  1755                    0.0\n",
              "...                          ...    ...   ...                    ...\n",
              "20343  Wallis and Futuna Islands    NaN  2008                21984.0\n",
              "20344  Wallis and Futuna Islands    NaN  2009                29312.0\n",
              "20345  Wallis and Futuna Islands    NaN  2010                29312.0\n",
              "20346  Wallis and Futuna Islands    NaN  2011                25648.0\n",
              "20347  Wallis and Futuna Islands    NaN  2012                25648.0\n",
              "\n",
              "[2162 rows x 4 columns]"
            ]
          },
          "metadata": {},
          "execution_count": 17
        }
      ]
    },
    {
      "cell_type": "markdown",
      "metadata": {
        "id": "W448i_wFYDxG"
      },
      "source": [
        "Após conferir lista de países entre os bancos de dados a serem analisados, foram feitas as exclusões de linhas referentes aos países não relevantes."
      ]
    },
    {
      "cell_type": "code",
      "metadata": {
        "id": "kQKAWYi5yEA1",
        "colab": {
          "base_uri": "https://localhost:8080/"
        },
        "outputId": "814f4a0a-01b5-4086-edda-743a449a31d3"
      },
      "source": [
        "df.drop(df[(df['País'] == 'Africa')].index, inplace=True)\n",
        "df.drop(df[(df['País'] == 'Americas (other)')].index, inplace=True)\n",
        "df.drop(df[(df['País'] == 'Asia and Pacific (other)')].index, inplace=True)\n",
        "df.drop(df[(df['País'] == 'Bonaire Sint Eustatius and Saba')].index, inplace=True)\n",
        "df.drop(df[(df['País'] == 'Bermuda')].index, inplace=True)\n",
        "df.drop(df[(df['País'] == 'Brunei')].index, inplace=True)\n",
        "df.drop(df[(df['País'] == 'EU-28')].index, inplace=True)\n",
        "df.drop(df[(df['País'] == 'Europe (other)')].index, inplace=True)\n",
        "df.drop(df[(df['País'] == 'Cook Islands')].index, inplace=True)\n",
        "df.drop(df[(df['País'] == 'Gibraltar')].index, inplace=True)\n",
        "df.drop(df[(df['País'] == 'International transport')].index, inplace=True)\n",
        "df.drop(df[(df['País'] == 'Kyrgysztan')].index, inplace=True)\n",
        "df.drop(df[(df['País'] == 'Middle East')].index, inplace=True)\n",
        "df.drop(df[(df['País'] == 'Maldives')].index, inplace=True)\n",
        "df.drop(df[(df['País'] == 'Marshall Islands')].index, inplace=True)\n",
        "df.drop(df[(df['País'] == 'Nauru')].index, inplace=True)\n",
        "df.drop(df[(df['País'] == 'Saint Helena')].index, inplace=True)\n",
        "df.drop(df[(df['País'] == 'Saint Pierre and Miquelon')].index, inplace=True)\n",
        "df.drop(df[(df['País'] == 'Sint Maarten (Dutch part)')].index, inplace=True)\n",
        "df.drop(df[(df['País'] == 'Statistical differences')].index, inplace=True)\n",
        "df.drop(df[(df['País'] == 'South Sudan')].index, inplace=True)\n",
        "df.drop(df[(df['País'] == 'Tuvalu')].index, inplace=True)\n",
        "df.drop(df[(df['País'] == 'Vanuatu')].index, inplace=True)\n",
        "df.drop(df[(df['País'] == 'Wallis and Futuna Islands')].index, inplace=True)\n",
        "df.drop(df[(df['País'] == 'Czechoslovakia')].index, inplace=True)\n",
        "df.drop(df[(df['País'] == 'World')].index, inplace=True)"
      ],
      "execution_count": null,
      "outputs": [
        {
          "output_type": "stream",
          "name": "stderr",
          "text": [
            "/usr/local/lib/python3.7/dist-packages/pandas/core/frame.py:4174: SettingWithCopyWarning: \n",
            "A value is trying to be set on a copy of a slice from a DataFrame\n",
            "\n",
            "See the caveats in the documentation: https://pandas.pydata.org/pandas-docs/stable/user_guide/indexing.html#returning-a-view-versus-a-copy\n",
            "  errors=errors,\n"
          ]
        }
      ]
    },
    {
      "cell_type": "markdown",
      "metadata": {
        "id": "P2j0MHFonnbL"
      },
      "source": [
        "Existem 21 valores nulos na coluna de código, e são referentes ao território da Antartica. Como o dataset de variação de temperatura não apresenta medições para este território, preferiu-se eliminar também aqui."
      ]
    },
    {
      "cell_type": "code",
      "metadata": {
        "colab": {
          "base_uri": "https://localhost:8080/"
        },
        "id": "CnPuWOv1o0YQ",
        "outputId": "62f14cd0-d767-4a78-d3c3-c2f37e5822b3"
      },
      "source": [
        "df.isna().sum()"
      ],
      "execution_count": null,
      "outputs": [
        {
          "output_type": "execute_result",
          "data": {
            "text/plain": [
              "País                      0\n",
              "Código                   21\n",
              "Ano                       0\n",
              "Emissão CO₂ (ton/ano)     0\n",
              "dtype: int64"
            ]
          },
          "metadata": {},
          "execution_count": 18
        }
      ]
    },
    {
      "cell_type": "code",
      "metadata": {
        "colab": {
          "base_uri": "https://localhost:8080/"
        },
        "id": "Zov7JpjunxnC",
        "outputId": "56d8561e-0598-4a95-81a7-336a6b991527"
      },
      "source": [
        "df.drop(df[(df['País'] == 'Antarctic Fisheries')].index, inplace=True)"
      ],
      "execution_count": null,
      "outputs": [
        {
          "output_type": "stream",
          "name": "stderr",
          "text": [
            "/usr/local/lib/python3.7/dist-packages/pandas/core/frame.py:4174: SettingWithCopyWarning: \n",
            "A value is trying to be set on a copy of a slice from a DataFrame\n",
            "\n",
            "See the caveats in the documentation: https://pandas.pydata.org/pandas-docs/stable/user_guide/indexing.html#returning-a-view-versus-a-copy\n",
            "  errors=errors,\n"
          ]
        }
      ]
    },
    {
      "cell_type": "code",
      "metadata": {
        "id": "0dFWq-_vyJXt",
        "colab": {
          "base_uri": "https://localhost:8080/",
          "height": 49
        },
        "outputId": "34e7f62e-6a7d-49a2-dc04-bd0bd60f556a"
      },
      "source": [
        "#filtro utilizado para verificar se as mudanças foram efetuadas\n",
        "filtro=df.País=='Antarctic Fisheries'\n",
        "df.loc[filtro]"
      ],
      "execution_count": null,
      "outputs": [
        {
          "output_type": "execute_result",
          "data": {
            "text/html": [
              "<div>\n",
              "<style scoped>\n",
              "    .dataframe tbody tr th:only-of-type {\n",
              "        vertical-align: middle;\n",
              "    }\n",
              "\n",
              "    .dataframe tbody tr th {\n",
              "        vertical-align: top;\n",
              "    }\n",
              "\n",
              "    .dataframe thead th {\n",
              "        text-align: right;\n",
              "    }\n",
              "</style>\n",
              "<table border=\"1\" class=\"dataframe\">\n",
              "  <thead>\n",
              "    <tr style=\"text-align: right;\">\n",
              "      <th></th>\n",
              "      <th>País</th>\n",
              "      <th>Código</th>\n",
              "      <th>Ano</th>\n",
              "      <th>Emissão CO₂ (ton/ano)</th>\n",
              "    </tr>\n",
              "  </thead>\n",
              "  <tbody>\n",
              "  </tbody>\n",
              "</table>\n",
              "</div>"
            ],
            "text/plain": [
              "Empty DataFrame\n",
              "Columns: [País, Código, Ano, Emissão CO₂ (ton/ano)]\n",
              "Index: []"
            ]
          },
          "metadata": {},
          "execution_count": 20
        }
      ]
    },
    {
      "cell_type": "markdown",
      "metadata": {
        "id": "qeayUHaEeL9M"
      },
      "source": [
        "Alteração de nomes de países para futuramente realizar operações utilizando joins."
      ]
    },
    {
      "cell_type": "code",
      "metadata": {
        "id": "88w92w2OyN3s",
        "colab": {
          "base_uri": "https://localhost:8080/"
        },
        "outputId": "0ccf15d4-ff67-4303-a6b4-35402df318a8"
      },
      "source": [
        "df.loc[df['País'] == 'Timor' , ['País']] = 'Timor Leste'\n",
        "df.loc[df['País'] == 'Republic of the Congo' , ['País']] = 'Congo'\n",
        "df.loc[df['País'] == 'Faeroe Islands' , ['País']] = 'Faroe Islands'\n",
        "df.loc[df['País'] == 'Falkland Islands' , ['País']] = 'Islas Malvinas'\n",
        "df.loc[df['País'] == 'Micronesia (country)' , ['País']] = 'Micronesia'\n",
        "df.loc[df['País'] == 'Congo (Democratic Republic of the)' , ['País']] = 'Democratic Republic of the Congo'\n"
      ],
      "execution_count": null,
      "outputs": [
        {
          "output_type": "stream",
          "name": "stderr",
          "text": [
            "/usr/local/lib/python3.7/dist-packages/pandas/core/indexing.py:1763: SettingWithCopyWarning: \n",
            "A value is trying to be set on a copy of a slice from a DataFrame.\n",
            "Try using .loc[row_indexer,col_indexer] = value instead\n",
            "\n",
            "See the caveats in the documentation: https://pandas.pydata.org/pandas-docs/stable/user_guide/indexing.html#returning-a-view-versus-a-copy\n",
            "  isetter(loc, value)\n"
          ]
        }
      ]
    },
    {
      "cell_type": "code",
      "metadata": {
        "id": "QDQzN2aCyuPZ"
      },
      "source": [
        "pd.unique(df['País'])"
      ],
      "execution_count": null,
      "outputs": []
    },
    {
      "cell_type": "markdown",
      "metadata": {
        "id": "kJtEzfhVJgqZ"
      },
      "source": [
        "Importação do arquivo em formato CSV para o bucket"
      ]
    },
    {
      "cell_type": "code",
      "metadata": {
        "id": "_Nohk9aAzNo8"
      },
      "source": [
        "client=storage.Client()\n",
        "#a variável bucket recebe o nome do bucket do cloud storage\n",
        "bucket=client.get_bucket('projeto-final-bucket-g5')\n",
        "#caminho de destino, pasta saída, o qual será salvo o arquivo em formato csv\n",
        "bucket.blob('saida/df_emissoes_pandas_tratamento1.csv').upload_from_string(df.to_csv(index=False), 'text/cvs')"
      ],
      "execution_count": null,
      "outputs": []
    },
    {
      "cell_type": "markdown",
      "metadata": {
        "id": "FhaA4VU-SYOe"
      },
      "source": [
        "O arquivo a cima foi salvo no intuito de utilizar a ferramenta DataPrep para ter uma melhor vizualização dos dados e assim continuar com os tratamentos necessarios.\n",
        "\n",
        "* Foram analisados os valores de emissão de CO2 e de Temperatura (no dataset de temperatura) e definido um intervalo de anos a serem analisados (1900 - 2012)."
      ]
    },
    {
      "cell_type": "code",
      "metadata": {
        "id": "E0WdPSpoT0m1"
      },
      "source": [
        "#Definição do intervalo após ano de 1900\n",
        "filtro_anomin = df.Ano >= 1900\n",
        "df=df.loc[filtro_anomin]"
      ],
      "execution_count": null,
      "outputs": []
    },
    {
      "cell_type": "markdown",
      "metadata": {
        "id": "IcxCm6JcXGrV"
      },
      "source": [
        "Validação com Pandera"
      ]
    },
    {
      "cell_type": "code",
      "metadata": {
        "id": "COpdnDX1XFbm"
      },
      "source": [
        "#construção da base de comparação para validação\n",
        "schema = pa.DataFrameSchema(\n",
        "    columns = {  \n",
        "        \"País\":pa.Column(pa.String),\n",
        "        \"Código\":pa.Column(pa.String,pa.Check.str_length(3,3), nullable=True),\n",
        "        \"Ano\":pa.Column(pa.Int),\n",
        "        \"Emissão CO₂ (ton/ano)\":pa.Column(pa.Float, nullable=True)\n",
        "        }\n",
        ")"
      ],
      "execution_count": null,
      "outputs": []
    },
    {
      "cell_type": "code",
      "metadata": {
        "colab": {
          "base_uri": "https://localhost:8080/",
          "height": 424
        },
        "id": "JW0_YDiTXofF",
        "outputId": "e6141721-81ff-4db9-f67f-306b8add5af8"
      },
      "source": [
        "schema.validate(df)"
      ],
      "execution_count": null,
      "outputs": [
        {
          "output_type": "execute_result",
          "data": {
            "text/html": [
              "<div>\n",
              "<style scoped>\n",
              "    .dataframe tbody tr th:only-of-type {\n",
              "        vertical-align: middle;\n",
              "    }\n",
              "\n",
              "    .dataframe tbody tr th {\n",
              "        vertical-align: top;\n",
              "    }\n",
              "\n",
              "    .dataframe thead th {\n",
              "        text-align: right;\n",
              "    }\n",
              "</style>\n",
              "<table border=\"1\" class=\"dataframe\">\n",
              "  <thead>\n",
              "    <tr style=\"text-align: right;\">\n",
              "      <th></th>\n",
              "      <th>País</th>\n",
              "      <th>Código</th>\n",
              "      <th>Ano</th>\n",
              "      <th>Emissão CO₂ (ton/ano)</th>\n",
              "    </tr>\n",
              "  </thead>\n",
              "  <tbody>\n",
              "    <tr>\n",
              "      <th>0</th>\n",
              "      <td>Afghanistan</td>\n",
              "      <td>AFG</td>\n",
              "      <td>1949</td>\n",
              "      <td>14656.00</td>\n",
              "    </tr>\n",
              "    <tr>\n",
              "      <th>1</th>\n",
              "      <td>Afghanistan</td>\n",
              "      <td>AFG</td>\n",
              "      <td>1950</td>\n",
              "      <td>84272.00</td>\n",
              "    </tr>\n",
              "    <tr>\n",
              "      <th>2</th>\n",
              "      <td>Afghanistan</td>\n",
              "      <td>AFG</td>\n",
              "      <td>1951</td>\n",
              "      <td>91600.00</td>\n",
              "    </tr>\n",
              "    <tr>\n",
              "      <th>3</th>\n",
              "      <td>Afghanistan</td>\n",
              "      <td>AFG</td>\n",
              "      <td>1952</td>\n",
              "      <td>91600.00</td>\n",
              "    </tr>\n",
              "    <tr>\n",
              "      <th>4</th>\n",
              "      <td>Afghanistan</td>\n",
              "      <td>AFG</td>\n",
              "      <td>1953</td>\n",
              "      <td>106256.00</td>\n",
              "    </tr>\n",
              "    <tr>\n",
              "      <th>...</th>\n",
              "      <td>...</td>\n",
              "      <td>...</td>\n",
              "      <td>...</td>\n",
              "      <td>...</td>\n",
              "    </tr>\n",
              "    <tr>\n",
              "      <th>20843</th>\n",
              "      <td>Zimbabwe</td>\n",
              "      <td>ZWE</td>\n",
              "      <td>2008</td>\n",
              "      <td>7718874.78</td>\n",
              "    </tr>\n",
              "    <tr>\n",
              "      <th>20844</th>\n",
              "      <td>Zimbabwe</td>\n",
              "      <td>ZWE</td>\n",
              "      <td>2009</td>\n",
              "      <td>5519508.33</td>\n",
              "    </tr>\n",
              "    <tr>\n",
              "      <th>20845</th>\n",
              "      <td>Zimbabwe</td>\n",
              "      <td>ZWE</td>\n",
              "      <td>2010</td>\n",
              "      <td>7681010.98</td>\n",
              "    </tr>\n",
              "    <tr>\n",
              "      <th>20846</th>\n",
              "      <td>Zimbabwe</td>\n",
              "      <td>ZWE</td>\n",
              "      <td>2011</td>\n",
              "      <td>9439850.98</td>\n",
              "    </tr>\n",
              "    <tr>\n",
              "      <th>20847</th>\n",
              "      <td>Zimbabwe</td>\n",
              "      <td>ZWE</td>\n",
              "      <td>2012</td>\n",
              "      <td>7614600.24</td>\n",
              "    </tr>\n",
              "  </tbody>\n",
              "</table>\n",
              "<p>14505 rows × 4 columns</p>\n",
              "</div>"
            ],
            "text/plain": [
              "              País Código   Ano  Emissão CO₂ (ton/ano)\n",
              "0      Afghanistan    AFG  1949               14656.00\n",
              "1      Afghanistan    AFG  1950               84272.00\n",
              "2      Afghanistan    AFG  1951               91600.00\n",
              "3      Afghanistan    AFG  1952               91600.00\n",
              "4      Afghanistan    AFG  1953              106256.00\n",
              "...            ...    ...   ...                    ...\n",
              "20843     Zimbabwe    ZWE  2008             7718874.78\n",
              "20844     Zimbabwe    ZWE  2009             5519508.33\n",
              "20845     Zimbabwe    ZWE  2010             7681010.98\n",
              "20846     Zimbabwe    ZWE  2011             9439850.98\n",
              "20847     Zimbabwe    ZWE  2012             7614600.24\n",
              "\n",
              "[14505 rows x 4 columns]"
            ]
          },
          "metadata": {},
          "execution_count": 26
        }
      ]
    },
    {
      "cell_type": "markdown",
      "metadata": {
        "id": "RN4czlPkngxU"
      },
      "source": [
        "Arquivo salvo diretamento para o Bucket (Data Lake) da Google Cloud Storage."
      ]
    },
    {
      "cell_type": "code",
      "metadata": {
        "id": "U1j0XlMsfRyp"
      },
      "source": [
        "client=storage.Client()\n",
        "bucket=client.get_bucket('projeto-final-bucket-g5')\n",
        "bucket.blob('saida/df_emissoes_pandas_tratado_final.csv').upload_from_string(df.to_csv(index=False), 'text/cvs')"
      ],
      "execution_count": null,
      "outputs": []
    },
    {
      "cell_type": "markdown",
      "metadata": {
        "id": "wUaGS-chRrkj"
      },
      "source": [
        "##PYSPARK"
      ]
    },
    {
      "cell_type": "markdown",
      "metadata": {
        "id": "XFwPIj3KRxbP"
      },
      "source": [
        "Instalação da pacote Pyspark"
      ]
    },
    {
      "cell_type": "code",
      "metadata": {
        "id": "uiIiqvY9Ryzq"
      },
      "source": [
        "!pip install pyspark"
      ],
      "execution_count": null,
      "outputs": []
    },
    {
      "cell_type": "markdown",
      "metadata": {
        "id": "bhSc5AuNR1jb"
      },
      "source": [
        "Importação de módulos e de funções específicas dentro da biblioteca Pyspark"
      ]
    },
    {
      "cell_type": "code",
      "metadata": {
        "id": "CQ3LGnNyR4TZ"
      },
      "source": [
        "from pyspark.sql import SparkSession\n",
        "#ParkSession é uma string de conexão, na qual serão definidos os devidos parâmetros\n",
        "import pyspark.sql.functions as F\n",
        "#importação da biblioteca de funções do pacote spark atribuindo F para o uso durante o código\n",
        "from pyspark.sql.types import StructType,StructField, StringType, IntegerType, FloatType, DoubleType, DateType, ArrayType, DoubleType, BooleanType\n",
        "#importação dos tipos de variaveis para futura estruturação e validação\n",
        "from pyspark.sql.functions import col,array_contains\n",
        "from pyspark.sql.window import Window\n",
        "#importação de funções do tipo window"
      ],
      "execution_count": null,
      "outputs": []
    },
    {
      "cell_type": "markdown",
      "metadata": {
        "id": "_nax32peR-F7"
      },
      "source": [
        "Configurando a SparkSession"
      ]
    },
    {
      "cell_type": "code",
      "metadata": {
        "id": "6aZ9cKT-SEdB"
      },
      "source": [
        "spark = SparkSession.builder\\\n",
        "        .master(\"local\")\\ #master: local, cluester, ou local onde irá rodar a sessão\n",
        "        .appName(\"dataframe_emissoes\")\\#identificaçao do aplicação a ser criad\n",
        "        .config(\"spark.ui.port\",\"4050\")\\#configurção via API com apache spark, e definção da porta UI, que no caso do colab é 4050\n",
        "        .getOrCreate()#iniciar a sessão"
      ],
      "execution_count": null,
      "outputs": []
    },
    {
      "cell_type": "markdown",
      "metadata": {
        "id": "WR3vWo-RSGPz"
      },
      "source": [
        "Criando o Esquema/Schema com a função StructType, usando o dataframe já criado na etapa do Pandas. Aqui, apesar da validação feita anteriormente, é interessante o uso do StructType para grantir os tipos das variáveis no momento da criação do dataframe no pyspark, assim a efetuação de calculos e manipulações corretamente."
      ]
    },
    {
      "cell_type": "code",
      "metadata": {
        "colab": {
          "base_uri": "https://localhost:8080/"
        },
        "id": "GuHN60E1SJKY",
        "outputId": "6c4fcc86-bb8f-4b58-ec0d-0b196a056420"
      },
      "source": [
        "schema = StructType() \\\n",
        "      .add(\"País\",StringType(),False) \\\n",
        "      .add(\"Código\", StringType(), True) \\\n",
        "      .add(\"Ano\", IntegerType(), False) \\\n",
        "      .add(\"Emissão CO₂ (ton/ano)\", FloatType(), True)     \n",
        "   \n",
        "\n",
        "dfCO2_spark = spark.createDataFrame(df, schema=schema)\n",
        "#aqui o df da etapa anterior foi passado como parâmetro de dados\n",
        "dfCO2_spark.printSchema()"
      ],
      "execution_count": null,
      "outputs": [
        {
          "output_type": "stream",
          "name": "stdout",
          "text": [
            "root\n",
            " |-- País: string (nullable = false)\n",
            " |-- Código: string (nullable = true)\n",
            " |-- Ano: integer (nullable = false)\n",
            " |-- Emissão CO₂ (ton/ano): float (nullable = true)\n",
            "\n"
          ]
        }
      ]
    },
    {
      "cell_type": "code",
      "metadata": {
        "colab": {
          "base_uri": "https://localhost:8080/"
        },
        "id": "M4mRp-QJSgUR",
        "outputId": "757e4d47-d235-498d-bdfc-cc2d2fb7aab6"
      },
      "source": [
        "dfCO2_spark.show()"
      ],
      "execution_count": null,
      "outputs": [
        {
          "output_type": "stream",
          "name": "stdout",
          "text": [
            "+-----------+------+----+---------------------+\n",
            "|       País|Código| Ano|Emissão CO₂ (ton/ano)|\n",
            "+-----------+------+----+---------------------+\n",
            "|Afghanistan|   AFG|1949|              14656.0|\n",
            "|Afghanistan|   AFG|1950|              84272.0|\n",
            "|Afghanistan|   AFG|1951|              91600.0|\n",
            "|Afghanistan|   AFG|1952|              91600.0|\n",
            "|Afghanistan|   AFG|1953|             106256.0|\n",
            "|Afghanistan|   AFG|1954|             106256.0|\n",
            "|Afghanistan|   AFG|1955|             153888.0|\n",
            "|Afghanistan|   AFG|1956|             183200.0|\n",
            "|Afghanistan|   AFG|1957|             293120.0|\n",
            "|Afghanistan|   AFG|1958|             329760.0|\n",
            "|Afghanistan|   AFG|1959|             384571.4|\n",
            "|Afghanistan|   AFG|1960|             413883.4|\n",
            "|Afghanistan|   AFG|1961|             490797.7|\n",
            "|Afghanistan|   AFG|1962|            688594.25|\n",
            "|Afghanistan|   AFG|1963|             706736.0|\n",
            "|Afghanistan|   AFG|1964|             838550.8|\n",
            "|Afghanistan|   AFG|1965|            1006916.5|\n",
            "|Afghanistan|   AFG|1966|            1091158.9|\n",
            "|Afghanistan|   AFG|1967|            1281865.1|\n",
            "|Afghanistan|   AFG|1968|            1223389.8|\n",
            "+-----------+------+----+---------------------+\n",
            "only showing top 20 rows\n",
            "\n"
          ]
        }
      ]
    },
    {
      "cell_type": "markdown",
      "metadata": {
        "id": "Rcn4AHZULFZ8"
      },
      "source": [
        "A célula abaixo é responsável pela criação da coluna Diferença Emissões (ton), a qual é preenchida com a função de janela 'lag', que preenche cada elemento fazendo a diferença da emissão de CO2 do ano seguinte em relação ao ano anterior. "
      ]
    },
    {
      "cell_type": "code",
      "metadata": {
        "colab": {
          "base_uri": "https://localhost:8080/"
        },
        "id": "x9jRfAkBetXX",
        "outputId": "63768c2d-84c5-4ce9-acc9-09bfce3a56c1"
      },
      "source": [
        "lag_window = Window.partitionBy('País').orderBy('País','Ano')\n",
        "#criação do que chamamos de window, que é uma partição dos dados a qual será submetida ao uso da função 'lag' para criação da coluna de Diferença Emissções (ton)\n",
        "\n",
        "dfCO2_spark = (\n",
        "        dfCO2_spark.select('País', 'Código','Ano', 'Emissão CO₂ (ton/ano)')\n",
        "        .withColumn('Diferenca Emissões(ton)', F.col('Emissão CO₂ (ton/ano)') - F.lag('Emissão CO₂ (ton/ano)')\n",
        "        .over(lag_window))\n",
        ")\n",
        "dfCO2_spark.show()"
      ],
      "execution_count": null,
      "outputs": [
        {
          "output_type": "stream",
          "name": "stdout",
          "text": [
            "+-----------+------+----+---------------------+-----------------------+\n",
            "|       País|Código| Ano|Emissão CO₂ (ton/ano)|Diferenca Emissões(ton)|\n",
            "+-----------+------+----+---------------------+-----------------------+\n",
            "|Afghanistan|   AFG|1949|              14656.0|                   null|\n",
            "|Afghanistan|   AFG|1950|              84272.0|                69616.0|\n",
            "|Afghanistan|   AFG|1951|              91600.0|                 7328.0|\n",
            "|Afghanistan|   AFG|1952|              91600.0|                    0.0|\n",
            "|Afghanistan|   AFG|1953|             106256.0|                14656.0|\n",
            "|Afghanistan|   AFG|1954|             106256.0|                    0.0|\n",
            "|Afghanistan|   AFG|1955|             153888.0|                47632.0|\n",
            "|Afghanistan|   AFG|1956|             183200.0|                29312.0|\n",
            "|Afghanistan|   AFG|1957|             293120.0|               109920.0|\n",
            "|Afghanistan|   AFG|1958|             329760.0|                36640.0|\n",
            "|Afghanistan|   AFG|1959|             384571.4|              54811.406|\n",
            "|Afghanistan|   AFG|1960|             413883.4|                29312.0|\n",
            "|Afghanistan|   AFG|1961|             490797.7|               76914.28|\n",
            "|Afghanistan|   AFG|1962|            688594.25|              197796.56|\n",
            "|Afghanistan|   AFG|1963|             706736.0|               18141.75|\n",
            "|Afghanistan|   AFG|1964|             838550.8|              131814.81|\n",
            "|Afghanistan|   AFG|1965|            1006916.5|              168365.69|\n",
            "|Afghanistan|   AFG|1966|            1091158.9|              84242.375|\n",
            "|Afghanistan|   AFG|1967|            1281865.1|              190706.25|\n",
            "|Afghanistan|   AFG|1968|            1223389.8|             -58475.375|\n",
            "+-----------+------+----+---------------------+-----------------------+\n",
            "only showing top 20 rows\n",
            "\n"
          ]
        }
      ]
    },
    {
      "cell_type": "markdown",
      "metadata": {
        "id": "DhEbnhuZRGzF"
      },
      "source": [
        "Salvando o arquivo no Google Drive"
      ]
    },
    {
      "cell_type": "code",
      "metadata": {
        "id": "tNreNhpSOZnS"
      },
      "source": [
        "dfCO2_spark.write.format(\"csv\") \\\n",
        ".option(\"header\", \"true\") \\\n",
        ".option(\"inferschema\", \"true\") \\\n",
        ".option(\"delimiter\", \",\") \\\n",
        ".save(\"/content/drive/MyDrive/dados_soulcode/dfCO2.csv\")"
      ],
      "execution_count": null,
      "outputs": []
    },
    {
      "cell_type": "markdown",
      "metadata": {
        "id": "R1YgdfvrROnD"
      },
      "source": [
        "Montagem da pasta /drive para poder acessar a pasta /MyDrive, onde o arquivo \n",
        "com o dataframe tratado com pyspark estava salvo."
      ]
    },
    {
      "cell_type": "code",
      "metadata": {
        "colab": {
          "base_uri": "https://localhost:8080/"
        },
        "id": "AlE_nS1zxpGL",
        "outputId": "25d0f5f8-274f-4dc4-9495-48f838bea3b8"
      },
      "source": [
        "from google.colab import drive\n",
        "drive.mount('/content/drive')"
      ],
      "execution_count": null,
      "outputs": [
        {
          "output_type": "stream",
          "name": "stdout",
          "text": [
            "Drive already mounted at /content/drive; to attempt to forcibly remount, call drive.mount(\"/content/drive\", force_remount=True).\n"
          ]
        }
      ]
    },
    {
      "cell_type": "markdown",
      "metadata": {
        "id": "Oe0vofcxLvXq"
      },
      "source": [
        "Definição de função, para poder salvar o arquivo pyspark diretamente para o Bucket/Data Lake, utilizando como intermédio o ambiente do drive"
      ]
    },
    {
      "cell_type": "code",
      "metadata": {
        "id": "JGijdVNypfhh"
      },
      "source": [
        "def upload_blob(bucket_name, source_file_name, destination_blob_name):\n",
        "    \"\"\"Uploads a file to the bucket.\"\"\"\n",
        "    # The ID of your GCS bucket\n",
        "    # bucket_name = \"your-bucket-name\"\n",
        "    # The path to your file to upload\n",
        "    # source_file_name = \"local/path/to/file\"\n",
        "    # The ID of your GCS object\n",
        "    # destination_blob_name = \"storage-object-name\"\n",
        "\n",
        "    storage_client = storage.Client()\n",
        "    bucket = storage_client.bucket(bucket_name)\n",
        "    blob = bucket.blob(destination_blob_name)\n",
        "\n",
        "    blob.upload_from_filename(source_file_name)\n",
        "\n",
        "    print(\n",
        "        \"File {} uploaded to {}.\".format(\n",
        "            source_file_name, destination_blob_name\n",
        "        )\n",
        "    )"
      ],
      "execution_count": null,
      "outputs": []
    },
    {
      "cell_type": "markdown",
      "metadata": {
        "id": "Qlai1ocLSP5L"
      },
      "source": [
        "Arquivo salvo no Bucket/Data Lake:"
      ]
    },
    {
      "cell_type": "code",
      "metadata": {
        "colab": {
          "base_uri": "https://localhost:8080/"
        },
        "id": "7PpbYpUKQHam",
        "outputId": "d7a1425d-3a43-4a1e-c50f-1ce03675cb80"
      },
      "source": [
        "upload_blob(\"projeto-final-bucket-g5\", \"/content/drive/MyDrive/dados_soulcode/dfCO2.csv/dfCO2pyspark.csv\", \"saida/df_sparkCO2_emissoes_pyspark_final.csv\")\n"
      ],
      "execution_count": null,
      "outputs": [
        {
          "output_type": "stream",
          "name": "stdout",
          "text": [
            "File /content/drive/MyDrive/dados_soulcode/dfCO2.csv/dfCO2pyspark.csv uploaded to saida/df_sparkCO2_emissoes_pyspark_final.csv.\n"
          ]
        }
      ]
    }
  ]
}