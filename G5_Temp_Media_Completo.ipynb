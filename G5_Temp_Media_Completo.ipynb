{
  "nbformat": 4,
  "nbformat_minor": 0,
  "metadata": {
    "colab": {
      "name": "G5_Temp_Media_Completo.ipynb",
      "provenance": [],
      "collapsed_sections": [],
      "include_colab_link": true
    },
    "kernelspec": {
      "name": "python3",
      "display_name": "Python 3"
    },
    "language_info": {
      "name": "python"
    }
  },
  "cells": [
    {
      "cell_type": "markdown",
      "metadata": {
        "id": "view-in-github",
        "colab_type": "text"
      },
      "source": [
        "<a href=\"https://colab.research.google.com/github/LucasBrandaoGomes/Projeto-ETL-Consultas-SQL/blob/main/G5_Temp_Media_Completo.ipynb\" target=\"_parent\"><img src=\"https://colab.research.google.com/assets/colab-badge.svg\" alt=\"Open In Colab\"/></a>"
      ]
    },
    {
      "cell_type": "markdown",
      "metadata": {
        "id": "eiKbdlJjM4No"
      },
      "source": [
        "# Pandas"
      ]
    },
    {
      "cell_type": "markdown",
      "metadata": {
        "id": "ygortuiQR7Bg"
      },
      "source": [
        "Instalação do pacote gcsfs para acesso de arquivos direto do GCStorage"
      ]
    },
    {
      "cell_type": "code",
      "metadata": {
        "id": "BLy0elBkLTN8"
      },
      "source": [
        "pip install gcsfs"
      ],
      "execution_count": null,
      "outputs": []
    },
    {
      "cell_type": "markdown",
      "metadata": {
        "id": "OT20clfCR8Qu"
      },
      "source": [
        "Instalação do pacote Pandera para validação de dados"
      ]
    },
    {
      "cell_type": "code",
      "metadata": {
        "id": "eh-bsmdraFkt"
      },
      "source": [
        "pip install pandera"
      ],
      "execution_count": null,
      "outputs": []
    },
    {
      "cell_type": "markdown",
      "metadata": {
        "id": "Cl1cxZnGSDUu"
      },
      "source": [
        "Importação de biblioteca para autenticação da service account e uso dos arquivos do bucket GCP"
      ]
    },
    {
      "cell_type": "code",
      "metadata": {
        "id": "uo0ulBlZSLJB"
      },
      "source": [
        "import os"
      ],
      "execution_count": null,
      "outputs": []
    },
    {
      "cell_type": "markdown",
      "metadata": {
        "id": "ODz0W__4SQKi"
      },
      "source": [
        "Importação de bibliotecas a serem utilizadas na etapa de tratamento pandas/pandera."
      ]
    },
    {
      "cell_type": "code",
      "metadata": {
        "id": "EDS2RMxAFnnl"
      },
      "source": [
        "import pandas as pd\n",
        "import pandera as pa\n",
        "from google.cloud import storage\n"
      ],
      "execution_count": null,
      "outputs": []
    },
    {
      "cell_type": "markdown",
      "metadata": {
        "id": "vHfs99lMSt_O"
      },
      "source": [
        "Montagem da pasta /drive para poder acessar a pasta /MyDrive e futuramente enviar/importar arquivos do bucket"
      ]
    },
    {
      "cell_type": "code",
      "metadata": {
        "id": "zXZtpWcXxRHi"
      },
      "source": [
        "from google.colab import drive\n",
        "drive.mount('/content/drive')"
      ],
      "execution_count": null,
      "outputs": []
    },
    {
      "cell_type": "markdown",
      "metadata": {
        "id": "2iFL3wWgS_BU"
      },
      "source": [
        "Foi criada uma conta de serviço relacionada ao Bucket do CloudStorage bem como uma chave para interação entre as ferramentas. A seguir o arquivo de chave da conta de servico é atribuida a variável serviceAccount."
      ]
    },
    {
      "cell_type": "code",
      "metadata": {
        "id": "OvNCWIVbF-OF"
      },
      "source": [
        "serviceAccount = '/content/projetofinal-grupo5-d2c4a9d78233.json'\n",
        "\n",
        "os.environ['GOOGLE_APPLICATION_CREDENTIALS'] = serviceAccount"
      ],
      "execution_count": null,
      "outputs": []
    },
    {
      "cell_type": "markdown",
      "metadata": {
        "id": "Vdv4gOkVTLQM"
      },
      "source": [
        "Leitura do arquivo CSV utilizando o URI do arquivo no bucket."
      ]
    },
    {
      "cell_type": "code",
      "metadata": {
        "id": "LvMAlvAcQBW0"
      },
      "source": [
        "client = storage.Client()\n",
        "bucket = client.get_bucket('projeto-final-bucket-g5')\n",
        "#a variável bucket recebe o nome identico do bucket do cloud storage\n",
        "bucket.blob('Temperatura_media_pais.csv')\n",
        "#a variável bucket_blob recebe o nome do arquivo\n",
        "path = 'gs://projeto-final-bucket-g5/entrada/Temperatura_media_pais.csv'\n",
        "# a variável path recebe o caminho do arquivo (URI) do arquivo\n",
        "df_orig = pd.read_csv(path, parse_dates=['dt'])\n",
        "#leitura do arquivo e método parse-date que pega uma string de data formatada customizada e a converte em uma string de dados formatada padrão do esquema XML (YYYY-MM-DD)\n",
        "\n",
        "df_orig"
      ],
      "execution_count": null,
      "outputs": []
    },
    {
      "cell_type": "code",
      "metadata": {
        "id": "7bptukf1F-hT"
      },
      "source": [
        "#verificação do tipo do dado\n",
        "df_orig.dtypes"
      ],
      "execution_count": null,
      "outputs": []
    },
    {
      "cell_type": "markdown",
      "metadata": {
        "id": "fDKb05AHMx_f"
      },
      "source": [
        "Criação de um data frame de Backup"
      ]
    },
    {
      "cell_type": "code",
      "metadata": {
        "id": "cvB4FoAkMsPs"
      },
      "source": [
        "df = df_orig.copy()"
      ],
      "execution_count": null,
      "outputs": []
    },
    {
      "cell_type": "code",
      "metadata": {
        "id": "nb_XxfqLW61y"
      },
      "source": [
        "df.head(1)"
      ],
      "execution_count": null,
      "outputs": []
    },
    {
      "cell_type": "markdown",
      "metadata": {
        "id": "l9RHdmYzNxFo"
      },
      "source": [
        "Lista países"
      ]
    },
    {
      "cell_type": "code",
      "metadata": {
        "id": "cXepMIkNCXZT"
      },
      "source": [
        "df['Country'].unique()"
      ],
      "execution_count": null,
      "outputs": []
    },
    {
      "cell_type": "markdown",
      "metadata": {
        "id": "ZVib50lLX5zK"
      },
      "source": [
        "Países para verificar:\n",
        "\n",
        "\n",
        "Dropar: 'Aland', 'Africa', 'America Samoa', 'Asia', 'Baker Island', 'Bonaire', 'Saint Eustatius And Saba',\n",
        "'Gongo', 'Dinamarka', 'Europa', 'France', 'French Southern And Antarctic Lands', 'Gaza Strip', 'Guam', 'Guernsey',\n",
        "'Heard Island And Mcdonald Islands', 'Isle Of Man', 'Jersey', 'Kingman Reef', 'Mayotte', 'Monaco', 'Netherlands', 'North America',\n",
        "'Northern Mariana Islands', 'Oceania', 'Palmyra Atoll', 'Puerto Rico', 'Saint Barthélemy','Saint Martin', 'Saint Pierre And Miquelon',\n",
        "'San Marino',  'Sint Maarten', 'South America', 'South Georgia And The South Sandwich Isla', 'Svalbard And Jan Mayen','United Kingdom (Europe)',\n",
        "'Virgin Islands', 'Western Sahara'\n",
        "<br>\n",
        "<br>\n",
        "Trocar: \n",
        "* 'Burma' por 'Myanmar'\n",
        "* \"Côte D'Ivoire\" por \"Cote d'Ivoire\"\n",
        "* 'Curaçao' por 'Curacao'\n",
        "* 'Denmark (Europe)' por 'Denmark'\n",
        "* 'Falkland Islands (Islas Malvinas)' por 'Islas Malvinas'\n",
        "* 'Federated States Of Micronesia' por 'Micronesia'\n",
        "* 'France (Europe)' por 'France'\n",
        "* 'Netherlands (Europe)' por 'Netherlands'\n",
        "* 'United Kingdom (Europe)' por 'United Kingdom'\n",
        "* 'Turks And Caicas Islands' por 'Turks And Caicos Islands'"
      ]
    },
    {
      "cell_type": "markdown",
      "metadata": {
        "id": "V2PYfAx0ZqBO"
      },
      "source": [
        "Eliminar linhas de países que não coincidem com o dataset de emissão de CO2"
      ]
    },
    {
      "cell_type": "code",
      "metadata": {
        "id": "Elx8u9GSQ-hN"
      },
      "source": [
        "# Dropar países\n",
        "\n",
        "df.drop(df[(df['Country'] == 'Åland')].index, inplace=True)\n",
        "df.drop(df[(df['Country'] == 'Africa')].index, inplace=True)\n",
        "df.drop(df[(df['Country'] == 'American Samoa')].index, inplace=True)\n",
        "df.drop(df[(df['Country'] == 'Asia')].index, inplace=True)\n",
        "df.drop(df[(df['Country'] == 'Baker Island')].index, inplace=True)\n",
        "df.drop(df[(df['Country'] == 'Bonaire, Saint Eustatius And Saba')].index, inplace=True)\n",
        "df.drop(df[(df['Country'] == 'Denmark')].index, inplace=True)\n",
        "df.drop(df[(df['Country'] == 'Europa')].index, inplace=True)\n",
        "df.drop(df[(df['Country'] == 'France')].index, inplace=True)\n",
        "df.drop(df[(df['Country'] == 'French Southern And Antarctic Lands')].index, inplace=True)\n",
        "df.drop(df[(df['Country'] == 'Gaza Strip')].index, inplace=True)\n",
        "df.drop(df[(df['Country'] == 'Guam')].index, inplace=True)\n",
        "df.drop(df[(df['Country'] == 'Guernsey')].index, inplace=True)\n",
        "df.drop(df[(df['Country'] == 'Heard Island And Mcdonald Islands')].index, inplace=True)\n",
        "df.drop(df[(df['Country'] == 'Isle Of Man')].index, inplace=True)\n",
        "df.drop(df[(df['Country'] == 'Jersey')].index, inplace=True)\n",
        "df.drop(df[(df['Country'] == 'Kingman Reef')].index, inplace=True)\n",
        "df.drop(df[(df['Country'] == 'Mayotte')].index, inplace=True)\n",
        "df.drop(df[(df['Country'] == 'Monaco')].index, inplace=True)\n",
        "df.drop(df[(df['Country'] == 'Netherlands')].index, inplace=True)\n",
        "df.drop(df[(df['Country'] == 'North America')].index, inplace=True)\n",
        "df.drop(df[(df['Country'] == 'Northern Mariana Islands')].index, inplace=True)\n",
        "df.drop(df[(df['Country'] == 'Oceania')].index, inplace=True)\n",
        "df.drop(df[(df['Country'] == 'Palmyra Atoll')].index, inplace=True)\n",
        "df.drop(df[(df['Country'] == 'Puerto Rico')].index, inplace=True)\n",
        "df.drop(df[(df['Country'] == 'Saint Barthélemy')].index, inplace=True)\n",
        "df.drop(df[(df['Country'] == 'Saint Martin')].index, inplace=True)\n",
        "df.drop(df[(df['Country'] == 'Saint Pierre And Miquelon')].index, inplace=True)\n",
        "df.drop(df[(df['Country'] == 'San Marino')].index, inplace=True)\n",
        "df.drop(df[(df['Country'] == 'Sint Maarten')].index, inplace=True)\n",
        "df.drop(df[(df['Country'] == 'South America')].index, inplace=True)\n",
        "df.drop(df[(df['Country'] == 'South Georgia And The South Sandwich Isla')].index, inplace=True)\n",
        "df.drop(df[(df['Country'] == 'Svalbard And Jan Mayen')].index, inplace=True)\n",
        "df.drop(df[(df['Country'] == 'United Kingdom')].index, inplace=True)\n",
        "df.drop(df[(df['Country'] == 'Virgin Islands')].index, inplace=True)\n",
        "df.drop(df[(df['Country'] == 'Western Sahara')].index, inplace=True)"
      ],
      "execution_count": null,
      "outputs": []
    },
    {
      "cell_type": "code",
      "metadata": {
        "id": "4Zr9MgPDYit1"
      },
      "source": [
        "df.loc[df['Country'] == 'Virgin Islands']"
      ],
      "execution_count": null,
      "outputs": []
    },
    {
      "cell_type": "markdown",
      "metadata": {
        "id": "UmafmClzY1A1"
      },
      "source": [
        "  Correção de nomes de países de acordo com a lista padrão"
      ]
    },
    {
      "cell_type": "code",
      "metadata": {
        "id": "rO5CjvsrY39C"
      },
      "source": [
        "df.loc[df.Country == 'Burma' , ['Country']] = 'Myanmar'\n",
        "df.loc[df.Country == \"Côte D'Ivoire\" , ['Country']] = \"Cote d'Ivoire\"\n",
        "df.loc[df.Country == 'Curaçao' , ['Country']] = 'Curacao'\n",
        "df.loc[df.Country == 'Denmark (Europe)' , ['Country']] = 'Denmark'\n",
        "df.loc[df.Country == 'Falkland Islands (Islas Malvinas)' , ['Country']] = 'Islas Malvinas'\n",
        "df.loc[df.Country == 'Federated States Of Micronesia' , ['Country']] = 'Micronesia'\n",
        "df.loc[df.Country == 'France (Europe)' , ['Country']] = 'France'\n",
        "df.loc[df.Country == 'Netherlands (Europe)' , ['Country']] = 'Netherlands'\n",
        "df.loc[df.Country == 'United Kingdom (Europe)' , ['Country']] = 'United Kingdom'\n",
        "df.loc[df.Country == 'Turks And Caicas Islands' , ['Country']] = 'Turks And Caicos Islands'"
      ],
      "execution_count": null,
      "outputs": []
    },
    {
      "cell_type": "code",
      "metadata": {
        "id": "2wsb1U_iZUz8"
      },
      "source": [
        "df.loc[df['Country'] == 'Myanmar']"
      ],
      "execution_count": null,
      "outputs": []
    },
    {
      "cell_type": "markdown",
      "metadata": {
        "id": "KWk17-_BWhZM"
      },
      "source": [
        "Renomear / Traduzir colunas"
      ]
    },
    {
      "cell_type": "code",
      "metadata": {
        "id": "86f97hqVC-DI"
      },
      "source": [
        "(\n",
        "df.rename(columns={'dt': 'Data', 'AverageTemperature': 'TemperaturaMedia', \n",
        "                   'AverageTemperatureUncertainty': 'CertitudeTempMedia', 'Country': 'País'}\n",
        "                        , inplace=True) \n",
        ")"
      ],
      "execution_count": null,
      "outputs": []
    },
    {
      "cell_type": "code",
      "metadata": {
        "id": "7hY17MbWZ_uf",
        "colab": {
          "base_uri": "https://localhost:8080/",
          "height": 81
        },
        "outputId": "419d8965-cfbe-4459-c30a-62e6d99b1d2f"
      },
      "source": [
        "df.head(1)"
      ],
      "execution_count": null,
      "outputs": [
        {
          "output_type": "execute_result",
          "data": {
            "text/html": [
              "<div>\n",
              "<style scoped>\n",
              "    .dataframe tbody tr th:only-of-type {\n",
              "        vertical-align: middle;\n",
              "    }\n",
              "\n",
              "    .dataframe tbody tr th {\n",
              "        vertical-align: top;\n",
              "    }\n",
              "\n",
              "    .dataframe thead th {\n",
              "        text-align: right;\n",
              "    }\n",
              "</style>\n",
              "<table border=\"1\" class=\"dataframe\">\n",
              "  <thead>\n",
              "    <tr style=\"text-align: right;\">\n",
              "      <th></th>\n",
              "      <th>Data</th>\n",
              "      <th>TemperaturaMedia</th>\n",
              "      <th>CertitudeTempMedia</th>\n",
              "      <th>País</th>\n",
              "    </tr>\n",
              "  </thead>\n",
              "  <tbody>\n",
              "    <tr>\n",
              "      <th>3239</th>\n",
              "      <td>1838-04-01</td>\n",
              "      <td>13.008</td>\n",
              "      <td>2.586</td>\n",
              "      <td>Afghanistan</td>\n",
              "    </tr>\n",
              "  </tbody>\n",
              "</table>\n",
              "</div>"
            ],
            "text/plain": [
              "           Data  TemperaturaMedia  CertitudeTempMedia         País\n",
              "3239 1838-04-01            13.008               2.586  Afghanistan"
            ]
          },
          "metadata": {},
          "execution_count": 12
        }
      ]
    },
    {
      "cell_type": "code",
      "metadata": {
        "id": "iO5UxjtPaCnf",
        "colab": {
          "base_uri": "https://localhost:8080/"
        },
        "outputId": "76e1d001-e388-4019-84c4-63034064ee11"
      },
      "source": [
        "df['País'].unique()"
      ],
      "execution_count": null,
      "outputs": [
        {
          "output_type": "execute_result",
          "data": {
            "text/plain": [
              "array(['Afghanistan', 'Albania', 'Algeria', 'Andorra', 'Angola',\n",
              "       'Anguilla', 'Antarctica', 'Antigua And Barbuda', 'Argentina',\n",
              "       'Armenia', 'Aruba', 'Australia', 'Austria', 'Azerbaijan',\n",
              "       'Bahamas', 'Bahrain', 'Bangladesh', 'Barbados', 'Belarus',\n",
              "       'Belgium', 'Belize', 'Benin', 'Bhutan', 'Bolivia',\n",
              "       'Bosnia And Herzegovina', 'Botswana', 'Brazil',\n",
              "       'British Virgin Islands', 'Bulgaria', 'Burkina Faso', 'Myanmar',\n",
              "       'Burundi', \"Cote d'Ivoire\", 'Cambodia', 'Cameroon', 'Canada',\n",
              "       'Cape Verde', 'Cayman Islands', 'Central African Republic', 'Chad',\n",
              "       'Chile', 'China', 'Christmas Island', 'Colombia', 'Comoros',\n",
              "       'Congo (Democratic Republic Of The)', 'Congo', 'Costa Rica',\n",
              "       'Croatia', 'Cuba', 'Curacao', 'Cyprus', 'Czech Republic',\n",
              "       'Denmark', 'Djibouti', 'Dominica', 'Dominican Republic', 'Ecuador',\n",
              "       'Egypt', 'El Salvador', 'Equatorial Guinea', 'Eritrea', 'Estonia',\n",
              "       'Ethiopia', 'Europe', 'Islas Malvinas', 'Faroe Islands',\n",
              "       'Micronesia', 'Fiji', 'Finland', 'France', 'French Guiana',\n",
              "       'French Polynesia', 'Gabon', 'Gambia', 'Georgia', 'Germany',\n",
              "       'Ghana', 'Greece', 'Greenland', 'Grenada', 'Guadeloupe',\n",
              "       'Guatemala', 'Guinea Bissau', 'Guinea', 'Guyana', 'Haiti',\n",
              "       'Honduras', 'Hong Kong', 'Hungary', 'Iceland', 'India',\n",
              "       'Indonesia', 'Iran', 'Iraq', 'Ireland', 'Israel', 'Italy',\n",
              "       'Jamaica', 'Japan', 'Jordan', 'Kazakhstan', 'Kenya', 'Kiribati',\n",
              "       'Kuwait', 'Kyrgyzstan', 'Laos', 'Latvia', 'Lebanon', 'Lesotho',\n",
              "       'Liberia', 'Libya', 'Liechtenstein', 'Lithuania', 'Luxembourg',\n",
              "       'Macau', 'Macedonia', 'Madagascar', 'Malawi', 'Malaysia', 'Mali',\n",
              "       'Malta', 'Martinique', 'Mauritania', 'Mauritius', 'Mexico',\n",
              "       'Moldova', 'Mongolia', 'Montenegro', 'Montserrat', 'Morocco',\n",
              "       'Mozambique', 'Namibia', 'Nepal', 'Netherlands', 'New Caledonia',\n",
              "       'New Zealand', 'Nicaragua', 'Niger', 'Nigeria', 'Niue',\n",
              "       'North Korea', 'Norway', 'Oman', 'Pakistan', 'Palau', 'Palestina',\n",
              "       'Panama', 'Papua New Guinea', 'Paraguay', 'Peru', 'Philippines',\n",
              "       'Poland', 'Portugal', 'Qatar', 'Reunion', 'Romania', 'Russia',\n",
              "       'Rwanda', 'Saint Kitts And Nevis', 'Saint Lucia',\n",
              "       'Saint Vincent And The Grenadines', 'Samoa',\n",
              "       'Sao Tome And Principe', 'Saudi Arabia', 'Senegal', 'Serbia',\n",
              "       'Seychelles', 'Sierra Leone', 'Singapore', 'Slovakia', 'Slovenia',\n",
              "       'Solomon Islands', 'Somalia', 'South Africa', 'South Korea',\n",
              "       'Spain', 'Sri Lanka', 'Sudan', 'Suriname', 'Swaziland', 'Sweden',\n",
              "       'Switzerland', 'Syria', 'Taiwan', 'Tajikistan', 'Tanzania',\n",
              "       'Thailand', 'Timor Leste', 'Togo', 'Tonga', 'Trinidad And Tobago',\n",
              "       'Tunisia', 'Turkey', 'Turkmenistan', 'Turks And Caicos Islands',\n",
              "       'Uganda', 'Ukraine', 'United Arab Emirates', 'United Kingdom',\n",
              "       'United States', 'Uruguay', 'Uzbekistan', 'Venezuela', 'Vietnam',\n",
              "       'Yemen', 'Zambia', 'Zimbabwe'], dtype=object)"
            ]
          },
          "metadata": {},
          "execution_count": 13
        }
      ]
    },
    {
      "cell_type": "markdown",
      "metadata": {
        "id": "wJ7Xd9kYpGmH"
      },
      "source": [
        "Novas mudanças de nomes de países"
      ]
    },
    {
      "cell_type": "code",
      "metadata": {
        "id": "wNnGG0-vn5DA"
      },
      "source": [
        "df.drop(df[(df['País'] == 'Europe')].index, inplace=True)"
      ],
      "execution_count": null,
      "outputs": []
    },
    {
      "cell_type": "code",
      "metadata": {
        "id": "yeAnqwkgr60l"
      },
      "source": [
        "df.loc[df.País == 'Turks And Caicos Islands', ['País']] = 'Turks and Caicos Islands'\n",
        "df.loc[df.País == 'Trinidad And Tobago', ['País']] = 'Trinidad and Tobago'\n",
        "df.loc[df.País == 'Saint Vincent And The Grenadines', ['País']] = 'Saint Vincent and the Grenadines'\n",
        "df.loc[df.País == 'Saint Kitts And Nevis', ['País']] = 'Saint Kitts and Nevis'\n",
        "df.loc[df.País == 'Palestina', ['País']] = 'Palestine'\n",
        "df.loc[df.País == 'Antigua And Barbuda', ['País']]  = ' Antigua and Barbuda '\n",
        "df.loc[df.País == 'Bosnia And Herzegovina', ['País']]  = 'Bosnia and Herzegovina'\n",
        "df.loc[df.País == 'Congo (Democratic Republic Of The)', ['País']] = 'Democratic Republic of the Congo'\n",
        "df.loc[df.País == 'Guinea Bissau', ['País']]  = 'Guinea-Bissau'\n",
        "df.loc[df.País == 'Macau', ['País']]  = 'Macao'"
      ],
      "execution_count": null,
      "outputs": []
    },
    {
      "cell_type": "code",
      "metadata": {
        "id": "oAKAAdA7sMcS",
        "colab": {
          "base_uri": "https://localhost:8080/"
        },
        "outputId": "b3206791-a4eb-425f-8109-16e5e46c1835"
      },
      "source": [
        "df['País'].unique()"
      ],
      "execution_count": null,
      "outputs": [
        {
          "output_type": "execute_result",
          "data": {
            "text/plain": [
              "array(['Afghanistan', 'Albania', 'Algeria', 'Andorra', 'Angola',\n",
              "       'Anguilla', 'Antarctica', ' Antigua and Barbuda ', 'Argentina',\n",
              "       'Armenia', 'Aruba', 'Australia', 'Austria', 'Azerbaijan',\n",
              "       'Bahamas', 'Bahrain', 'Bangladesh', 'Barbados', 'Belarus',\n",
              "       'Belgium', 'Belize', 'Benin', 'Bhutan', 'Bolivia',\n",
              "       'Bosnia and Herzegovina', 'Botswana', 'Brazil',\n",
              "       'British Virgin Islands', 'Bulgaria', 'Burkina Faso', 'Myanmar',\n",
              "       'Burundi', \"Cote d'Ivoire\", 'Cambodia', 'Cameroon', 'Canada',\n",
              "       'Cape Verde', 'Cayman Islands', 'Central African Republic', 'Chad',\n",
              "       'Chile', 'China', 'Christmas Island', 'Colombia', 'Comoros',\n",
              "       'Democratic Republic of the Congo', 'Congo', 'Costa Rica',\n",
              "       'Croatia', 'Cuba', 'Curacao', 'Cyprus', 'Czech Republic',\n",
              "       'Denmark', 'Djibouti', 'Dominica', 'Dominican Republic', 'Ecuador',\n",
              "       'Egypt', 'El Salvador', 'Equatorial Guinea', 'Eritrea', 'Estonia',\n",
              "       'Ethiopia', 'Islas Malvinas', 'Faroe Islands', 'Micronesia',\n",
              "       'Fiji', 'Finland', 'France', 'French Guiana', 'French Polynesia',\n",
              "       'Gabon', 'Gambia', 'Georgia', 'Germany', 'Ghana', 'Greece',\n",
              "       'Greenland', 'Grenada', 'Guadeloupe', 'Guatemala', 'Guinea-Bissau',\n",
              "       'Guinea', 'Guyana', 'Haiti', 'Honduras', 'Hong Kong', 'Hungary',\n",
              "       'Iceland', 'India', 'Indonesia', 'Iran', 'Iraq', 'Ireland',\n",
              "       'Israel', 'Italy', 'Jamaica', 'Japan', 'Jordan', 'Kazakhstan',\n",
              "       'Kenya', 'Kiribati', 'Kuwait', 'Kyrgyzstan', 'Laos', 'Latvia',\n",
              "       'Lebanon', 'Lesotho', 'Liberia', 'Libya', 'Liechtenstein',\n",
              "       'Lithuania', 'Luxembourg', 'Macao', 'Macedonia', 'Madagascar',\n",
              "       'Malawi', 'Malaysia', 'Mali', 'Malta', 'Martinique', 'Mauritania',\n",
              "       'Mauritius', 'Mexico', 'Moldova', 'Mongolia', 'Montenegro',\n",
              "       'Montserrat', 'Morocco', 'Mozambique', 'Namibia', 'Nepal',\n",
              "       'Netherlands', 'New Caledonia', 'New Zealand', 'Nicaragua',\n",
              "       'Niger', 'Nigeria', 'Niue', 'North Korea', 'Norway', 'Oman',\n",
              "       'Pakistan', 'Palau', 'Palestine', 'Panama', 'Papua New Guinea',\n",
              "       'Paraguay', 'Peru', 'Philippines', 'Poland', 'Portugal', 'Qatar',\n",
              "       'Reunion', 'Romania', 'Russia', 'Rwanda', 'Saint Kitts and Nevis',\n",
              "       'Saint Lucia', 'Saint Vincent and the Grenadines', 'Samoa',\n",
              "       'Sao Tome And Principe', 'Saudi Arabia', 'Senegal', 'Serbia',\n",
              "       'Seychelles', 'Sierra Leone', 'Singapore', 'Slovakia', 'Slovenia',\n",
              "       'Solomon Islands', 'Somalia', 'South Africa', 'South Korea',\n",
              "       'Spain', 'Sri Lanka', 'Sudan', 'Suriname', 'Swaziland', 'Sweden',\n",
              "       'Switzerland', 'Syria', 'Taiwan', 'Tajikistan', 'Tanzania',\n",
              "       'Thailand', 'Timor Leste', 'Togo', 'Tonga', 'Trinidad and Tobago',\n",
              "       'Tunisia', 'Turkey', 'Turkmenistan', 'Turks and Caicos Islands',\n",
              "       'Uganda', 'Ukraine', 'United Arab Emirates', 'United Kingdom',\n",
              "       'United States', 'Uruguay', 'Uzbekistan', 'Venezuela', 'Vietnam',\n",
              "       'Yemen', 'Zambia', 'Zimbabwe'], dtype=object)"
            ]
          },
          "metadata": {},
          "execution_count": 16
        }
      ]
    },
    {
      "cell_type": "markdown",
      "metadata": {
        "id": "YZCwr8RzLwgk"
      },
      "source": [
        "Verificar dados nulos"
      ]
    },
    {
      "cell_type": "code",
      "metadata": {
        "id": "1-Y183P1ITSW",
        "colab": {
          "base_uri": "https://localhost:8080/"
        },
        "outputId": "1fa8cffa-ff46-4ecb-e391-8093476ac296"
      },
      "source": [
        "df.isnull().sum()"
      ],
      "execution_count": null,
      "outputs": [
        {
          "output_type": "execute_result",
          "data": {
            "text/plain": [
              "Data                      0\n",
              "TemperaturaMedia      28253\n",
              "CertitudeTempMedia    27514\n",
              "País                      0\n",
              "dtype: int64"
            ]
          },
          "metadata": {},
          "execution_count": 17
        }
      ]
    },
    {
      "cell_type": "markdown",
      "metadata": {
        "id": "zZ2xcbx-L87o"
      },
      "source": [
        "Validação de dados com Pandera"
      ]
    },
    {
      "cell_type": "code",
      "metadata": {
        "colab": {
          "base_uri": "https://localhost:8080/",
          "height": 424
        },
        "id": "tTQ8Rm13XRaL",
        "outputId": "7c013c49-6149-4dac-8444-f57db7e42f15"
      },
      "source": [
        "schema = pa.DataFrameSchema(\n",
        "    columns = {\n",
        "        \"Data\": pa.Column(pa.DateTime,nullable=False),\n",
        "        \"TemperaturaMedia\": pa.Column(pa.Float,nullable=True),\n",
        "        \"CertitudeTempMedia\": pa.Column(pa.Float,nullable=True),\n",
        "        \"País\": pa.Column(pa.String,nullable=False)})\n",
        "\n",
        "schema.validate(df)"
      ],
      "execution_count": null,
      "outputs": [
        {
          "output_type": "execute_result",
          "data": {
            "text/html": [
              "<div>\n",
              "<style scoped>\n",
              "    .dataframe tbody tr th:only-of-type {\n",
              "        vertical-align: middle;\n",
              "    }\n",
              "\n",
              "    .dataframe tbody tr th {\n",
              "        vertical-align: top;\n",
              "    }\n",
              "\n",
              "    .dataframe thead th {\n",
              "        text-align: right;\n",
              "    }\n",
              "</style>\n",
              "<table border=\"1\" class=\"dataframe\">\n",
              "  <thead>\n",
              "    <tr style=\"text-align: right;\">\n",
              "      <th></th>\n",
              "      <th>Data</th>\n",
              "      <th>TemperaturaMedia</th>\n",
              "      <th>CertitudeTempMedia</th>\n",
              "      <th>País</th>\n",
              "    </tr>\n",
              "  </thead>\n",
              "  <tbody>\n",
              "    <tr>\n",
              "      <th>3239</th>\n",
              "      <td>1838-04-01</td>\n",
              "      <td>13.008</td>\n",
              "      <td>2.586</td>\n",
              "      <td>Afghanistan</td>\n",
              "    </tr>\n",
              "    <tr>\n",
              "      <th>3240</th>\n",
              "      <td>1838-05-01</td>\n",
              "      <td>NaN</td>\n",
              "      <td>NaN</td>\n",
              "      <td>Afghanistan</td>\n",
              "    </tr>\n",
              "    <tr>\n",
              "      <th>3241</th>\n",
              "      <td>1838-06-01</td>\n",
              "      <td>23.950</td>\n",
              "      <td>2.510</td>\n",
              "      <td>Afghanistan</td>\n",
              "    </tr>\n",
              "    <tr>\n",
              "      <th>3242</th>\n",
              "      <td>1838-07-01</td>\n",
              "      <td>26.877</td>\n",
              "      <td>2.883</td>\n",
              "      <td>Afghanistan</td>\n",
              "    </tr>\n",
              "    <tr>\n",
              "      <th>3243</th>\n",
              "      <td>1838-08-01</td>\n",
              "      <td>24.938</td>\n",
              "      <td>2.992</td>\n",
              "      <td>Afghanistan</td>\n",
              "    </tr>\n",
              "    <tr>\n",
              "      <th>...</th>\n",
              "      <td>...</td>\n",
              "      <td>...</td>\n",
              "      <td>...</td>\n",
              "      <td>...</td>\n",
              "    </tr>\n",
              "    <tr>\n",
              "      <th>577457</th>\n",
              "      <td>2013-05-01</td>\n",
              "      <td>19.059</td>\n",
              "      <td>1.022</td>\n",
              "      <td>Zimbabwe</td>\n",
              "    </tr>\n",
              "    <tr>\n",
              "      <th>577458</th>\n",
              "      <td>2013-06-01</td>\n",
              "      <td>17.613</td>\n",
              "      <td>0.473</td>\n",
              "      <td>Zimbabwe</td>\n",
              "    </tr>\n",
              "    <tr>\n",
              "      <th>577459</th>\n",
              "      <td>2013-07-01</td>\n",
              "      <td>17.000</td>\n",
              "      <td>0.453</td>\n",
              "      <td>Zimbabwe</td>\n",
              "    </tr>\n",
              "    <tr>\n",
              "      <th>577460</th>\n",
              "      <td>2013-08-01</td>\n",
              "      <td>19.759</td>\n",
              "      <td>0.717</td>\n",
              "      <td>Zimbabwe</td>\n",
              "    </tr>\n",
              "    <tr>\n",
              "      <th>577461</th>\n",
              "      <td>2013-09-01</td>\n",
              "      <td>NaN</td>\n",
              "      <td>NaN</td>\n",
              "      <td>Zimbabwe</td>\n",
              "    </tr>\n",
              "  </tbody>\n",
              "</table>\n",
              "<p>490719 rows × 4 columns</p>\n",
              "</div>"
            ],
            "text/plain": [
              "             Data  TemperaturaMedia  CertitudeTempMedia         País\n",
              "3239   1838-04-01            13.008               2.586  Afghanistan\n",
              "3240   1838-05-01               NaN                 NaN  Afghanistan\n",
              "3241   1838-06-01            23.950               2.510  Afghanistan\n",
              "3242   1838-07-01            26.877               2.883  Afghanistan\n",
              "3243   1838-08-01            24.938               2.992  Afghanistan\n",
              "...           ...               ...                 ...          ...\n",
              "577457 2013-05-01            19.059               1.022     Zimbabwe\n",
              "577458 2013-06-01            17.613               0.473     Zimbabwe\n",
              "577459 2013-07-01            17.000               0.453     Zimbabwe\n",
              "577460 2013-08-01            19.759               0.717     Zimbabwe\n",
              "577461 2013-09-01               NaN                 NaN     Zimbabwe\n",
              "\n",
              "[490719 rows x 4 columns]"
            ]
          },
          "metadata": {},
          "execution_count": 18
        }
      ]
    },
    {
      "cell_type": "code",
      "metadata": {
        "id": "u4UMkuWiwejB"
      },
      "source": [
        "# Salvar o DF em CSV diretamente no bucket do GCP – versão tratada em Pandas\n",
        "\n",
        "client=storage.Client()\n",
        "bucket=client.get_bucket('projeto-final-bucket-g5')\n",
        "bucket.blob('saida/df_temp_media_pandas_tratamento_final.csv').upload_from_string(df.to_csv(index=False), 'text/cvs')\n"
      ],
      "execution_count": null,
      "outputs": []
    },
    {
      "cell_type": "markdown",
      "metadata": {
        "id": "R_cWmpotbEbs"
      },
      "source": [
        "# PYSPARK"
      ]
    },
    {
      "cell_type": "markdown",
      "metadata": {
        "id": "hHtG895bVJ1G"
      },
      "source": [
        "Instalação da biblioteca Pyspark"
      ]
    },
    {
      "cell_type": "code",
      "metadata": {
        "id": "jk7bcxz4bLHk"
      },
      "source": [
        "pip install pyspark"
      ],
      "execution_count": null,
      "outputs": []
    },
    {
      "cell_type": "markdown",
      "metadata": {
        "id": "1HcAdP2_VNf3"
      },
      "source": [
        "Importação de módulos e de funções específicas dentro da biblioteca Pyspark"
      ]
    },
    {
      "cell_type": "code",
      "metadata": {
        "id": "_HyTL9cMbvpV"
      },
      "source": [
        "from pyspark.sql import SparkSession\n",
        "#ParkSession é uma string de conexão, na qual serão definidos os devidos parâmetros\n",
        "import pyspark.sql.functions as F\n",
        "#importação da biblioteca de funções do pacote spark atribuindo F para o uso durante o código\n",
        "from pyspark.sql.types import StructType,StructField, StringType, IntegerType, FloatType, DoubleType, DateType, ArrayType, DoubleType, BooleanType\n",
        "#importação dos tipos de variaveis para futura estruturação e validação\n",
        "from pyspark.sql.functions import col,array_contains\n",
        "from pyspark.sql.window import Window\n",
        "#importação de funções do tipo window"
      ],
      "execution_count": null,
      "outputs": []
    },
    {
      "cell_type": "markdown",
      "metadata": {
        "id": "I9t1tPPRVboa"
      },
      "source": [
        "Configurando a SparkSession"
      ]
    },
    {
      "cell_type": "code",
      "metadata": {
        "id": "Hx6CpOj2cIl3"
      },
      "source": [
        "spark = SparkSession.builder\\\n",
        "        .master(\"local\")\\ #master: local, cluester, ou local onde irá rodar a sessão\n",
        "        .appName(\"dataframe_temperatura\")\\#identificaçao do aplicação a ser criad\n",
        "        .config(\"spark.ui.port\",\"4050\")\\#configurção via API com apache spark, e definção da porta UI, que no caso do colab é 4050\n",
        "        .getOrCreate()#iniciar a sessão"
      ],
      "execution_count": null,
      "outputs": []
    },
    {
      "cell_type": "markdown",
      "metadata": {
        "id": "C-pnDIn5Vl04"
      },
      "source": [
        "Criando o Esquema/Schema com a função StructType, usando o dataframe já criado na etapa do Pandas. Aqui, apesar da validação feita anteriormente, é interessante o uso do StructType para grantir os tipos das variáveis no momento da criação do dataframe no pyspark, assim a efetuação de calculos e manipulações corretamente."
      ]
    },
    {
      "cell_type": "code",
      "metadata": {
        "id": "0_N_AWsRVT2p"
      },
      "source": [
        "esquema = (\n",
        "    StructType()\n",
        "      .add(\"Data\",DateType(),True)\n",
        "      .add(\"TemperaturaMedia\",FloatType(),True)\n",
        "      .add(\"CertitudeTempMedia\",FloatType(),True)\n",
        "      .add(\"País\",StringType(),True)\n",
        ")\n",
        "\n",
        "df_spark = spark.createDataFrame(df, schema = esquema)"
      ],
      "execution_count": null,
      "outputs": []
    },
    {
      "cell_type": "code",
      "metadata": {
        "colab": {
          "base_uri": "https://localhost:8080/"
        },
        "id": "vO6LOyDKdait",
        "outputId": "004c57db-46fa-4513-b121-eb6693c7c160"
      },
      "source": [
        "df_spark.show(5)\n",
        "df_spark.printSchema()"
      ],
      "execution_count": null,
      "outputs": [
        {
          "output_type": "stream",
          "name": "stdout",
          "text": [
            "+----------+----------------+------------------+-----------+\n",
            "|      Data|TemperaturaMedia|CertitudeTempMedia|       País|\n",
            "+----------+----------------+------------------+-----------+\n",
            "|1838-04-01|          13.008|             2.586|Afghanistan|\n",
            "|1838-05-01|             NaN|               NaN|Afghanistan|\n",
            "|1838-06-01|           23.95|              2.51|Afghanistan|\n",
            "|1838-07-01|          26.877|             2.883|Afghanistan|\n",
            "|1838-08-01|          24.938|             2.992|Afghanistan|\n",
            "+----------+----------------+------------------+-----------+\n",
            "only showing top 5 rows\n",
            "\n",
            "root\n",
            " |-- Data: date (nullable = true)\n",
            " |-- TemperaturaMedia: float (nullable = true)\n",
            " |-- CertitudeTempMedia: float (nullable = true)\n",
            " |-- País: string (nullable = true)\n",
            "\n"
          ]
        }
      ]
    },
    {
      "cell_type": "markdown",
      "metadata": {
        "id": "4CyX-MO_cU9O"
      },
      "source": [
        "Criação de backup do data frame pyspark\n"
      ]
    },
    {
      "cell_type": "code",
      "metadata": {
        "id": "cbg1aMH0hwIt"
      },
      "source": [
        "#backup do DF original de PySpark\n",
        "df_spark_backup = df_spark.alias('df_spark_backup')"
      ],
      "execution_count": null,
      "outputs": []
    },
    {
      "cell_type": "markdown",
      "metadata": {
        "id": "bHtMdZK9dtJ9"
      },
      "source": [
        "Criação da coluna ano utilizando a função substring, a qual possibilita seccionar a data em ano, mês e dia."
      ]
    },
    {
      "cell_type": "code",
      "metadata": {
        "id": "nKz176vRcRYX"
      },
      "source": [
        "#uma coluna com nome 'Ano' é criada a partir da função substring que tem como parâmetro a coluna Data, a posição dos elementos dos valores a serem obtidos e a definição do tipo do valor com a utilização da função cast.\n",
        "df_spark = df_spark.withColumn('Ano', F.substring(F.col('Data'), 1, 4).cast('Integer'))"
      ],
      "execution_count": null,
      "outputs": []
    },
    {
      "cell_type": "code",
      "metadata": {
        "colab": {
          "base_uri": "https://localhost:8080/"
        },
        "id": "IaUJeXc7e8oi",
        "outputId": "279d0827-7e31-4874-976a-a4e72adbcef1"
      },
      "source": [
        "df_spark.show(5)"
      ],
      "execution_count": null,
      "outputs": [
        {
          "output_type": "stream",
          "name": "stdout",
          "text": [
            "+----------+----------------+------------------+-----------+----+\n",
            "|      Data|TemperaturaMedia|CertitudeTempMedia|       País| Ano|\n",
            "+----------+----------------+------------------+-----------+----+\n",
            "|1838-04-01|          13.008|             2.586|Afghanistan|1838|\n",
            "|1838-05-01|             NaN|               NaN|Afghanistan|1838|\n",
            "|1838-06-01|           23.95|              2.51|Afghanistan|1838|\n",
            "|1838-07-01|          26.877|             2.883|Afghanistan|1838|\n",
            "|1838-08-01|          24.938|             2.992|Afghanistan|1838|\n",
            "+----------+----------------+------------------+-----------+----+\n",
            "only showing top 5 rows\n",
            "\n"
          ]
        }
      ]
    },
    {
      "cell_type": "markdown",
      "metadata": {
        "id": "g2BJvLifWjho"
      },
      "source": [
        "  Criação de um backup do data frame"
      ]
    },
    {
      "cell_type": "code",
      "metadata": {
        "id": "wJIu5LwGjNi_"
      },
      "source": [
        "#backup2\n",
        "df_spark_backup2 = df_spark.alias('df_spark_backup2')"
      ],
      "execution_count": null,
      "outputs": []
    },
    {
      "cell_type": "markdown",
      "metadata": {
        "id": "QaMPUGBwfB3S"
      },
      "source": [
        "\n",
        "\n",
        "\n",
        "Eliminação a coluna data"
      ]
    },
    {
      "cell_type": "code",
      "metadata": {
        "id": "bwAAKzhEfHb7"
      },
      "source": [
        "df_spark = df_spark.drop('Data')"
      ],
      "execution_count": null,
      "outputs": []
    },
    {
      "cell_type": "code",
      "metadata": {
        "id": "U_91vNC2gCS2"
      },
      "source": [
        "df_spark.show(5)\n",
        "df_spark.printSchema()"
      ],
      "execution_count": null,
      "outputs": []
    },
    {
      "cell_type": "markdown",
      "metadata": {
        "id": "E_3Hz-1zV66A"
      },
      "source": [
        "Considerar somente linhas a partir do ano de 1900"
      ]
    },
    {
      "cell_type": "code",
      "metadata": {
        "id": "wTNO7FrJgH90"
      },
      "source": [
        "df_spark = df_spark.where(df_spark.Ano > 1899)"
      ],
      "execution_count": null,
      "outputs": []
    },
    {
      "cell_type": "code",
      "metadata": {
        "id": "a4q4EAlNhUgT"
      },
      "source": [
        "df_spark.show(20)"
      ],
      "execution_count": null,
      "outputs": []
    },
    {
      "cell_type": "markdown",
      "metadata": {
        "id": "juSL76y9nrev"
      },
      "source": [
        "Eliminação de linhas referentes ao território da Antártica"
      ]
    },
    {
      "cell_type": "code",
      "metadata": {
        "id": "7rHxG1l_na_E"
      },
      "source": [
        "df_spark = df_spark.where(df_spark.País != 'Antarctica')"
      ],
      "execution_count": null,
      "outputs": []
    },
    {
      "cell_type": "markdown",
      "metadata": {
        "id": "bA1No1GFjf5j"
      },
      "source": [
        "Agrupamento de Países por ano calculando a temperatura média anual. Utilizou-se de funções agregadas para esta transformação. Os países foram agrupados (groupBy), em seguida também foram agrupados os valores de temperatura média de cada ano e em seguida submetidos ao cálculo de média (avg). Por o tratamento foi ordenado pelo nome dos países em ordem alfabética e ano em ordem crescente (orderby).\n"
      ]
    },
    {
      "cell_type": "code",
      "metadata": {
        "id": "pdVDThvvj2e8"
      },
      "source": [
        "#funções agregadas\n",
        "df_spark2 = (\n",
        "    df_spark.groupBy(F.col('País'), F.col('Ano')).avg('TemperaturaMedia').orderBy('País', 'Ano')\n",
        ")"
      ],
      "execution_count": null,
      "outputs": []
    },
    {
      "cell_type": "code",
      "metadata": {
        "id": "I6A9rC5wsdxp"
      },
      "source": [
        "df_spark2.show(2002)"
      ],
      "execution_count": null,
      "outputs": []
    },
    {
      "cell_type": "markdown",
      "metadata": {
        "id": "9SqWylkQd7np"
      },
      "source": [
        "Renomear coluna avg(TemperaturaMedia)"
      ]
    },
    {
      "cell_type": "code",
      "metadata": {
        "id": "0FTh3qL0pZxb"
      },
      "source": [
        "df_spark2 = df_spark2.withColumnRenamed('avg(TemperaturaMedia)', 'TemperaturaMediaAno')"
      ],
      "execution_count": null,
      "outputs": []
    },
    {
      "cell_type": "markdown",
      "metadata": {
        "id": "aUYnehk7eJJG"
      },
      "source": [
        "Eliminando linhas referentes ao ano de 2013, o qual não contém alguns valores e retorna sempre a valores NaN"
      ]
    },
    {
      "cell_type": "code",
      "metadata": {
        "id": "addt6zHIuxuo"
      },
      "source": [
        "df_spark2 = df_spark2.where(df_spark.Ano != 2013)"
      ],
      "execution_count": null,
      "outputs": []
    },
    {
      "cell_type": "code",
      "metadata": {
        "id": "CfTgAJxyOBnq"
      },
      "source": [
        "df_spark2.show(300)"
      ],
      "execution_count": null,
      "outputs": []
    },
    {
      "cell_type": "markdown",
      "metadata": {
        "id": "NXprhushZtSu"
      },
      "source": [
        "A célula abaixo é responsável pela criação da coluna DiferencaTemp, a qual é preenchida com a função de janela 'lag', que preenche cada elemento fazendo a diferença da Temperatura média do ano seguinte em relação ao ano anterior."
      ]
    },
    {
      "cell_type": "code",
      "metadata": {
        "id": "VfbOSf_XOJPv"
      },
      "source": [
        "lag_window = Window.partitionBy('País').orderBy('País', 'Ano')\n",
        "#criação do que chamamos de window, que é uma partição dos dados a qual será submetida ao uso da função 'lag' para criação da coluna de DiferencaTemp\n",
        "\n",
        "df_spark3 = (\n",
        "        df_spark2.select('País', 'Ano', 'TemperaturaMediaAno')\n",
        "        .withColumn('DiferencaTemp', F.col('TemperaturaMediaAno') - F.lag('TemperaturaMediaAno')\n",
        "        .over(lag_window))\n",
        ")\n",
        "\n",
        "df_spark3.show()"
      ],
      "execution_count": null,
      "outputs": []
    },
    {
      "cell_type": "code",
      "metadata": {
        "id": "tDsfljmWW7jD"
      },
      "source": [
        "df_spark3.show(2000)"
      ],
      "execution_count": null,
      "outputs": []
    },
    {
      "cell_type": "code",
      "metadata": {
        "id": "97RMr0UWW-rQ"
      },
      "source": [
        "# Conferir a variação em um país, nesse caso no Iraque\n",
        "\n",
        "df_spark3.where(df_spark3.País == 'Iraq').show(115)"
      ],
      "execution_count": null,
      "outputs": []
    },
    {
      "cell_type": "code",
      "metadata": {
        "id": "QJULO-Anp_xv"
      },
      "source": [
        "df_spark3.show(115)"
      ],
      "execution_count": null,
      "outputs": []
    },
    {
      "cell_type": "code",
      "metadata": {
        "colab": {
          "base_uri": "https://localhost:8080/"
        },
        "id": "S5BRoeRw2Djw",
        "outputId": "e46e00fa-2372-4c26-d2f3-489ab12b92d7"
      },
      "source": [
        "df_spark3.printSchema()"
      ],
      "execution_count": null,
      "outputs": [
        {
          "output_type": "stream",
          "name": "stdout",
          "text": [
            "root\n",
            " |-- País: string (nullable = true)\n",
            " |-- Ano: integer (nullable = true)\n",
            " |-- TemperaturaMediaAno: double (nullable = true)\n",
            " |-- DiferencaTemp: double (nullable = true)\n",
            "\n"
          ]
        }
      ]
    },
    {
      "cell_type": "markdown",
      "metadata": {
        "id": "B-SzYROEZSAc"
      },
      "source": [
        "Definição de função, para poder salvar o arquivo pyspark diretamente para o Bucket/Data Lake, utilizando como intermédio o ambiente do drive"
      ]
    },
    {
      "cell_type": "code",
      "metadata": {
        "id": "PpRzgLYfsRqk"
      },
      "source": [
        "#Definição de função, para poder salvar o arquivo pyspark diretamente para o Bucket/Data Lake.\n",
        "\n",
        "def upload_blob(bucket_name, source_file_name, destination_blob_name):\n",
        "    \"\"\"Uploads a file to the bucket.\"\"\"\n",
        "    # The ID of your GCS bucket\n",
        "    # bucket_name = \"your-bucket-name\"\n",
        "    # The path to your file to upload\n",
        "    # source_file_name = \"local/path/to/file\"\n",
        "    # The ID of your GCS object\n",
        "    # destination_blob_name = \"storage-object-name\"\n",
        "\n",
        "    storage_client = storage.Client()\n",
        "    bucket = storage_client.bucket(bucket_name)\n",
        "    blob = bucket.blob(destination_blob_name)\n",
        "\n",
        "    blob.upload_from_filename(source_file_name)\n",
        "\n",
        "    print(\"File {} uploaded to {}.\"\n",
        "         .format(source_file_name, destination_blob_name))"
      ],
      "execution_count": null,
      "outputs": []
    },
    {
      "cell_type": "markdown",
      "metadata": {
        "id": "0KHNviQtZU9T"
      },
      "source": [
        "Arquivo salvo no Bucket/Data Lake:"
      ]
    },
    {
      "cell_type": "code",
      "metadata": {
        "id": "bviKynWy7LeZ",
        "colab": {
          "base_uri": "https://localhost:8080/"
        },
        "outputId": "0be39bd0-4281-4ad7-87b5-01b9010d94a0"
      },
      "source": [
        "upload_blob(\"projeto-final-bucket-g5\", \"/content/drive/MyDrive/Aluno Luquinha/Programacao/SoulCode Academy/Projetos/Projeto Final – Grupo 5/Temp_media_spark.csv/df_tempmedia_spark_tratado.csv\", \"saida/df_tempmedia_pyspark_final.csv\")\n"
      ],
      "execution_count": null,
      "outputs": [
        {
          "output_type": "stream",
          "name": "stdout",
          "text": [
            "File /content/drive/MyDrive/Aluno Luquinha/Programacao/SoulCode Academy/Projetos/Projeto Final – Grupo 5/Temp_media_spark.csv/df_tempmedia_spark_tratado.csv uploaded to saida/df_tempmedia_pyspark_final.csv.\n"
          ]
        }
      ]
    }
  ]
}