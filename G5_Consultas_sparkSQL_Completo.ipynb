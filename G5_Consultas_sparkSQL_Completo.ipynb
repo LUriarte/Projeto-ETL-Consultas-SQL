{
  "nbformat": 4,
  "nbformat_minor": 0,
  "metadata": {
    "colab": {
      "name": "G5_Consultas_sparkSQL_Completo.ipynb",
      "provenance": [],
      "collapsed_sections": [],
      "include_colab_link": true
    },
    "kernelspec": {
      "name": "python3",
      "display_name": "Python 3"
    },
    "language_info": {
      "name": "python"
    }
  },
  "cells": [
    {
      "cell_type": "markdown",
      "metadata": {
        "id": "view-in-github",
        "colab_type": "text"
      },
      "source": [
        "<a href=\"https://colab.research.google.com/github/LucasBrandaoGomes/Projeto-ETL-Consultas-SQL/blob/main/G5_Consultas_sparkSQL_Completo.ipynb\" target=\"_parent\"><img src=\"https://colab.research.google.com/assets/colab-badge.svg\" alt=\"Open In Colab\"/></a>"
      ]
    },
    {
      "cell_type": "code",
      "metadata": {
        "id": "QdI32ooAtuEH"
      },
      "source": [
        "pip install pyspark"
      ],
      "execution_count": null,
      "outputs": []
    },
    {
      "cell_type": "code",
      "metadata": {
        "id": "Vbla9Zajso75"
      },
      "source": [
        "pip install gcsfs"
      ],
      "execution_count": null,
      "outputs": []
    },
    {
      "cell_type": "code",
      "metadata": {
        "id": "5ZZg_6TltbOB"
      },
      "source": [
        "import os\n",
        "from google.cloud import storage"
      ],
      "execution_count": null,
      "outputs": []
    },
    {
      "cell_type": "code",
      "metadata": {
        "id": "4ib5x4aXtfIq"
      },
      "source": [
        "serviceAccount = '/content/chave_projetofinal-grupo5-d2c4a9d78233.json'\n",
        "\n",
        "os.environ['GOOGLE_APPLICATION_CREDENTIALS'] = serviceAccount"
      ],
      "execution_count": null,
      "outputs": []
    },
    {
      "cell_type": "code",
      "metadata": {
        "id": "EJHFbcD2tohw"
      },
      "source": [
        "from pyspark.sql import SparkSession\n",
        "import pyspark.sql.functions as F\n",
        "from pyspark.sql.window import Window\n",
        "from pyspark.sql.functions import rank, dense_rank\n",
        "from pyspark.sql.types import StructType, StructField, StringType, IntegerType, DateType, FloatType"
      ],
      "execution_count": null,
      "outputs": []
    },
    {
      "cell_type": "code",
      "metadata": {
        "id": "pKEPUfvGuJDH"
      },
      "source": [
        "from google.cloud import storage\n",
        "\n",
        "\n",
        "def download_blob(bucket_name, source_blob_name, destination_file_name):\n",
        "\n",
        "    storage_client = storage.Client()\n",
        "    bucket = storage_client.bucket(bucket_name)\n",
        "    blob = bucket.blob(source_blob_name)\n",
        "    blob.download_to_filename(destination_file_name)\n",
        "\n",
        "    print(\"Downloaded storage object {} from bucket {} to local file {}.\"\n",
        "         .format(source_blob_name, bucket_name, destination_file_name))\n"
      ],
      "execution_count": null,
      "outputs": []
    },
    {
      "cell_type": "code",
      "metadata": {
        "colab": {
          "base_uri": "https://localhost:8080/"
        },
        "id": "iQeWVS0zuOW3",
        "outputId": "feb538be-40f8-4796-d06f-b803f52fb28f"
      },
      "source": [
        "from google.colab import drive\n",
        "drive.mount('/content/drive')"
      ],
      "execution_count": null,
      "outputs": [
        {
          "output_type": "stream",
          "name": "stdout",
          "text": [
            "Mounted at /content/drive\n"
          ]
        }
      ]
    },
    {
      "cell_type": "code",
      "metadata": {
        "colab": {
          "base_uri": "https://localhost:8080/"
        },
        "id": "pEmTFU1BuiUm",
        "outputId": "39a7e0d2-1c10-4abf-c925-6c7056dc40a1"
      },
      "source": [
        "download_blob(\"projeto-final-bucket-g5\", \"saida/df_temp_co2_final.csv\", \"/content/drive/MyDrive/dados_soulcode/df_temp_co2_final_sql.csv\")"
      ],
      "execution_count": null,
      "outputs": [
        {
          "output_type": "stream",
          "name": "stdout",
          "text": [
            "Downloaded storage object saida/df_temp_co2_final.csv from bucket projeto-final-bucket-g5 to local file /content/drive/MyDrive/dados_soulcode/df_temp_co2_final_sql.csv.\n"
          ]
        }
      ]
    },
    {
      "cell_type": "code",
      "metadata": {
        "colab": {
          "base_uri": "https://localhost:8080/"
        },
        "id": "yHPqWzH98V5y",
        "outputId": "572a3773-7b1a-4ca6-f7da-a0efb940279a"
      },
      "source": [
        "download_blob(\"projeto-final-bucket-g5\", \"saida/df_cflorestal_pyspark_final.csv\", \"/content/drive/MyDrive/dados_soulcode/df_cflorestal_sql.csv\")"
      ],
      "execution_count": null,
      "outputs": [
        {
          "output_type": "stream",
          "name": "stdout",
          "text": [
            "Downloaded storage object saida/df_cflorestal_pyspark_final.csv from bucket projeto-final-bucket-g5 to local file /content/drive/MyDrive/dados_soulcode/df_cflorestal_sql.csv.\n"
          ]
        }
      ]
    },
    {
      "cell_type": "code",
      "metadata": {
        "id": "Pcknm8Hx0vwX"
      },
      "source": [
        "spark = (\n",
        "    SparkSession.builder\n",
        "      .master('local')\n",
        "      .appName('dataframe_temp_co2')\n",
        "      .config('spark.ui.port', '4050')\n",
        "      .getOrCreate()\n",
        ")"
      ],
      "execution_count": null,
      "outputs": []
    },
    {
      "cell_type": "code",
      "metadata": {
        "id": "EOPHO2ydv-Ar"
      },
      "source": [
        "df_temp_co2_final_sql = spark.read.format(\"csv\") \\\n",
        "                             .option(\"inferSchema\", True) \\\n",
        "                             .option(\"header\", True) \\\n",
        "                             .option(\"sep\", \",\") \\\n",
        "                             .load(\"/content/drive/MyDrive/dados_soulcode/df_temp_co2_final_sql.csv\")\\\n",
        "                             .createOrReplaceTempView(\"temp_co2\") "
      ],
      "execution_count": null,
      "outputs": []
    },
    {
      "cell_type": "code",
      "metadata": {
        "id": "YscSDl3u8p0T"
      },
      "source": [
        "df_cflorestal_sql = spark.read.format(\"csv\") \\\n",
        "                             .option(\"inferSchema\", True) \\\n",
        "                             .option(\"header\", True) \\\n",
        "                             .option(\"sep\", \",\") \\\n",
        "                             .load(\"/content/drive/MyDrive/dados_soulcode/df_cflorestal_sql.csv\")\\\n",
        "                             .createOrReplaceTempView(\"area_florestal\") "
      ],
      "execution_count": null,
      "outputs": []
    },
    {
      "cell_type": "code",
      "metadata": {
        "colab": {
          "base_uri": "https://localhost:8080/"
        },
        "id": "B8_XRX_b1Cle",
        "outputId": "1c2ae83b-100b-46be-fcea-3b3503bc34b4"
      },
      "source": [
        "#Query 1\n",
        "\n",
        "# esta query serve para dar um panorama geral dos dados tratados e consolidados dos \n",
        "# dataframes trabalhados de emissões de CO2 e variações de temperatura dentro do período selecionado - 1900 a 2012\n",
        "\n",
        "spark.sql('''\n",
        "SELECT\n",
        "  *\n",
        "FROM\n",
        "  temp_co2\n",
        "''').show()"
      ],
      "execution_count": null,
      "outputs": [
        {
          "output_type": "stream",
          "name": "stdout",
          "text": [
            "+-----------+------+----------+--------+--------------------+----+------------------+--------------------+----------------+-------------------+\n",
            "|       Pais|Codigo|Continente|  Regiao|NivelDesenvolvimento| Ano|      TempMediaAno|     DifTempMediaAno|EmissaoCO2TonAno|DifEmissaoCO2TonAno|\n",
            "+-----------+------+----------+--------+--------------------+----+------------------+--------------------+----------------+-------------------+\n",
            "|Afghanistan|   AFG|      Ásia|Ásia Sul|  Em desenvolvimento|1949|13.350083380937576| -0.9851666490236912|         14656.0|               null|\n",
            "|Afghanistan|   AFG|      Ásia|Ásia Sul|  Em desenvolvimento|1950|13.043499952182174|-0.30658342875540257|         84272.0|            69616.0|\n",
            "|Afghanistan|   AFG|      Ásia|Ásia Sul|  Em desenvolvimento|1951|13.967749883731207|  0.9242499315490331|         91600.0|             7328.0|\n",
            "|Afghanistan|   AFG|      Ásia|Ásia Sul|  Em desenvolvimento|1952|14.175416549046835| 0.20766666531562805|         91600.0|                0.0|\n",
            "|Afghanistan|   AFG|      Ásia|Ásia Sul|  Em desenvolvimento|1953|14.650749941666922| 0.47533339262008667|        106256.0|            14656.0|\n",
            "|Afghanistan|   AFG|      Ásia|Ásia Sul|  Em desenvolvimento|1954|13.691333214441935| -0.9594167272249869|        106256.0|                0.0|\n",
            "|Afghanistan|   AFG|      Ásia|Ásia Sul|  Em desenvolvimento|1955|14.642583400011063|   0.951250185569128|        153888.0|            47632.0|\n",
            "|Afghanistan|   AFG|      Ásia|Ásia Sul|  Em desenvolvimento|1956|14.191083321968714| -0.4515000780423488|        183200.0|            29312.0|\n",
            "|Afghanistan|   AFG|      Ásia|Ásia Sul|  Em desenvolvimento|1957| 12.77716659506162| -1.4139167269070931|        293120.0|           109920.0|\n",
            "|Afghanistan|   AFG|      Ásia|Ásia Sul|  Em desenvolvimento|1958|14.716750005880991|  1.9395834108193704|        329760.0|            36640.0|\n",
            "|Afghanistan|   AFG|      Ásia|Ásia Sul|  Em desenvolvimento|1959| 14.15258331100146| -0.5641666948795319|        384571.4|          54811.406|\n",
            "|Afghanistan|   AFG|      Ásia|Ásia Sul|  Em desenvolvimento|1960|13.985416978597641|-0.16716633240381817|        413883.4|            29312.0|\n",
            "|Afghanistan|   AFG|      Ásia|Ásia Sul|  Em desenvolvimento|1961|14.064916888872782|  0.0794999102751408|        490797.7|           76914.28|\n",
            "|Afghanistan|   AFG|      Ásia|Ásia Sul|  Em desenvolvimento|1962|13.768666679660479|-0.29625020921230316|       688594.25|          197796.56|\n",
            "|Afghanistan|   AFG|      Ásia|Ásia Sul|  Em desenvolvimento|1963|15.033416827519735|  1.2647501478592567|        706736.0|           18141.75|\n",
            "|Afghanistan|   AFG|      Ásia|Ásia Sul|  Em desenvolvimento|1964|13.084916397929192| -1.9485004295905437|        838550.8|          131814.81|\n",
            "|Afghanistan|   AFG|      Ásia|Ásia Sul|  Em desenvolvimento|1965|14.101833283901215|   1.016916885972023|       1006916.5|          168365.69|\n",
            "|Afghanistan|   AFG|      Ásia|Ásia Sul|  Em desenvolvimento|1966|14.343000014623007| 0.24116673072179218|       1091158.9|          84242.375|\n",
            "|Afghanistan|   AFG|      Ásia|Ásia Sul|  Em desenvolvimento|1967|13.663249974449476| -0.6797500401735306|       1281865.1|          190706.25|\n",
            "|Afghanistan|   AFG|      Ásia|Ásia Sul|  Em desenvolvimento|1968|13.762333065271378| 0.09908309082190137|       1223389.8|         -58475.375|\n",
            "+-----------+------+----------+--------+--------------------+----+------------------+--------------------+----------------+-------------------+\n",
            "only showing top 20 rows\n",
            "\n"
          ]
        }
      ]
    },
    {
      "cell_type": "code",
      "metadata": {
        "id": "D0VWDTir1mLt",
        "colab": {
          "base_uri": "https://localhost:8080/"
        },
        "outputId": "4a0b4eef-b890-47a3-8425-da8d47f06ef5"
      },
      "source": [
        "#Query 2\n",
        "\n",
        "# esta query serve para visualizarmos quais os maiores emissores de CO2 dentro do período do nosso recorte - de 1900 a 2012\n",
        "# mostrando as emissões máximas de cada um neste histórico\n",
        "\n",
        "\n",
        "spark.sql('''\n",
        "SELECT \n",
        "  Pais, \n",
        "  Continente, \n",
        "  Regiao, \n",
        "  MAX(EmissaoCO2TonAno) AS maxEmissaoCO2TonAno\n",
        "FROM \n",
        "  temp_co2\n",
        "GROUP BY \n",
        "  Pais, \n",
        "  Continente, \n",
        "  Regiao\n",
        "ORDER BY \n",
        "  maxEmissaoCO2TonAno DESC\n",
        "''').show()"
      ],
      "execution_count": null,
      "outputs": [
        {
          "output_type": "stream",
          "name": "stdout",
          "text": [
            "+--------------+----------+--------------------+-------------------+\n",
            "|          Pais|Continente|              Regiao|maxEmissaoCO2TonAno|\n",
            "+--------------+----------+--------------------+-------------------+\n",
            "|         China|      Ásia|          Ásia Leste|        9.6338995E9|\n",
            "| United States|   América|    América do Norte|        6.1320059E9|\n",
            "|        Russia|    Europa|        Europa Leste|       2.57121075E9|\n",
            "|         India|      Ásia|            Ásia Sul|       1.98375885E9|\n",
            "|         Japan|      Ásia|          Ásia Leste|       1.30208294E9|\n",
            "|       Germany|    Europa|        Europa Oeste|       1.12005184E9|\n",
            "|       Ukraine|    Europa|        Europa Leste|        7.6753971E8|\n",
            "|United Kingdom|    Europa|        Europa Norte|        6.6038829E8|\n",
            "|     Indonesia|      Ásia|        Ásia sudeste|        6.3314502E8|\n",
            "|          Iran|      Ásia|            Ásia Sul|        6.0068032E8|\n",
            "|        Canada|   América|    América do Norte|        5.9414022E8|\n",
            "|   South Korea|      Ásia|          Ásia Leste|        5.8843507E8|\n",
            "|  Saudi Arabia|      Ásia|          Ásia Oeste|        5.6317952E8|\n",
            "|        France|    Europa|        Europa Oeste|        5.3038208E8|\n",
            "|  South Africa|    África|          África Sul|       5.01376928E8|\n",
            "|        Mexico|   América|     América Central|       4.98658528E8|\n",
            "|         Italy|    Europa|          Europa Sul|       4.95527776E8|\n",
            "|        Poland|    Europa|        Europa Leste|       4.63732576E8|\n",
            "|        Brazil|   América|      América do Sul|       4.60063104E8|\n",
            "|     Australia|   Oceania|Australia e Nova ...|        4.0867264E8|\n",
            "+--------------+----------+--------------------+-------------------+\n",
            "only showing top 20 rows\n",
            "\n"
          ]
        }
      ]
    },
    {
      "cell_type": "code",
      "metadata": {
        "id": "qQ5BTjNR2KQ2",
        "colab": {
          "base_uri": "https://localhost:8080/"
        },
        "outputId": "55636ed9-8a51-4f7a-ee95-6fd02aad0d17"
      },
      "source": [
        "#Query 3\n",
        "\n",
        "# esta query mostra os valores máximos de temperatura média anual atingida em cada país dentro do recorte histórico de 1900 a 2012\n",
        "# permitindo que vejamos os países mais quentes/frios e poder vislumbrar quais seriam os impactos de uma variação de temperatura nestes locais\n",
        "\n",
        "spark.sql('''\n",
        "SELECT \n",
        "  Pais, \n",
        "  Continente, \n",
        "  Regiao, \n",
        "  MAX(TempMediaAno) AS maxTempMediaAno\n",
        "FROM \n",
        "  temp_co2\n",
        "GROUP BY \n",
        "  Pais, \n",
        "  Continente, \n",
        "  Regiao\n",
        "ORDER BY \n",
        "  maxTempMediaAno DESC\n",
        "''').show()"
      ],
      "execution_count": null,
      "outputs": [
        {
          "output_type": "stream",
          "name": "stdout",
          "text": [
            "+--------------------+----------+--------------+------------------+\n",
            "|                Pais|Continente|        Regiao|   maxTempMediaAno|\n",
            "+--------------------+----------+--------------+------------------+\n",
            "|                Mali|    África|  África Oeste| 30.12708346048991|\n",
            "|            Djibouti|    África|  África Leste|29.923583189646404|\n",
            "|United Arab Emirates|      Ásia|    Ásia Oeste| 29.67133315404256|\n",
            "|          Mauritania|    África|  África Oeste| 29.37291733423869|\n",
            "|             Senegal|    África|  África Oeste|29.302333037058514|\n",
            "|               Niger|    África|  África Oeste|29.299916744232178|\n",
            "|        Burkina Faso|    África|  África Oeste|29.288750012715656|\n",
            "|               Aruba|   América|América Caribe|28.982499917348225|\n",
            "|               Qatar|      Ásia|    Ásia Oeste|28.889583269755047|\n",
            "|              Gambia|    África|  África Oeste|28.826083183288574|\n",
            "|                Chad|    África| África Centro|28.696499824523926|\n",
            "|               Sudan|    África|  África Norte|28.647666613260906|\n",
            "|             Curacao|   América|América Caribe|  28.4735000928243|\n",
            "|                Oman|      Ásia|    Ásia Oeste|  28.4586664835612|\n",
            "|               Benin|    África|  África Oeste|28.325583457946777|\n",
            "|           Sri Lanka|      Ásia|      Ásia Sul|28.153249899546307|\n",
            "|Saint Vincent and...|   América|América Caribe|28.132083574930828|\n",
            "|             Grenada|   América|América Caribe|28.108916759490967|\n",
            "|             Eritrea|    África|  África Leste|28.092583338419598|\n",
            "|             Bahrain|      Ásia|    Ásia Oeste| 28.06966718037923|\n",
            "+--------------------+----------+--------------+------------------+\n",
            "only showing top 20 rows\n",
            "\n"
          ]
        }
      ]
    },
    {
      "cell_type": "code",
      "metadata": {
        "id": "ftfyIawH28dt",
        "colab": {
          "base_uri": "https://localhost:8080/"
        },
        "outputId": "c3034199-feca-42e2-c06c-98e40f3c2716"
      },
      "source": [
        "#Query 4\n",
        "\n",
        "# esta query permite uma análise, dentre os 5 continentes*, da contribuição de cada um para as emissões de CO2 a nível global\n",
        "# ordenados do maior responsável ao menor \n",
        "# *esta divisão foi feita pelo grupo do Projeto 5 com base em dados da ONU\n",
        "\n",
        "spark.sql('''\n",
        "SELECT \n",
        "  Continente, \n",
        "  SUM(EmissaoCO2TonAno) AS emissaoContinente\n",
        "FROM \n",
        "  temp_co2\n",
        "GROUP BY \n",
        "  Continente\n",
        "ORDER BY \n",
        "  emissaoContinente DESC\n",
        "''').show()"
      ],
      "execution_count": null,
      "outputs": [
        {
          "output_type": "stream",
          "name": "stdout",
          "text": [
            "+----------+--------------------+\n",
            "|Continente|   emissaoContinente|\n",
            "+----------+--------------------+\n",
            "|   América|  4.4717635006159E11|\n",
            "|    Europa|4.339716828486199E11|\n",
            "|      Ásia|3.714579749650603E11|\n",
            "|    África|3.640263522689999...|\n",
            "|   Oceania|1.714756707880000...|\n",
            "+----------+--------------------+\n",
            "\n"
          ]
        }
      ]
    },
    {
      "cell_type": "code",
      "metadata": {
        "id": "7K10hb4E3lwf",
        "colab": {
          "base_uri": "https://localhost:8080/"
        },
        "outputId": "96790efa-c7b7-4998-c86c-f0f0adaae420"
      },
      "source": [
        "#Query 5\n",
        "\n",
        "# esta query permite uma análise, dentre as 22 regiões do planeta*, da contribuição de cada uma para as emissões de CO2 a nível global\n",
        "# ordenados da principal região na contribuição das emissões de CO2 - América do Norte - à que menos contribuiu - Micronésia\n",
        "# é interessante notar, nesta tabela, os maiores e menores contribuintes em termos de emissões de CO2 -  \n",
        "# 1º - América do Norte, 2º - Ásia Leste, 3º - Europa Leste, 4º - Europa Oeste - todos na casa das centenas de bilhões de ton de Emissões de CO2 por Ano\n",
        "# 19º - África Centro, 20º - Melanesia, 21º - Polynesia, 22º - Micronésia - \n",
        "# os dois primeiros apontados na casa das centenas de milhões e os dois últimos na casa das dezenas de milhões de ton de Emissões de CO2 por Ano\n",
        "\n",
        "# *esta divisão foi feita pelo grupo do Projeto 5 com base em dados da ONU\n",
        "\n",
        "spark.sql('''\n",
        "SELECT \n",
        "  Regiao, \n",
        "  SUM(EmissaoCO2TonAno) AS emissaoRegiao\n",
        "FROM \n",
        "  temp_co2\n",
        "GROUP BY \n",
        "  Regiao\n",
        "ORDER BY \n",
        "  emissaoRegiao DESC\n",
        "''').show(25)"
      ],
      "execution_count": null,
      "outputs": [
        {
          "output_type": "stream",
          "name": "stdout",
          "text": [
            "+--------------------+--------------------+\n",
            "|              Regiao|       emissaoRegiao|\n",
            "+--------------------+--------------------+\n",
            "|    América do Norte|    3.91133958922E11|\n",
            "|          Ásia Leste|2.332077219538999...|\n",
            "|        Europa Leste|   1.709119566871E11|\n",
            "|        Europa Oeste|  1.4107174649375E11|\n",
            "|        Europa Norte|    7.66388442554E10|\n",
            "|            Ásia Sul|5.550703901760998...|\n",
            "|          Europa Sul|4.534913541236999E10|\n",
            "|          Ásia Oeste|    3.79150376912E10|\n",
            "|      América do Sul|   3.373184480055E10|\n",
            "|        Ásia sudeste|2.612035077564999...|\n",
            "|        Ásia Central|1.870782552670000...|\n",
            "|     América Central|   1.775342567061E10|\n",
            "|          África Sul|    1.76355191964E10|\n",
            "|Australia e Nova ...|     1.6828292053E10|\n",
            "|        África Norte|1.185012446300000...|\n",
            "|      América Caribe| 4.557120668430002E9|\n",
            "|        África Oeste| 3.950222254939999E9|\n",
            "|        África Leste|1.9996711723500004E9|\n",
            "|       África Centro| 9.670981402099999E8|\n",
            "|           Melanesia| 2.737021938000001E8|\n",
            "|           Polynesia|         3.1774208E7|\n",
            "|          Micronésia|         1.3798624E7|\n",
            "+--------------------+--------------------+\n",
            "\n"
          ]
        }
      ]
    },
    {
      "cell_type": "code",
      "metadata": {
        "colab": {
          "base_uri": "https://localhost:8080/"
        },
        "id": "oRMo3cbG_CdY",
        "outputId": "e3e90da7-f5ac-490f-dfca-6afb9c0fb188"
      },
      "source": [
        "#Query 6\n",
        "\n",
        "# esta tabela nos permite observar que, embora representem apenas um quarto (aproximadamente) do total de países listados do grupo analisado\n",
        "# os países Desenvolvidos ainda assim possuem mais do dobro de emissões de CO2 que os países Em desenvolvimento\n",
        "# e ainda contando com o fato de que a tendência histórica de variação de Emissão de CO2 \n",
        "# é quase o dobro nos países Em desenvolvimento quando comparada nos páises Desenvolvidos,\n",
        "# tudo isso dentro do período compreendido entre 1900 e 2012\n",
        "\n",
        "spark.sql('''\n",
        "SELECT \n",
        "  NivelDesenvolvimento, \n",
        "  COUNT(DISTINCT Pais) AS qtdPaises, \n",
        "  SUM(EmissaoCO2TonAno) AS emissaoNivelDesenvolvimento, \n",
        "  ROUND(SUM(DifEmissaoCO2TonAno),5) AS varEmissaoCO2 \n",
        "FROM \n",
        "  temp_co2\n",
        "GROUP BY \n",
        "  NivelDesenvolvimento\n",
        "ORDER BY \n",
        "  EmissaoNivelDesenvolvimento DESC\n",
        "''').show()"
      ],
      "execution_count": null,
      "outputs": [
        {
          "output_type": "stream",
          "name": "stdout",
          "text": [
            "+--------------------+---------+---------------------------+--------------------+\n",
            "|NivelDesenvolvimento|qtdPaises|emissaoNivelDesenvolvimento|       varEmissaoCO2|\n",
            "+--------------------+---------+---------------------------+--------------------+\n",
            "|        Desenvolvido|       51|         8.9999636159636E11|  1.0644601432925E10|\n",
            "|  Em desenvolvimento|      153|       4.061598485846101E11|1.973777451925355E10|\n",
            "+--------------------+---------+---------------------------+--------------------+\n",
            "\n"
          ]
        }
      ]
    },
    {
      "cell_type": "code",
      "metadata": {
        "id": "QR9CENS6BKLt",
        "colab": {
          "base_uri": "https://localhost:8080/"
        },
        "outputId": "fbcb3fa1-453e-43c0-b09d-ac3eef8dc9dd"
      },
      "source": [
        "# Query 7\n",
        "\n",
        "# esta query nos permite observar os países e regiões em que houve maior variação de temperatura acumulada \n",
        "# dentro do período observado, apresentando dados com valores bastante significativos\n",
        "# as cinco primeiras linhas retornam valores de  variação de temperatura acima de 2 ºC positivos em um período de 113 anos\n",
        "\n",
        "spark.sql('''\n",
        "SELECT \n",
        "  Pais,\n",
        "  Continente,\n",
        "  Regiao, \n",
        "  SUM(DifTempMediaAno) AS totalVarTempMedia\n",
        "FROM \n",
        "  temp_co2\n",
        "GROUP BY \n",
        "  Pais,\n",
        "  Continente,\n",
        "  Regiao\n",
        "ORDER BY \n",
        "  totalVarTempMedia DESC\n",
        "''').show(200) "
      ],
      "execution_count": null,
      "outputs": [
        {
          "output_type": "stream",
          "name": "stdout",
          "text": [
            "+--------------------+----------+--------------------+--------------------+\n",
            "|                Pais|Continente|              Regiao|   totalVarTempMedia|\n",
            "+--------------------+----------+--------------------+--------------------+\n",
            "|           Greenland|   América|    América do Norte|  2.3875830620527267|\n",
            "|             Ireland|    Europa|        Europa Norte|  2.3140000502268467|\n",
            "|              Russia|    Europa|        Europa Leste|  2.2523331046104436|\n",
            "|              Jordan|      Ásia|          Ásia Oeste|  2.2376667658487968|\n",
            "|             Estonia|    Europa|        Europa Norte|   2.208416510373354|\n",
            "|              Latvia|    Europa|        Europa Norte|  2.1617499006291228|\n",
            "|             Bahrain|      Ásia|          Ásia Oeste|     2.0809166431427|\n",
            "|              Norway|    Europa|        Europa Norte|   2.071750046064455|\n",
            "|             Uruguay|   América|      América do Sul|   1.912750005722046|\n",
            "|             Finland|    Europa|        Europa Norte|   1.906750084211429|\n",
            "|              Kuwait|      Ásia|          Ásia Oeste|   1.904249986012779|\n",
            "|            Thailand|      Ásia|        Ásia sudeste|  1.8711668650309257|\n",
            "|               Qatar|      Ásia|          Ásia Oeste|  1.8704169591267892|\n",
            "|              Canada|   América|    América do Norte|  1.8419166505336764|\n",
            "|              Cyprus|      Ásia|          Ásia Oeste|  1.7794167200724296|\n",
            "|               Egypt|    África|        África Norte|  1.7327500979105608|\n",
            "|              Sweden|    Europa|        Europa Norte|    1.63741657231003|\n",
            "|                Iraq|      Ásia|          Ásia Oeste|  1.6167494455973284|\n",
            "|               Libya|    África|        África Norte|  1.4920833905537911|\n",
            "|          Azerbaijan|      Ásia|          Ásia Oeste|  1.4398332809408512|\n",
            "| Trinidad and Tobago|   América|      América Caribe|  1.4084165891011544|\n",
            "|United Arab Emirates|      Ásia|          Ásia Oeste|    1.40683348973592|\n",
            "|             Eritrea|    África|        África Leste|   1.387833595275879|\n",
            "|             Armenia|      Ásia|          Ásia Oeste|    1.38049978017807|\n",
            "|              Israel|      Ásia|          Ásia Oeste|  1.3240831693013497|\n",
            "|               Yemen|      Ásia|          Ásia Oeste|   1.316750367482502|\n",
            "|         Philippines|      Ásia|        Ásia sudeste|  1.3146669069925956|\n",
            "|            Dominica|   América|      América Caribe|  1.3143335978190116|\n",
            "|                Oman|      Ásia|          Ásia Oeste|   1.291250228881836|\n",
            "|             Georgia|      Ásia|          Ásia Oeste|  1.2586667134116087|\n",
            "|       United States|   América|    América do Norte|  1.2394997378190364|\n",
            "|            Djibouti|    África|        África Leste|  1.2247497240702323|\n",
            "|             Ukraine|    Europa|        Europa Leste|  1.2092501434187106|\n",
            "|             Myanmar|      Ásia|        Ásia sudeste|  1.1970829963684082|\n",
            "|            Suriname|   América|      América do Sul|  1.1905001004536935|\n",
            "|             Albania|    Europa|          Europa Sul|   1.184583391994238|\n",
            "|          Guadeloupe|   América|      América Caribe|  1.1830832163492815|\n",
            "|             Ecuador|   América|      América do Sul|  1.1770002047220842|\n",
            "|          Martinique|   América|      América Caribe|  1.1386666297912598|\n",
            "|            Paraguay|   América|      América do Sul|  1.1358327865600586|\n",
            "|              Mexico|   América|     América Central|   1.130833625793457|\n",
            "|       French Guiana|   América|      América do Sul|   1.113666375478111|\n",
            "|               Japan|      Ásia|          Ásia Leste|  1.0919998350242768|\n",
            "|            Slovenia|    Europa|          Europa Sul|  1.0898333688577022|\n",
            "|               Italy|    Europa|          Europa Sul|  1.0809998114903774|\n",
            "|      Czech Republic|    Europa|        Europa Leste|  1.0802500272790594|\n",
            "|        Saudi Arabia|      Ásia|          Ásia Oeste|  1.0756661097208706|\n",
            "|Saint Vincent and...|   América|      América Caribe|  1.0663331349690743|\n",
            "|            Bulgaria|    Europa|        Europa Leste|  1.0647500058015194|\n",
            "|         Saint Lucia|   América|      América Caribe|  1.0622502962748186|\n",
            "|             Croatia|    Europa|          Europa Sul|   1.056749964753788|\n",
            "|             Tunisia|    África|        África Norte|  1.0504167874654122|\n",
            "|               Sudan|    África|        África Norte|   1.049166361490883|\n",
            "|          Costa Rica|   América|     América Central|  1.0442498524983712|\n",
            "|               Malta|    Europa|          Europa Sul|    1.03866680463155|\n",
            "|             Moldova|    Europa|        Europa Leste|  1.0303334593772888|\n",
            "|              Guyana|   América|      América do Sul|   1.029833475748699|\n",
            "|            Malaysia|      Ásia|        Ásia sudeste|  1.0220832824706996|\n",
            "| Antigua and Barbuda|   América|      América Caribe|  1.0066665013631209|\n",
            "|Bosnia and Herzeg...|    Europa|          Europa Sul|  0.9989999830722809|\n",
            "|             Grenada|   América|      América Caribe|  0.9939999580383301|\n",
            "|            Eswatini|    África|          África Sul|  0.9882499376932792|\n",
            "|             Hungary|    Europa|        Europa Leste|  0.9874166299899407|\n",
            "|      Islas Malvinas|   América|      América do Sul|  0.9863332708676653|\n",
            "|          Cape Verde|    África|        África Oeste|  0.9743331273396798|\n",
            "|               Chile|   América|      América do Sul|  0.9675833781560268|\n",
            "|             Somalia|    África|        África Leste|  0.9559164047241211|\n",
            "|               Spain|    Europa|          Europa Sul|  0.9505834579467773|\n",
            "|              Greece|    Europa|          Europa Sul|  0.9432500004768389|\n",
            "|             Austria|    Europa|        Europa Oeste|  0.9410834461450577|\n",
            "|              Turkey|      Ásia|          Ásia Oeste|  0.9406667264799289|\n",
            "|           Sri Lanka|      Ásia|            Ásia Sul|  0.9401666323343925|\n",
            "|             Romania|    Europa|        Europa Leste|  0.9204165935516357|\n",
            "|            Slovakia|    Europa|        Europa Leste|  0.9149167984724036|\n",
            "|           Lithuania|    Europa|        Europa Norte|  0.9081666866938267|\n",
            "|          Luxembourg|    Europa|        Europa Oeste|  0.8840001678715144|\n",
            "|           Argentina|   América|      América do Sul|  0.8817500670750942|\n",
            "|                Laos|      Ásia|        Ásia sudeste|  0.8806665738423654|\n",
            "|            Zimbabwe|    África|        África Leste|   0.879750172297161|\n",
            "|            Cambodia|      Ásia|        Ásia sudeste|  0.8625000317891427|\n",
            "|            Colombia|   América|      América do Sul|  0.8566667238871268|\n",
            "|         Switzerland|    Europa|        Europa Oeste|  0.8540834556333721|\n",
            "|            Barbados|   América|      América Caribe|  0.8499164581298828|\n",
            "|             Jamaica|   América|      América Caribe|  0.8475831349690779|\n",
            "|             Denmark|    Europa|        Europa Norte|  0.8442500419914714|\n",
            "|             Morocco|    África|        África Norte|  0.8382503191630022|\n",
            "|             Belarus|    Europa|        Europa Leste|  0.8338334361712141|\n",
            "|           Singapore|      Ásia|        Ásia sudeste|  0.8308334350585938|\n",
            "|             Algeria|    África|        África Norte|  0.8295830885569266|\n",
            "|             Reunion|    África|        África Leste|  0.8236668904622384|\n",
            "|          Seychelles|    África|        África Leste|  0.8159998257954939|\n",
            "|              Taiwan|      Ásia|          Ásia Leste|  0.8157497247060128|\n",
            "|              Brazil|   América|      América do Sul|  0.8122502962748221|\n",
            "|           Mauritius|    África|        África Leste|  0.8094169298807756|\n",
            "|  Dominican Republic|   América|      América Caribe|  0.7982498804728202|\n",
            "|              Poland|    Europa|        Europa Leste|  0.7953333780169478|\n",
            "|            Anguilla|   América|      América Caribe|   0.792666117350258|\n",
            "|             Germany|    Europa|        Europa Oeste|  0.7750833506385479|\n",
            "|           Guatemala|   América|     América Central|  0.7741667429606096|\n",
            "|                Cuba|   América|      América Caribe|   0.772833188374836|\n",
            "|             Bolivia|   América|      América do Sul|  0.7654166221618652|\n",
            "|              Serbia|    Europa|          Europa Sul|    0.74991657336553|\n",
            "|                Niue|   Oceania|           Polynesia|  0.7378334999084473|\n",
            "|          Kazakhstan|      Ásia|        Ásia Central|  0.7363333503405256|\n",
            "|          Montenegro|    Europa|          Europa Sul|   0.726833236714203|\n",
            "|         Netherlands|    Europa|        Europa Oeste|  0.7105835129817333|\n",
            "|               Haiti|   América|      América Caribe|  0.7032497723897286|\n",
            "|          Montserrat|   América|      América Caribe|  0.7025000254313163|\n",
            "|              Gambia|    África|        África Oeste|  0.6869997978210449|\n",
            "|         New Zealand|   Oceania|Australia e Nova ...|  0.6860834360122681|\n",
            "|British Virgin Is...|   América|      América Caribe|   0.685333251953125|\n",
            "|            Portugal|    Europa|          Europa Sul|  0.6804166634877529|\n",
            "|        Burkina Faso|    África|        África Oeste|  0.6799165407816545|\n",
            "|    French Polynesia|   Oceania|           Polynesia|  0.6742499669392927|\n",
            "|               Benin|    África|        África Oeste|   0.664000352223713|\n",
            "|               Niger|    África|        África Oeste|  0.6628333727518729|\n",
            "|              France|    Europa|        Europa Oeste|  0.6591663857301082|\n",
            "|             Vietnam|      Ásia|        Ásia sudeste|  0.6555833816528285|\n",
            "|               Syria|      Ásia|          Ásia Oeste|  0.6369999647140503|\n",
            "|                Iran|      Ásia|            Ásia Sul|  0.6358333826065063|\n",
            "|             Senegal|    África|        África Oeste|  0.6275836626688687|\n",
            "|     Solomon Islands|   Oceania|           Melanesia|  0.6175001462300642|\n",
            "|       Guinea-Bissau|    África|        África Oeste|  0.6137502988179513|\n",
            "|            Kiribati|   Oceania|          Micronésia|  0.6037499109903983|\n",
            "|         South Korea|      Ásia|          Ásia Leste|  0.6028334200382233|\n",
            "|              Panama|   América|     América Central|  0.6020000775655134|\n",
            "|         El Salvador|   América|     América Central|  0.5987496376037598|\n",
            "|            Honduras|   América|     América Central|  0.5880832672119141|\n",
            "|           Indonesia|      Ásia|        Ásia sudeste|  0.5875000953674316|\n",
            "|          Micronesia|   Oceania|          Micronésia|  0.5843335787455253|\n",
            "|               Nepal|      Ásia|            Ásia Sul|   0.574499924977621|\n",
            "|        Sierra Leone|    África|        África Oeste|  0.5709997812906877|\n",
            "|             Belgium|    Europa|        Europa Oeste|  0.5645001977682114|\n",
            "|             Lesotho|    África|          África Sul|  0.5536665121714268|\n",
            "|               Kenya|    África|        África Leste|  0.5516668955485038|\n",
            "|               China|      Ásia|          Ásia Leste|  0.5395833688477669|\n",
            "|              Guinea|    África|        África Oeste|  0.5343332290649414|\n",
            "|       Cote d'Ivoire|    África|        África Oeste|  0.5198337237040214|\n",
            "|             Liberia|    África|        África Oeste|  0.5169165929158552|\n",
            "|              Belize|   América|     América Central|  0.5134169260660784|\n",
            "|            Ethiopia|    África|        África Leste|  0.5096670786539725|\n",
            "|               Gabon|    África|       África Centro|  0.4895000457763672|\n",
            "|           Macedonia|    Europa|          Europa Sul|  0.4870831727360674|\n",
            "|              Uganda|    África|        África Leste| 0.46683327356974047|\n",
            "|      United Kingdom|    Europa|        Europa Norte| 0.46141669154167175|\n",
            "|        South Africa|    África|          África Sul| 0.46091651916503906|\n",
            "|Turks and Caicos ...|   América|      América Caribe|  0.4552497863769531|\n",
            "|                Peru|   América|      América do Sul| 0.44675000508626184|\n",
            "|          Mozambique|    África|        África Leste|  0.4432495435078927|\n",
            "|      Cayman Islands|   América|      América Caribe|  0.4347503980000802|\n",
            "|              Rwanda|    África|        África Leste| 0.42766666412353516|\n",
            "|        Turkmenistan|      Ásia|        Ásia Central| 0.41616643336601555|\n",
            "|          Madagascar|    África|        África Leste|  0.4071669578552246|\n",
            "|               Tonga|   Oceania|           Polynesia| 0.38608344395955285|\n",
            "|           Palestine|      Ásia|          Ásia Oeste|  0.3841665585835763|\n",
            "|            Tanzania|    África|        África Leste|  0.3840829531351737|\n",
            "|             Burundi|    África|        África Leste|  0.3695832888285331|\n",
            "|         North Korea|      Ásia|          Ásia Leste| 0.35966677591204643|\n",
            "|               Samoa|   Oceania|           Polynesia| 0.35799964269002515|\n",
            "|               Palau|   Oceania|          Micronésia|  0.3563334147135393|\n",
            "|            Botswana|    África|          África Sul|  0.3191669782002755|\n",
            "|Saint Kitts and N...|   América|      América Caribe| 0.30358362197875977|\n",
            "|       New Caledonia|   Oceania|           Melanesia|  0.2820003827412947|\n",
            "|          Uzbekistan|      Ásia|        Ásia Central|  0.2736668009310961|\n",
            "|               India|      Ásia|            Ásia Sul| 0.27300024032592773|\n",
            "|             Comoros|    África|        África Leste| 0.26933320363362867|\n",
            "|                Fiji|   Oceania|           Melanesia|  0.2640835444132499|\n",
            "|           Australia|   Oceania|Australia e Nova ...| 0.25791676839192945|\n",
            "|             Iceland|    Europa|        Europa Norte| 0.25191680027637653|\n",
            "|             Nigeria|    África|        África Oeste| 0.24400011698405066|\n",
            "|             Bahamas|   América|      América Caribe| 0.23175032933553297|\n",
            "|               Congo|    África|       África Centro| 0.21683327356974402|\n",
            "|    Christmas Island|   Oceania|Australia e Nova ...| 0.21616697311401367|\n",
            "|            Cameroon|    África|       África Centro| 0.19991652170817176|\n",
            "|                Chad|    África|       África Centro| 0.19666671752929688|\n",
            "|              Angola|    África|       África Centro|  0.1950836181640625|\n",
            "|               Ghana|    África|        África Oeste|              0.1875|\n",
            "|              Zambia|    África|        África Leste| 0.16258319218953332|\n",
            "|         Afghanistan|      Ásia|            Ásia Sul| 0.14633346969882766|\n",
            "|              Malawi|    África|        África Leste| 0.14533329010009766|\n",
            "|               Macao|      Ásia|          Ásia Leste| 0.11466670036315918|\n",
            "|                Togo|    África|        África Oeste| 0.10541629791259766|\n",
            "|    Papua New Guinea|   Oceania|           Melanesia| 0.10191663106282789|\n",
            "|   Equatorial Guinea|    África|       África Centro|0.050333499908447266|\n",
            "|          Mauritania|    África|        África Oeste|0.014083703358966915|\n",
            "|             Lebanon|      Ásia|          Ásia Oeste|0.002916971842445548|\n",
            "|              Bhutan|      Ásia|            Ásia Sul|-0.01016682386398...|\n",
            "|            Mongolia|      Ásia|          Ásia Leste|-0.02491643776496...|\n",
            "|Central African R...|    África|       África Centro|-0.02950000762939453|\n",
            "|       Liechtenstein|    Europa|        Europa Oeste|-0.06508323550224304|\n",
            "|           Nicaragua|   América|     América Central|-0.07208331425984582|\n",
            "|            Pakistan|      Ásia|            Ásia Sul|-0.11549989382426062|\n",
            "|           Venezuela|   América|      América do Sul|-0.15525007247924805|\n",
            "|       Faroe Islands|    Europa|        Europa Norte|-0.15749998887379935|\n",
            "|                Mali|    África|        África Oeste|-0.18449989954630652|\n",
            "|               Aruba|   América|      América Caribe| -0.1845830281575509|\n",
            "|         Timor Leste|      Ásia|        Ásia sudeste| -0.1873332659403495|\n",
            "|          Kyrgyzstan|      Ásia|        Ásia Central|-0.20641662677129125|\n",
            "|             Curacao|   América|      América Caribe|-0.20658349990844727|\n",
            "|             Andorra|    Europa|          Europa Sul|-0.24516700704892358|\n",
            "+--------------------+----------+--------------------+--------------------+\n",
            "only showing top 200 rows\n",
            "\n"
          ]
        }
      ]
    },
    {
      "cell_type": "code",
      "metadata": {
        "colab": {
          "base_uri": "https://localhost:8080/"
        },
        "id": "tAjoW2z0EPHI",
        "outputId": "dfb50ae5-e343-4ce9-f94c-61761fa1a2f4"
      },
      "source": [
        "#Query 8\n",
        "\n",
        "# esta query permite que busquemos uma possível relação entre Emissão de CO2 e variação de temperatura média dos diferentes Países\n",
        "# dando atenção também à localização geográfica - Continente e Região\n",
        "# no período observado - 1900 a 2012\n",
        "\n",
        "spark.sql('''\n",
        "SELECT \n",
        "  Pais, \n",
        "  Continente, \n",
        "  Regiao, \n",
        "  SUM(EmissaoCO2TonAno) AS somaEmissaoCO2, \n",
        "  ROUND(SUM(DifTempMediaAno),5) AS somaDifTempMedia\n",
        "FROM \n",
        "  temp_co2\n",
        "GROUP BY \n",
        "  Pais, \n",
        "  Continente, \n",
        "  Regiao\n",
        "ORDER BY \n",
        "  somaEmissaoCO2 DESC\n",
        "''').show(15)"
      ],
      "execution_count": null,
      "outputs": [
        {
          "output_type": "stream",
          "name": "stdout",
          "text": [
            "+--------------+----------+--------------------+---------------+----------------+\n",
            "|          Pais|Continente|              Regiao| somaEmissaoCO2|somaDifTempMedia|\n",
            "+--------------+----------+--------------------+---------------+----------------+\n",
            "| United States|   América|    América do Norte|3.6228707408E11|          1.2395|\n",
            "|         China|      Ásia|          Ásia Leste|1.5125980995E11|         0.53958|\n",
            "|        Russia|    Europa|        Europa Leste| 9.222324485E10|         2.25233|\n",
            "|       Germany|    Europa|        Europa Oeste|8.0477050946E10|         0.77508|\n",
            "|United Kingdom|    Europa|        Europa Norte|5.8634289928E10|         0.46142|\n",
            "|         Japan|      Ásia|          Ásia Leste|5.5932726122E10|           1.092|\n",
            "|         India|      Ásia|            Ásia Sul|3.7119184284E10|           0.273|\n",
            "|        France|    Europa|        Europa Oeste|3.2414488784E10|         0.65917|\n",
            "|        Canada|   América|    América do Norte|2.8819349882E10|         1.84192|\n",
            "|       Ukraine|    Europa|        Europa Leste|2.4572876634E10|         1.20925|\n",
            "|        Poland|    Europa|        Europa Leste|2.3989858096E10|         0.79533|\n",
            "|         Italy|    Europa|          Europa Sul|2.1628276728E10|           1.081|\n",
            "|  South Africa|    África|          África Sul|1.7419644896E10|         0.46092|\n",
            "|        Mexico|   América|     América Central|1.6518410488E10|         1.13083|\n",
            "|     Australia|   Oceania|Australia e Nova ...|1.5253261408E10|         0.25792|\n",
            "+--------------+----------+--------------------+---------------+----------------+\n",
            "only showing top 15 rows\n",
            "\n"
          ]
        }
      ]
    },
    {
      "cell_type": "code",
      "metadata": {
        "colab": {
          "base_uri": "https://localhost:8080/"
        },
        "id": "srqlMp0XE_zK",
        "outputId": "98d03661-9df2-4bea-8438-4d3fb0dfe14b"
      },
      "source": [
        "#Query 9\n",
        "\n",
        "# esta query permite que busquemos uma relação entre Emissão de CO2 e variação de temperatura média dos diferentes Países\n",
        "# a partir da ótica das variações de temperaturas, trazendo novas possibilidades de insights\n",
        "# também dando atenção à localização geográfica - Continente e Região\n",
        "# no período observado - 1900 a 2012\n",
        "\n",
        "spark.sql('''\n",
        "SELECT \n",
        "  Pais, \n",
        "  Continente, \n",
        "  Regiao, \n",
        "  SUM(EmissaoCO2TonAno) AS somaEmissaoCO2, \n",
        "  ROUND(SUM(DifTempMediaAno),5) AS somaDifTempMedia\n",
        "FROM \n",
        "  temp_co2\n",
        "GROUP BY \n",
        "  Pais, \n",
        "  Continente, \n",
        "  Regiao\n",
        "ORDER BY \n",
        "  somaDifTempMedia DESC\n",
        "''').show(15)"
      ],
      "execution_count": null,
      "outputs": [
        {
          "output_type": "stream",
          "name": "stdout",
          "text": [
            "+---------+----------+----------------+--------------------+----------------+\n",
            "|     Pais|Continente|          Regiao|      somaEmissaoCO2|somaDifTempMedia|\n",
            "+---------+----------+----------------+--------------------+----------------+\n",
            "|Greenland|   América|América do Norte|          2.753496E7|         2.38758|\n",
            "|  Ireland|    Europa|    Europa Norte|        1.91959327E9|           2.314|\n",
            "|   Russia|    Europa|    Europa Leste|      9.222324485E10|         2.25233|\n",
            "|   Jordan|      Ásia|      Ásia Oeste|4.9917782146000004E8|         2.23767|\n",
            "|  Estonia|    Europa|    Europa Norte|       1.055969029E9|         2.20842|\n",
            "|   Latvia|    Europa|    Europa Norte|       5.820661835E8|         2.16175|\n",
            "|  Bahrain|      Ásia|      Ásia Oeste|        6.62789493E8|         2.08092|\n",
            "|   Norway|    Europa|    Europa Norte|       2.300883789E9|         2.07175|\n",
            "|  Uruguay|   América|  América do Sul|       3.186701215E8|         1.91275|\n",
            "|  Finland|    Europa|    Europa Norte|       2.821285606E9|         1.90675|\n",
            "|   Kuwait|      Ásia|      Ásia Oeste|       2.124607404E9|         1.90425|\n",
            "| Thailand|      Ásia|    Ásia sudeste|      5.4268943442E9|         1.87117|\n",
            "|    Qatar|      Ásia|      Ásia Oeste|       1.318490569E9|         1.87042|\n",
            "|   Canada|   América|América do Norte|     2.8819349882E10|         1.84192|\n",
            "|   Cyprus|      Ásia|      Ásia Oeste|      2.3582737574E8|         1.77942|\n",
            "+---------+----------+----------------+--------------------+----------------+\n",
            "only showing top 15 rows\n",
            "\n"
          ]
        }
      ]
    },
    {
      "cell_type": "code",
      "metadata": {
        "colab": {
          "base_uri": "https://localhost:8080/"
        },
        "id": "Q_3jcEnVGGJU",
        "outputId": "7336d42b-4926-424c-c792-5d8ff393257d"
      },
      "source": [
        "#Query 10\n",
        "\n",
        "# esta query apresenta uma análise do acumulado histórico das emissões de CO2 e variação total de temperatura\n",
        "# dentro do período considerado - 1900 a 2012, sendo que esta faixa de tempo é menor para alguns páises\n",
        "# devido a questões socio-políticas\n",
        "# justamente numa das regiões mais afetadas pelas mudanças climáticas - a Ásia Oeste/Oriente Médio\n",
        "\n",
        "spark.sql('''\n",
        "SELECT \n",
        "  Pais, \n",
        "  Regiao, \n",
        "  ROUND(SUM(DifTempMediaAno),5) AS somaDifTempMedia, \n",
        "  ROUND(SUM(EmissaoCO2TonAno),5) AS somaEmissaoCO2\n",
        "FROM \n",
        "  temp_co2\n",
        "GROUP BY \n",
        "  Pais, \n",
        "  Regiao\n",
        "HAVING \n",
        "  Regiao = 'Ásia Oeste'\n",
        "ORDER BY \n",
        "  somaDifTempMedia DESC\n",
        "''').show(20)"
      ],
      "execution_count": null,
      "outputs": [
        {
          "output_type": "stream",
          "name": "stdout",
          "text": [
            "+--------------------+----------+----------------+----------------+\n",
            "|                Pais|    Regiao|somaDifTempMedia|  somaEmissaoCO2|\n",
            "+--------------------+----------+----------------+----------------+\n",
            "|              Jordan|Ásia Oeste|         2.23767|  4.9917782146E8|\n",
            "|             Bahrain|Ásia Oeste|         2.08092|    6.62789493E8|\n",
            "|              Kuwait|Ásia Oeste|         1.90425|   2.124607404E9|\n",
            "|               Qatar|Ásia Oeste|         1.87042|   1.318490569E9|\n",
            "|              Cyprus|Ásia Oeste|         1.77942|  2.3582737574E8|\n",
            "|                Iraq|Ásia Oeste|         1.61675|  3.1070403535E9|\n",
            "|          Azerbaijan|Ásia Oeste|         1.43983|   2.280646502E9|\n",
            "|United Arab Emirates|Ásia Oeste|         1.40683|   3.085029108E9|\n",
            "|             Armenia|Ásia Oeste|          1.3805|   2.451920716E8|\n",
            "|              Israel|Ásia Oeste|         1.32408|   1.893874275E9|\n",
            "|               Yemen|Ásia Oeste|         1.31675|   5.137040065E8|\n",
            "|                Oman|Ásia Oeste|         1.29125|    7.56612676E8|\n",
            "|             Georgia|Ásia Oeste|         1.25867|   5.464118177E8|\n",
            "|        Saudi Arabia|Ásia Oeste|         1.07567|1.08134733379E10|\n",
            "|              Turkey|Ásia Oeste|         0.94067|   7.656537264E9|\n",
            "|               Syria|Ásia Oeste|           0.637|   1.611625447E9|\n",
            "|           Palestine|Ásia Oeste|         0.38417|     3.5819264E7|\n",
            "|             Lebanon|Ásia Oeste|         0.00292|   5.281789048E8|\n",
            "+--------------------+----------+----------------+----------------+\n",
            "\n"
          ]
        }
      ]
    },
    {
      "cell_type": "code",
      "metadata": {
        "colab": {
          "base_uri": "https://localhost:8080/"
        },
        "id": "3TFOVgpoJNc0",
        "outputId": "ccbab0e3-4161-41bb-f461-ce9847b9b10d"
      },
      "source": [
        "#Query 11 (BR)\n",
        "\n",
        "# esta query mostra as Emissões de CO2 e variações de temperatura ano a ano para o caso específico do Brasil\n",
        "# é possível observar que não há correlação direta, no caso brasileiro, entre esses dois fatores analisados\n",
        "# pois o país apresenta uma taxa cada vez mais elevada de emissões e uma variação muito pequena de temperatura\n",
        "# é notável também que o crescimento no valor de emissões se dá quase que linearmente com a passagem dos anos,\n",
        "# aumentando progressivamente \n",
        "\n",
        "spark.sql('''\n",
        "SELECT \n",
        "  Pais, \n",
        "  Ano, \n",
        "  ROUND(DifTempMediaAno, 8) AS varTempMediaAno, \n",
        "  EmissaoCO2TonAno\n",
        "FROM \n",
        "  temp_co2\n",
        "WHERE \n",
        "  Pais = 'Brazil'\n",
        "ORDER BY \n",
        "  EmissaoCO2TonAno DESC\n",
        "''').show(25)"
      ],
      "execution_count": null,
      "outputs": [
        {
          "output_type": "stream",
          "name": "stdout",
          "text": [
            "+------+----+---------------+----------------+\n",
            "|  Pais| Ano|varTempMediaAno|EmissaoCO2TonAno|\n",
            "+------+----+---------------+----------------+\n",
            "|Brazil|2012|       0.288167|    4.60063104E8|\n",
            "|Brazil|2011|    -0.38349994|    4.30194912E8|\n",
            "|Brazil|2010|     0.21183316|    4.11240192E8|\n",
            "|Brazil|2008|    -0.25766643|    3.80344928E8|\n",
            "|Brazil|2009|     0.19025008|    3.60090784E8|\n",
            "|Brazil|2007|      0.1509997|    3.56918752E8|\n",
            "|Brazil|2005|     0.30950022|    3.42086464E8|\n",
            "|Brazil|2006|    -0.28900019|    3.41946368E8|\n",
            "|Brazil|2004|     -0.1244998|    3.33675136E8|\n",
            "|Brazil|2001|      0.3079168|    3.32987392E8|\n",
            "|Brazil|2002|     0.29591703|    3.27434816E8|\n",
            "|Brazil|2000|    -0.09008344|    3.24226048E8|\n",
            "|Brazil|2003|    -0.17933385|    3.17508448E8|\n",
            "|Brazil|1999|    -0.67216682|    3.16282432E8|\n",
            "|Brazil|1998|     0.39933364|    3.08305728E8|\n",
            "|Brazil|1997|     0.22158321|    2.96585248E8|\n",
            "|Brazil|1996|    -0.21658325|    2.81194784E8|\n",
            "|Brazil|1995|     0.09974972|    2.55583376E8|\n",
            "|Brazil|1994|     0.09975004|     2.3947072E8|\n",
            "|Brazil|1993|     0.10358349|    2.28333216E8|\n",
            "|Brazil|1992|    -0.04083331|    2.18383504E8|\n",
            "|Brazil|1991|     0.01724974|    2.17227472E8|\n",
            "|Brazil|1989|    -0.30591647|    2.12113648E8|\n",
            "|Brazil|1988|    -0.38608344|     2.0756296E8|\n",
            "|Brazil|1990|     0.40350008|     2.0692112E8|\n",
            "+------+----+---------------+----------------+\n",
            "only showing top 25 rows\n",
            "\n"
          ]
        }
      ]
    },
    {
      "cell_type": "code",
      "metadata": {
        "id": "mtVs9urV-V_C"
      },
      "source": [
        "#Criação de Tabela brasil_1990_2010 no BigQuery\n",
        "\n",
        "# esta tabela fornece um recorte específico de país - Brasil - e período de tempo - 1990 a 2010\n",
        "# para que possamos fazer análises cruzadas com os dados sobre área de cobertura florestal\n",
        "\n",
        "'''\n",
        "CREATE OR REPLACE TABLE\n",
        "  brasil_1990_2010 AS (\n",
        "  SELECT\n",
        "    Pais,\n",
        "    Ano,\n",
        "    ROUND(DifTempMediaAno, 8) AS varTempMediaAno,\n",
        "    EmissaoCO2TonAno\n",
        "  FROM\n",
        "    temp_co2\n",
        "  WHERE\n",
        "    Pais = 'Brazil'\n",
        "    AND Ano > 1989\n",
        "    AND Ano < 2011\n",
        "  ORDER BY\n",
        "    EmissaoCO2TonAno DESC )\n",
        "'''"
      ],
      "execution_count": null,
      "outputs": []
    },
    {
      "cell_type": "code",
      "metadata": {
        "id": "MQ7foGVgzPU4"
      },
      "source": [
        "#Query 12\n",
        "\n",
        "# esta query nos permite observar, por meio da combinação de dados da tabela com recorte específico para o Brasil entre 1990 e 2010\n",
        "# e a tabela de cobertura florestal no mundo entre 1990 e 2010, um aumento significativo na temperatura média do período considerado\n",
        "# somado a uma crescente no total de Emissões de CO2  - atingindo o volume aproximado de 6 bilhões de toneladas em emissões - em um\n",
        "# período em que perdemos o equivalente à área aproximada do Estado do Rio de Janeiro em cobertura florestal\n",
        "# o que aponta para uma possível correlação entre os três tipos de dados considerados nessa análise:\n",
        "# Variação de Temperatura Média, Total de Emissões de CO2 e Área de Cobertura Florestal\n",
        "\n",
        "'''\n",
        "SELECT\n",
        "  a.Pais,\n",
        "  SUM(varTempMediaAno) AS VarTotalTempMedia,\n",
        "  SUM(EmissaoCO2TonAno) AS TotalEmissoesCO2,\n",
        "  b.AreaFlorestal_1990_1000ha_,\n",
        "  b.AreaFlorestal_2010_1000ha_,\n",
        "  b.Variacao_1990_2010,\n",
        "  b.VarPercentual_1990_2010\n",
        "FROM\n",
        "  `projetofinal-grupo5.mudancas_climaticas.brasil_1990_2010` AS a\n",
        "INNER JOIN\n",
        "  `projetofinal-grupo5.mudancas_climaticas.area-florestal` AS b\n",
        "ON\n",
        "  a.Pais = b.Pais\n",
        "GROUP BY\n",
        "  a.Pais,\n",
        "  b.AreaFlorestal_1990_1000ha_,\n",
        "  b.AreaFlorestal_2010_1000ha_,\n",
        "  b.Variacao_1990_2010,\n",
        "  b.VarPercentual_1990_2010\n",
        "'''\n"
      ],
      "execution_count": null,
      "outputs": []
    },
    {
      "cell_type": "code",
      "metadata": {
        "id": "JTXXuhdw_Y2v"
      },
      "source": [
        "#Criação de Tabela oriente_medio_1990_2010 no BigQuery\n",
        "\n",
        "# esta tabela fornece um recorte específico de Região - ÁsiaOeste/Oriente Médio - e período de tempo - 1990 a 2010\n",
        "# para que possamos fazer análises cruzadas com os dados sobre área de cobertura florestal\n",
        "\n",
        "'''\n",
        "CREATE OR REPLACE TABLE\n",
        "  mudancas_climaticas.oriente_medio_1990_2010 AS (\n",
        "  SELECT\n",
        "    Pais,\n",
        "    Regiao,\n",
        "    ROUND(SUM(DifTempMediaAno),5) AS VarTotalTempMedia,\n",
        "    ROUND(SUM(EmissaoCO2TonAno),5) AS SomaEmissaoCO2\n",
        "  FROM\n",
        "    `projetofinal-grupo5.mudancas_climaticas.temp_co2`\n",
        "  WHERE\n",
        "    Regiao = 'Ásia Oeste'\n",
        "    AND Ano >= 1990\n",
        "    AND Ano <= 2010\n",
        "  GROUP BY\n",
        "    Pais,\n",
        "    Regiao\n",
        "  ORDER BY\n",
        "    SomaEmissaoCO2 DESC\n",
        "  LIMIT\n",
        "    50 )\n",
        "'''"
      ],
      "execution_count": null,
      "outputs": []
    },
    {
      "cell_type": "code",
      "metadata": {
        "id": "TYvwC8_ixZ3Q"
      },
      "source": [
        "#Query 13\n",
        "\n",
        "# esta query, que combina dados da tabela específica sobre Ásia Oeste/Oriente Médio no período de 1990 a 2010, \n",
        "# com dados da tabela sobre cobertura florestal no mundo entre 1990 e 2010, mostra uma possível forte correlação\n",
        "# entre a falta de cobertura florestal e altos níveis de emissão de CO2 com a variação sensível de temperatura\n",
        "# nesta região do planeta\n",
        "\n",
        "spark.sql('''\n",
        "SELECT \n",
        "  a.*,\n",
        "  b.AreaFlorestal_1990_1000ha_,\n",
        "  b.AreaFlorestal_2010_1000ha_,\n",
        "  b.Variacao_1990_2010,\n",
        "  b.VarPercentual_1990_2010\n",
        "FROM \n",
        "  `projetofinal-grupo5.mudancas_climaticas.oriente_medio_1990_2010` AS a\n",
        "INNER JOIN\n",
        "  `projetofinal-grupo5.mudancas_climaticas.area-florestal` AS b\n",
        "ON\n",
        "  a.Pais = b.Pais\n",
        "''').show()"
      ],
      "execution_count": null,
      "outputs": []
    },
    {
      "cell_type": "code",
      "metadata": {
        "colab": {
          "base_uri": "https://localhost:8080/"
        },
        "id": "-MHDOY-KTcpX",
        "outputId": "128a69bf-18d6-4051-af9c-92776105130a"
      },
      "source": [
        "#Query 14 (BR)\n",
        "\n",
        "# esta query mostra os valores mínimos e máximos de emissão de CO2 ton/ano \n",
        "# atingidas pelo Brasil dentro do recorte histórico de 1900 a 2012,\n",
        "#que coincidem com os anos de 1900 e 2012, demonstrando uma tendência de crescente neste sentido\n",
        "#desde o começo do perído analisado\n",
        "\n",
        "spark.sql('''\n",
        "SELECT \n",
        "  Pais, \n",
        "  Continente, \n",
        "  Regiao, \n",
        "  MIN(EmissaoCO2TonAno) AS minEmissaoCO2, \n",
        "  MAX(EmissaoCO2TonAno) AS maxEmissaoCO2\n",
        "FROM \n",
        "  temp_co2\n",
        "GROUP BY \n",
        "  Pais, \n",
        "  Continente, \n",
        "  Regiao\n",
        "HAVING \n",
        "  Pais = 'Brazil'\n",
        "''').show()"
      ],
      "execution_count": null,
      "outputs": [
        {
          "output_type": "stream",
          "name": "stdout",
          "text": [
            "+------+----------+--------------+-------------+-------------+\n",
            "|  Pais|Continente|        Regiao|minEmissaoCO2|maxEmissaoCO2|\n",
            "+------+----------+--------------+-------------+-------------+\n",
            "|Brazil|   América|América do Sul|    2103136.0| 4.60063104E8|\n",
            "+------+----------+--------------+-------------+-------------+\n",
            "\n"
          ]
        }
      ]
    },
    {
      "cell_type": "code",
      "metadata": {
        "colab": {
          "base_uri": "https://localhost:8080/"
        },
        "id": "5VgeOI9hCEbr",
        "outputId": "3dae5aa8-520e-4160-c7b2-cb0150e23efe"
      },
      "source": [
        "#Query 15\n",
        "\n",
        "# esta query mostra o total das variações de temperatura média na região da América do Norte\n",
        "# dentro de todo o período analisado - 1900 a 2012\n",
        "# desta tabela resultante podemos aferir que, quanto mais ao norte se localiza o país, maiores foram as variação de temperatura \n",
        "# no período considerado\n",
        "\n",
        "spark.sql('''\n",
        "SELECT \n",
        "  Pais, \n",
        "  Regiao, \n",
        "  SUM(DifTempMediaAno) AS totalDifTempMedia\n",
        "FROM \n",
        "  temp_co2\n",
        "GROUP BY \n",
        "  Pais, \n",
        "  Regiao\n",
        "HAVING\n",
        "  Regiao = 'América do Norte'\n",
        "ORDER BY \n",
        "  totalDifTempMedia DESC\n",
        "''').show()"
      ],
      "execution_count": null,
      "outputs": [
        {
          "output_type": "stream",
          "name": "stdout",
          "text": [
            "+-------------+----------------+------------------+\n",
            "|         Pais|          Regiao| totalDifTempMedia|\n",
            "+-------------+----------------+------------------+\n",
            "|    Greenland|América do Norte|2.3875830620527267|\n",
            "|       Canada|América do Norte|1.8419166505336764|\n",
            "|United States|América do Norte|1.2394997378190364|\n",
            "+-------------+----------------+------------------+\n",
            "\n"
          ]
        }
      ]
    }
  ]
}