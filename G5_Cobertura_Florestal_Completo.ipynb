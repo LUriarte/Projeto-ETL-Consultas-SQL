{
  "nbformat": 4,
  "nbformat_minor": 0,
  "metadata": {
    "colab": {
      "name": "G5_Cobertura_Florestal_Completo.ipynb",
      "provenance": [],
      "collapsed_sections": [],
      "include_colab_link": true
    },
    "kernelspec": {
      "name": "python3",
      "display_name": "Python 3"
    },
    "language_info": {
      "name": "python"
    }
  },
  "cells": [
    {
      "cell_type": "markdown",
      "metadata": {
        "id": "view-in-github",
        "colab_type": "text"
      },
      "source": [
        "<a href=\"https://colab.research.google.com/github/LucasBrandaoGomes/Projeto-ETL-Consultas-SQL/blob/main/G5_Cobertura_Florestal_Completo.ipynb\" target=\"_parent\"><img src=\"https://colab.research.google.com/assets/colab-badge.svg\" alt=\"Open In Colab\"/></a>"
      ]
    },
    {
      "cell_type": "markdown",
      "metadata": {
        "id": "YiyVtlgU_ZAG"
      },
      "source": [
        "\n",
        "Instalação do pacote gcsfs para acesso de arquivos direto do GCStorage"
      ]
    },
    {
      "cell_type": "code",
      "metadata": {
        "id": "5zRtgmk0_DpI"
      },
      "source": [
        "pip install gcsfs"
      ],
      "execution_count": null,
      "outputs": []
    },
    {
      "cell_type": "markdown",
      "metadata": {
        "id": "qUFIcYKT_dyX"
      },
      "source": [
        "Instalação do pacote Pandera para validação de dados"
      ]
    },
    {
      "cell_type": "code",
      "metadata": {
        "id": "7m1WmJwE_jWi"
      },
      "source": [
        "pip install pandera"
      ],
      "execution_count": null,
      "outputs": []
    },
    {
      "cell_type": "markdown",
      "metadata": {
        "id": "zgv0DzSW_hvM"
      },
      "source": [
        "Importação de biblioteca para autenticação da service account e uso dos arquivos do bucket GCP"
      ]
    },
    {
      "cell_type": "code",
      "metadata": {
        "id": "XnFCY_l3_36k"
      },
      "source": [
        "import os"
      ],
      "execution_count": null,
      "outputs": []
    },
    {
      "cell_type": "markdown",
      "metadata": {
        "id": "KrdL4JrC_61I"
      },
      "source": [
        "Foi criada uma conta de serviço relacionada ao Bucket do CloudStorage bem como uma chave para interação entre as ferramentas. A seguir o arquivo de chave da conta de servico é atribuida a variável serviceAccount."
      ]
    },
    {
      "cell_type": "code",
      "metadata": {
        "id": "RpFVFG9N_7lx"
      },
      "source": [
        "serviceAccount ='/content/chave-projeto-g5.json'\n",
        "\n",
        "os.environ['GOOGLE_APPLICATION_CREDENTIALS'] = serviceAccount"
      ],
      "execution_count": null,
      "outputs": []
    },
    {
      "cell_type": "markdown",
      "metadata": {
        "id": "s-ltC_qa_949"
      },
      "source": [
        "Importação de bibliotecas a serem utilizadas na etapa de tratamento pandas/pandera."
      ]
    },
    {
      "cell_type": "code",
      "metadata": {
        "id": "F3583L6WAA0P"
      },
      "source": [
        "import pandas as pd\n",
        "import pandera as pa\n",
        "from google.cloud import storage"
      ],
      "execution_count": null,
      "outputs": []
    },
    {
      "cell_type": "markdown",
      "metadata": {
        "id": "WhottM28ADSs"
      },
      "source": [
        "Leitura do arquivo .xlsx utilizando o URI do arquivo no bucket."
      ]
    },
    {
      "cell_type": "code",
      "metadata": {
        "colab": {
          "base_uri": "https://localhost:8080/",
          "height": 513
        },
        "id": "Z3xUzSp1AFlO",
        "outputId": "a48d72ce-4f1e-4dec-b311-6498ff3bfbab"
      },
      "source": [
        "df = pd.read_excel('gs://projeto-final-bucket-g5/entrada/Forest_extent_characteristics_changes.xlsx', sheet_name=\"1a_Forest\", header = [4])\n",
        "df"
      ],
      "execution_count": null,
      "outputs": [
        {
          "output_type": "execute_result",
          "data": {
            "text/html": [
              "<div>\n",
              "<style scoped>\n",
              "    .dataframe tbody tr th:only-of-type {\n",
              "        vertical-align: middle;\n",
              "    }\n",
              "\n",
              "    .dataframe tbody tr th {\n",
              "        vertical-align: top;\n",
              "    }\n",
              "\n",
              "    .dataframe thead th {\n",
              "        text-align: right;\n",
              "    }\n",
              "</style>\n",
              "<table border=\"1\" class=\"dataframe\">\n",
              "  <thead>\n",
              "    <tr style=\"text-align: right;\">\n",
              "      <th></th>\n",
              "      <th>Unnamed: 0</th>\n",
              "      <th>Unnamed: 1</th>\n",
              "      <th>Unnamed: 2</th>\n",
              "      <th>Unnamed: 3</th>\n",
              "      <th>Unnamed: 4</th>\n",
              "      <th>2020</th>\n",
              "      <th>Unnamed: 6</th>\n",
              "      <th>2020.1</th>\n",
              "      <th>Unnamed: 8</th>\n",
              "      <th>2020.2</th>\n",
              "      <th>Unnamed: 10</th>\n",
              "      <th>Unnamed: 11</th>\n",
              "      <th>1990</th>\n",
              "      <th>2000</th>\n",
              "      <th>2010</th>\n",
              "      <th>2015</th>\n",
              "      <th>2020.3</th>\n",
              "      <th>90-00</th>\n",
              "      <th>90-10</th>\n",
              "      <th>90-15</th>\n",
              "      <th>90-20</th>\n",
              "      <th>00-10</th>\n",
              "      <th>00-15</th>\n",
              "      <th>00-20</th>\n",
              "      <th>10-15</th>\n",
              "      <th>10-20</th>\n",
              "      <th>15-20</th>\n",
              "      <th>90-00.1</th>\n",
              "      <th>90-10.1</th>\n",
              "      <th>90-15.1</th>\n",
              "      <th>90-20.1</th>\n",
              "      <th>00-10.1</th>\n",
              "      <th>00-15.1</th>\n",
              "      <th>00-20.1</th>\n",
              "      <th>10-15.1</th>\n",
              "      <th>10-20.1</th>\n",
              "      <th>15-20.1</th>\n",
              "    </tr>\n",
              "  </thead>\n",
              "  <tbody>\n",
              "    <tr>\n",
              "      <th>0</th>\n",
              "      <td>AGO</td>\n",
              "      <td>Angola</td>\n",
              "      <td>NaN</td>\n",
              "      <td>66607.38</td>\n",
              "      <td>NaN</td>\n",
              "      <td>NaN</td>\n",
              "      <td>NaN</td>\n",
              "      <td>66607.38</td>\n",
              "      <td>NaN</td>\n",
              "      <td>NaN</td>\n",
              "      <td>NaN</td>\n",
              "      <td>5.0</td>\n",
              "      <td>79262.7800</td>\n",
              "      <td>7.770861e+04</td>\n",
              "      <td>7.215800e+04</td>\n",
              "      <td>6.938269e+04</td>\n",
              "      <td>66607.38</td>\n",
              "      <td>-155.417000</td>\n",
              "      <td>-355.239000</td>\n",
              "      <td>-395.203600</td>\n",
              "      <td>-421.846667</td>\n",
              "      <td>-555.061000</td>\n",
              "      <td>-555.061333</td>\n",
              "      <td>-555.061500</td>\n",
              "      <td>-555.062000</td>\n",
              "      <td>-555.062000</td>\n",
              "      <td>-555.062000</td>\n",
              "      <td>-0.001978</td>\n",
              "      <td>-0.004685</td>\n",
              "      <td>-0.005311</td>\n",
              "      <td>-0.005782</td>\n",
              "      <td>-0.007383</td>\n",
              "      <td>-0.007527</td>\n",
              "      <td>-0.007678</td>\n",
              "      <td>-0.007813</td>\n",
              "      <td>-0.007972</td>\n",
              "      <td>-0.008131</td>\n",
              "    </tr>\n",
              "    <tr>\n",
              "      <th>1</th>\n",
              "      <td>BWA</td>\n",
              "      <td>Botswana</td>\n",
              "      <td>NaN</td>\n",
              "      <td>15254.70</td>\n",
              "      <td>NaN</td>\n",
              "      <td>NaN</td>\n",
              "      <td>NaN</td>\n",
              "      <td>15254.70</td>\n",
              "      <td>NaN</td>\n",
              "      <td>NaN</td>\n",
              "      <td>NaN</td>\n",
              "      <td>5.0</td>\n",
              "      <td>18803.7000</td>\n",
              "      <td>1.762070e+04</td>\n",
              "      <td>1.643770e+04</td>\n",
              "      <td>1.584620e+04</td>\n",
              "      <td>15254.70</td>\n",
              "      <td>-118.300000</td>\n",
              "      <td>-118.300000</td>\n",
              "      <td>-118.300000</td>\n",
              "      <td>-118.300000</td>\n",
              "      <td>-118.300000</td>\n",
              "      <td>-118.300000</td>\n",
              "      <td>-118.300000</td>\n",
              "      <td>-118.300000</td>\n",
              "      <td>-118.300000</td>\n",
              "      <td>-118.300000</td>\n",
              "      <td>-0.006477</td>\n",
              "      <td>-0.006701</td>\n",
              "      <td>-0.006822</td>\n",
              "      <td>-0.006948</td>\n",
              "      <td>-0.006926</td>\n",
              "      <td>-0.007051</td>\n",
              "      <td>-0.007183</td>\n",
              "      <td>-0.007303</td>\n",
              "      <td>-0.007441</td>\n",
              "      <td>-0.007580</td>\n",
              "    </tr>\n",
              "    <tr>\n",
              "      <th>2</th>\n",
              "      <td>COM</td>\n",
              "      <td>Comoros</td>\n",
              "      <td>NaN</td>\n",
              "      <td>32.92</td>\n",
              "      <td>NaN</td>\n",
              "      <td>NaN</td>\n",
              "      <td>NaN</td>\n",
              "      <td>32.92</td>\n",
              "      <td>NaN</td>\n",
              "      <td>NaN</td>\n",
              "      <td>NaN</td>\n",
              "      <td>5.0</td>\n",
              "      <td>46.0600</td>\n",
              "      <td>4.168000e+01</td>\n",
              "      <td>3.730000e+01</td>\n",
              "      <td>3.511000e+01</td>\n",
              "      <td>32.92</td>\n",
              "      <td>-0.438000</td>\n",
              "      <td>-0.438000</td>\n",
              "      <td>-0.438000</td>\n",
              "      <td>-0.438000</td>\n",
              "      <td>-0.438000</td>\n",
              "      <td>-0.438000</td>\n",
              "      <td>-0.438000</td>\n",
              "      <td>-0.438000</td>\n",
              "      <td>-0.438000</td>\n",
              "      <td>-0.438000</td>\n",
              "      <td>-0.009943</td>\n",
              "      <td>-0.010492</td>\n",
              "      <td>-0.010800</td>\n",
              "      <td>-0.011133</td>\n",
              "      <td>-0.011041</td>\n",
              "      <td>-0.011371</td>\n",
              "      <td>-0.011728</td>\n",
              "      <td>-0.012029</td>\n",
              "      <td>-0.012414</td>\n",
              "      <td>-0.012799</td>\n",
              "    </tr>\n",
              "    <tr>\n",
              "      <th>3</th>\n",
              "      <td>DJI</td>\n",
              "      <td>Djibouti</td>\n",
              "      <td>NaN</td>\n",
              "      <td>5.80</td>\n",
              "      <td>NaN</td>\n",
              "      <td>NaN</td>\n",
              "      <td>NaN</td>\n",
              "      <td>5.80</td>\n",
              "      <td>NaN</td>\n",
              "      <td>NaN</td>\n",
              "      <td>NaN</td>\n",
              "      <td>5.0</td>\n",
              "      <td>5.6000</td>\n",
              "      <td>5.600000e+00</td>\n",
              "      <td>5.600000e+00</td>\n",
              "      <td>5.600000e+00</td>\n",
              "      <td>5.80</td>\n",
              "      <td>0.000000</td>\n",
              "      <td>0.000000</td>\n",
              "      <td>0.000000</td>\n",
              "      <td>0.006667</td>\n",
              "      <td>0.000000</td>\n",
              "      <td>0.000000</td>\n",
              "      <td>0.010000</td>\n",
              "      <td>0.000000</td>\n",
              "      <td>0.020000</td>\n",
              "      <td>0.040000</td>\n",
              "      <td>0.000000</td>\n",
              "      <td>0.000000</td>\n",
              "      <td>0.000000</td>\n",
              "      <td>0.001170</td>\n",
              "      <td>0.000000</td>\n",
              "      <td>0.000000</td>\n",
              "      <td>0.001756</td>\n",
              "      <td>0.000000</td>\n",
              "      <td>0.003515</td>\n",
              "      <td>0.007043</td>\n",
              "    </tr>\n",
              "    <tr>\n",
              "      <th>4</th>\n",
              "      <td>ERI</td>\n",
              "      <td>Eritrea</td>\n",
              "      <td>NaN</td>\n",
              "      <td>1055.26</td>\n",
              "      <td>NaN</td>\n",
              "      <td>NaN</td>\n",
              "      <td>NaN</td>\n",
              "      <td>1055.26</td>\n",
              "      <td>NaN</td>\n",
              "      <td>NaN</td>\n",
              "      <td>NaN</td>\n",
              "      <td>5.0</td>\n",
              "      <td>1150.0600</td>\n",
              "      <td>1.118460e+03</td>\n",
              "      <td>1.086860e+03</td>\n",
              "      <td>1.071060e+03</td>\n",
              "      <td>1055.26</td>\n",
              "      <td>-3.160000</td>\n",
              "      <td>-3.160000</td>\n",
              "      <td>-3.160000</td>\n",
              "      <td>-3.160000</td>\n",
              "      <td>-3.160000</td>\n",
              "      <td>-3.160000</td>\n",
              "      <td>-3.160000</td>\n",
              "      <td>-3.160000</td>\n",
              "      <td>-3.160000</td>\n",
              "      <td>-3.160000</td>\n",
              "      <td>-0.002782</td>\n",
              "      <td>-0.002822</td>\n",
              "      <td>-0.002843</td>\n",
              "      <td>-0.002863</td>\n",
              "      <td>-0.002862</td>\n",
              "      <td>-0.002883</td>\n",
              "      <td>-0.002904</td>\n",
              "      <td>-0.002925</td>\n",
              "      <td>-0.002946</td>\n",
              "      <td>-0.002968</td>\n",
              "    </tr>\n",
              "    <tr>\n",
              "      <th>...</th>\n",
              "      <td>...</td>\n",
              "      <td>...</td>\n",
              "      <td>...</td>\n",
              "      <td>...</td>\n",
              "      <td>...</td>\n",
              "      <td>...</td>\n",
              "      <td>...</td>\n",
              "      <td>...</td>\n",
              "      <td>...</td>\n",
              "      <td>...</td>\n",
              "      <td>...</td>\n",
              "      <td>...</td>\n",
              "      <td>...</td>\n",
              "      <td>...</td>\n",
              "      <td>...</td>\n",
              "      <td>...</td>\n",
              "      <td>...</td>\n",
              "      <td>...</td>\n",
              "      <td>...</td>\n",
              "      <td>...</td>\n",
              "      <td>...</td>\n",
              "      <td>...</td>\n",
              "      <td>...</td>\n",
              "      <td>...</td>\n",
              "      <td>...</td>\n",
              "      <td>...</td>\n",
              "      <td>...</td>\n",
              "      <td>...</td>\n",
              "      <td>...</td>\n",
              "      <td>...</td>\n",
              "      <td>...</td>\n",
              "      <td>...</td>\n",
              "      <td>...</td>\n",
              "      <td>...</td>\n",
              "      <td>...</td>\n",
              "      <td>...</td>\n",
              "      <td>...</td>\n",
              "    </tr>\n",
              "    <tr>\n",
              "      <th>250</th>\n",
              "      <td>NaN</td>\n",
              "      <td>Asia</td>\n",
              "      <td>48.0</td>\n",
              "      <td>622686.81</td>\n",
              "      <td>48.0</td>\n",
              "      <td>622686.81</td>\n",
              "      <td>1.0</td>\n",
              "      <td>622686.81</td>\n",
              "      <td>48.0</td>\n",
              "      <td>622686.81</td>\n",
              "      <td>1.0</td>\n",
              "      <td>NaN</td>\n",
              "      <td>585393.0045</td>\n",
              "      <td>5.874100e+05</td>\n",
              "      <td>6.109599e+05</td>\n",
              "      <td>6.161065e+05</td>\n",
              "      <td>622686.81</td>\n",
              "      <td>201.695385</td>\n",
              "      <td>1278.345102</td>\n",
              "      <td>1228.541202</td>\n",
              "      <td>1243.126850</td>\n",
              "      <td>2354.994818</td>\n",
              "      <td>1913.105081</td>\n",
              "      <td>1763.842582</td>\n",
              "      <td>1029.325605</td>\n",
              "      <td>1172.690347</td>\n",
              "      <td>1316.055088</td>\n",
              "      <td>0.000344</td>\n",
              "      <td>0.002140</td>\n",
              "      <td>0.002048</td>\n",
              "      <td>0.002061</td>\n",
              "      <td>0.003939</td>\n",
              "      <td>0.003185</td>\n",
              "      <td>0.002920</td>\n",
              "      <td>0.001679</td>\n",
              "      <td>0.001903</td>\n",
              "      <td>0.002127</td>\n",
              "    </tr>\n",
              "    <tr>\n",
              "      <th>251</th>\n",
              "      <td>NaN</td>\n",
              "      <td>Europe</td>\n",
              "      <td>50.0</td>\n",
              "      <td>1017461.22</td>\n",
              "      <td>50.0</td>\n",
              "      <td>1017461.22</td>\n",
              "      <td>1.0</td>\n",
              "      <td>1017461.22</td>\n",
              "      <td>50.0</td>\n",
              "      <td>1017461.22</td>\n",
              "      <td>1.0</td>\n",
              "      <td>NaN</td>\n",
              "      <td>994319.1610</td>\n",
              "      <td>1.002268e+06</td>\n",
              "      <td>1.013982e+06</td>\n",
              "      <td>1.015806e+06</td>\n",
              "      <td>1017461.22</td>\n",
              "      <td>794.907860</td>\n",
              "      <td>983.161060</td>\n",
              "      <td>859.491980</td>\n",
              "      <td>771.401967</td>\n",
              "      <td>1171.414260</td>\n",
              "      <td>902.548060</td>\n",
              "      <td>759.649020</td>\n",
              "      <td>364.815660</td>\n",
              "      <td>347.883780</td>\n",
              "      <td>330.951900</td>\n",
              "      <td>0.000797</td>\n",
              "      <td>0.000980</td>\n",
              "      <td>0.000856</td>\n",
              "      <td>0.000767</td>\n",
              "      <td>0.001163</td>\n",
              "      <td>0.000895</td>\n",
              "      <td>0.000753</td>\n",
              "      <td>0.000360</td>\n",
              "      <td>0.000343</td>\n",
              "      <td>0.000326</td>\n",
              "    </tr>\n",
              "    <tr>\n",
              "      <th>252</th>\n",
              "      <td>NaN</td>\n",
              "      <td>North and Central America</td>\n",
              "      <td>41.0</td>\n",
              "      <td>752709.98</td>\n",
              "      <td>41.0</td>\n",
              "      <td>752709.98</td>\n",
              "      <td>1.0</td>\n",
              "      <td>752709.98</td>\n",
              "      <td>41.0</td>\n",
              "      <td>752709.98</td>\n",
              "      <td>1.0</td>\n",
              "      <td>NaN</td>\n",
              "      <td>755279.3700</td>\n",
              "      <td>7.523490e+05</td>\n",
              "      <td>7.541898e+05</td>\n",
              "      <td>7.544488e+05</td>\n",
              "      <td>752709.98</td>\n",
              "      <td>-293.040000</td>\n",
              "      <td>-54.477500</td>\n",
              "      <td>-33.222400</td>\n",
              "      <td>-85.646333</td>\n",
              "      <td>184.085000</td>\n",
              "      <td>139.989333</td>\n",
              "      <td>18.050500</td>\n",
              "      <td>51.798000</td>\n",
              "      <td>-147.984000</td>\n",
              "      <td>-347.766000</td>\n",
              "      <td>-0.000389</td>\n",
              "      <td>-0.000072</td>\n",
              "      <td>-0.000044</td>\n",
              "      <td>-0.000114</td>\n",
              "      <td>0.000244</td>\n",
              "      <td>0.000186</td>\n",
              "      <td>0.000024</td>\n",
              "      <td>0.000069</td>\n",
              "      <td>-0.000196</td>\n",
              "      <td>-0.000461</td>\n",
              "    </tr>\n",
              "    <tr>\n",
              "      <th>253</th>\n",
              "      <td>NaN</td>\n",
              "      <td>Oceania</td>\n",
              "      <td>25.0</td>\n",
              "      <td>185248.02</td>\n",
              "      <td>25.0</td>\n",
              "      <td>185248.02</td>\n",
              "      <td>1.0</td>\n",
              "      <td>185248.02</td>\n",
              "      <td>25.0</td>\n",
              "      <td>185248.02</td>\n",
              "      <td>1.0</td>\n",
              "      <td>NaN</td>\n",
              "      <td>184974.3100</td>\n",
              "      <td>1.833284e+05</td>\n",
              "      <td>1.810150e+05</td>\n",
              "      <td>1.844349e+05</td>\n",
              "      <td>185248.02</td>\n",
              "      <td>-164.586374</td>\n",
              "      <td>-197.963735</td>\n",
              "      <td>-21.575965</td>\n",
              "      <td>9.123667</td>\n",
              "      <td>-231.341096</td>\n",
              "      <td>73.764308</td>\n",
              "      <td>95.978687</td>\n",
              "      <td>683.975116</td>\n",
              "      <td>423.298470</td>\n",
              "      <td>162.621825</td>\n",
              "      <td>-0.000893</td>\n",
              "      <td>-0.001081</td>\n",
              "      <td>-0.000117</td>\n",
              "      <td>0.000049</td>\n",
              "      <td>-0.001269</td>\n",
              "      <td>0.000401</td>\n",
              "      <td>0.000521</td>\n",
              "      <td>0.003750</td>\n",
              "      <td>0.002314</td>\n",
              "      <td>0.000880</td>\n",
              "    </tr>\n",
              "    <tr>\n",
              "      <th>254</th>\n",
              "      <td>NaN</td>\n",
              "      <td>South America</td>\n",
              "      <td>14.0</td>\n",
              "      <td>844185.81</td>\n",
              "      <td>14.0</td>\n",
              "      <td>844185.81</td>\n",
              "      <td>1.0</td>\n",
              "      <td>844185.81</td>\n",
              "      <td>14.0</td>\n",
              "      <td>844185.81</td>\n",
              "      <td>1.0</td>\n",
              "      <td>NaN</td>\n",
              "      <td>973666.3000</td>\n",
              "      <td>9.226451e+05</td>\n",
              "      <td>8.701544e+05</td>\n",
              "      <td>8.565884e+05</td>\n",
              "      <td>844185.81</td>\n",
              "      <td>-5102.124000</td>\n",
              "      <td>-5175.593500</td>\n",
              "      <td>-4683.114400</td>\n",
              "      <td>-4316.016333</td>\n",
              "      <td>-5249.063000</td>\n",
              "      <td>-4403.774667</td>\n",
              "      <td>-3922.962500</td>\n",
              "      <td>-2713.198000</td>\n",
              "      <td>-2596.862000</td>\n",
              "      <td>-2480.526000</td>\n",
              "      <td>-0.005368</td>\n",
              "      <td>-0.005604</td>\n",
              "      <td>-0.005111</td>\n",
              "      <td>-0.004745</td>\n",
              "      <td>-0.005840</td>\n",
              "      <td>-0.004940</td>\n",
              "      <td>-0.004434</td>\n",
              "      <td>-0.003138</td>\n",
              "      <td>-0.003025</td>\n",
              "      <td>-0.002913</td>\n",
              "    </tr>\n",
              "  </tbody>\n",
              "</table>\n",
              "<p>255 rows × 37 columns</p>\n",
              "</div>"
            ],
            "text/plain": [
              "    Unnamed: 0                 Unnamed: 1  ...   10-20.1   15-20.1\n",
              "0          AGO                     Angola  ... -0.007972 -0.008131\n",
              "1          BWA                   Botswana  ... -0.007441 -0.007580\n",
              "2          COM                    Comoros  ... -0.012414 -0.012799\n",
              "3          DJI                   Djibouti  ...  0.003515  0.007043\n",
              "4          ERI                    Eritrea  ... -0.002946 -0.002968\n",
              "..         ...                        ...  ...       ...       ...\n",
              "250        NaN                       Asia  ...  0.001903  0.002127\n",
              "251        NaN                     Europe  ...  0.000343  0.000326\n",
              "252        NaN  North and Central America  ... -0.000196 -0.000461\n",
              "253        NaN                    Oceania  ...  0.002314  0.000880\n",
              "254        NaN              South America  ... -0.003025 -0.002913\n",
              "\n",
              "[255 rows x 37 columns]"
            ]
          },
          "metadata": {},
          "execution_count": 5
        }
      ]
    },
    {
      "cell_type": "code",
      "metadata": {
        "colab": {
          "base_uri": "https://localhost:8080/"
        },
        "id": "r8muVG75GvpR",
        "outputId": "7ab281a5-e544-4ad1-d637-3a52d82cfbbe"
      },
      "source": [
        "df.dtypes"
      ],
      "execution_count": null,
      "outputs": [
        {
          "output_type": "execute_result",
          "data": {
            "text/plain": [
              "Unnamed: 0      object\n",
              "Unnamed: 1      object\n",
              "Unnamed: 2     float64\n",
              "Unnamed: 3     float64\n",
              "Unnamed: 4     float64\n",
              "2020           float64\n",
              "Unnamed: 6     float64\n",
              "2020.1         float64\n",
              "Unnamed: 8     float64\n",
              "2020.2         float64\n",
              "Unnamed: 10    float64\n",
              "Unnamed: 11    float64\n",
              "1990           float64\n",
              "2000           float64\n",
              "2010           float64\n",
              "2015           float64\n",
              "2020.3         float64\n",
              "90-00          float64\n",
              "90-10          float64\n",
              "90-15          float64\n",
              "90-20          float64\n",
              "00-10          float64\n",
              "00-15          float64\n",
              "00-20          float64\n",
              "10-15          float64\n",
              "10-20          float64\n",
              "15-20          float64\n",
              "90-00.1        float64\n",
              "90-10.1        float64\n",
              "90-15.1        float64\n",
              "90-20.1        float64\n",
              "00-10.1        float64\n",
              "00-15.1        float64\n",
              "00-20.1        float64\n",
              "10-15.1        float64\n",
              "10-20.1        float64\n",
              "15-20.1        float64\n",
              "dtype: object"
            ]
          },
          "metadata": {},
          "execution_count": 6
        }
      ]
    },
    {
      "cell_type": "code",
      "metadata": {
        "id": "rYCIHwZDMKEW"
      },
      "source": [
        "df.drop(['Unnamed: 2', 'Unnamed: 3', 'Unnamed: 4', 2020, 'Unnamed: 6', '2020.1', 'Unnamed: 8', '2020.2', 'Unnamed: 10', 'Unnamed: 11'], axis=1, inplace=True)"
      ],
      "execution_count": null,
      "outputs": []
    },
    {
      "cell_type": "code",
      "metadata": {
        "id": "2nvohIsAG0ol"
      },
      "source": [
        "df_backup = df.copy()"
      ],
      "execution_count": null,
      "outputs": []
    },
    {
      "cell_type": "code",
      "metadata": {
        "colab": {
          "base_uri": "https://localhost:8080/"
        },
        "id": "Tpo9PDMhN1Oi",
        "outputId": "a49aff4e-4c53-416b-a541-8f71368778ce"
      },
      "source": [
        "df.dtypes"
      ],
      "execution_count": null,
      "outputs": [
        {
          "output_type": "execute_result",
          "data": {
            "text/plain": [
              "Unnamed: 0     object\n",
              "Unnamed: 1     object\n",
              "1990          float64\n",
              "2000          float64\n",
              "2010          float64\n",
              "2015          float64\n",
              "2020.3        float64\n",
              "90-00         float64\n",
              "90-10         float64\n",
              "90-15         float64\n",
              "90-20         float64\n",
              "00-10         float64\n",
              "00-15         float64\n",
              "00-20         float64\n",
              "10-15         float64\n",
              "10-20         float64\n",
              "15-20         float64\n",
              "90-00.1       float64\n",
              "90-10.1       float64\n",
              "90-15.1       float64\n",
              "90-20.1       float64\n",
              "00-10.1       float64\n",
              "00-15.1       float64\n",
              "00-20.1       float64\n",
              "10-15.1       float64\n",
              "10-20.1       float64\n",
              "15-20.1       float64\n",
              "dtype: object"
            ]
          },
          "metadata": {},
          "execution_count": 9
        }
      ]
    },
    {
      "cell_type": "code",
      "metadata": {
        "id": "JsPqaAnlMFSv"
      },
      "source": [
        "(df.rename(columns={'Unnamed: 0': 'Codigo', 'Unnamed: 1': 'Pais', \n",
        "                    1990: 'AreaFlorestal_1990(1000ha)', 2000: 'AreaFlorestal_2000(1000ha)',                    \n",
        "                    2010: 'AreaFlorestal_2010(1000ha)', 2015: 'AreaFlorestal_2015(1000ha)',\n",
        "                    '2020.3': 'AreaFlorestal_2020(1000ha)', '90-00': 'Variacao_1990-2000',\n",
        "                    '90-10': 'Variacao_1990-2010', '90-15': 'Variacao_1990-2015',\n",
        "                    '90-20': 'Variacao_1990-2020', '00-10': 'Variacao_2000-2010',\n",
        "                    '00-15': 'Variacao_2000-2015', '00-20': 'Variacao_2000-2020', \n",
        "                    '10-15': 'Variacao_2010-2015', '10-20': 'Variacao_2010-2020',\n",
        "                    '15-20': 'Variacao_2015-2020', '90-00.1': 'VarPercentual_1990-2000',\n",
        "                    '90-10.1': 'VarPercentual_1990-2010', '90-15.1': 'VarPercentual_1990-2015', \n",
        "                    '90-20.1': 'VarPercentual_1990-2020', '00-10.1': 'VarPercentual_2000-2010',\n",
        "                    '00-15.1': 'VarPercentual_2000-2015', '00-20.1': 'VarPercentual_2000-2020',\n",
        "                    '10-15.1': 'VarPercentual_2010-2015', '10-20.1': 'VarPercentual_2010-2020', \n",
        "                    '15-20.1': 'VarPercentual_2015-2020'\n",
        "                       }\n",
        "                        , inplace=True))"
      ],
      "execution_count": null,
      "outputs": []
    },
    {
      "cell_type": "code",
      "metadata": {
        "colab": {
          "base_uri": "https://localhost:8080/"
        },
        "id": "krwk3YKjHJaz",
        "outputId": "83a3a88e-a8b7-4e5c-8181-928d5bf4f8a8"
      },
      "source": [
        "df.dtypes"
      ],
      "execution_count": null,
      "outputs": [
        {
          "output_type": "execute_result",
          "data": {
            "text/plain": [
              "Codigo                         object\n",
              "Pais                           object\n",
              "AreaFlorestal_1990(1000ha)    float64\n",
              "AreaFlorestal_2000(1000ha)    float64\n",
              "AreaFlorestal_2010(1000ha)    float64\n",
              "AreaFlorestal_2015(1000ha)    float64\n",
              "AreaFlorestal_2020(1000ha)    float64\n",
              "Variacao_1990-2000            float64\n",
              "Variacao_1990-2010            float64\n",
              "Variacao_1990-2015            float64\n",
              "Variacao_1990-2020            float64\n",
              "Variacao_2000-2010            float64\n",
              "Variacao_2000-2015            float64\n",
              "Variacao_2000-2020            float64\n",
              "Variacao_2010-2015            float64\n",
              "Variacao_2010-2020            float64\n",
              "Variacao_2015-2020            float64\n",
              "VarPercentual_1990-2000       float64\n",
              "VarPercentual_1990-2010       float64\n",
              "VarPercentual_1990-2015       float64\n",
              "VarPercentual_1990-2020       float64\n",
              "VarPercentual_2000-2010       float64\n",
              "VarPercentual_2000-2015       float64\n",
              "VarPercentual_2000-2020       float64\n",
              "VarPercentual_2010-2015       float64\n",
              "VarPercentual_2010-2020       float64\n",
              "VarPercentual_2015-2020       float64\n",
              "dtype: object"
            ]
          },
          "metadata": {},
          "execution_count": 11
        }
      ]
    },
    {
      "cell_type": "code",
      "metadata": {
        "colab": {
          "base_uri": "https://localhost:8080/"
        },
        "id": "qy-5v0fuTE2U",
        "outputId": "68745e8b-f817-4db7-8686-8d570bdd8c85"
      },
      "source": [
        "pd.unique(df['Pais'])"
      ],
      "execution_count": null,
      "outputs": [
        {
          "output_type": "execute_result",
          "data": {
            "text/plain": [
              "array(['Angola', 'Botswana', 'Comoros', 'Djibouti', 'Eritrea', 'Eswatini',\n",
              "       'Ethiopia', 'Kenya', 'Lesotho', 'Madagascar', 'Malawi',\n",
              "       'Mauritius', 'Mayotte', 'Mozambique', 'Namibia', 'Réunion',\n",
              "       'Seychelles', 'Somalia', 'South Africa', 'Uganda',\n",
              "       'United Republic of Tanzania', 'Zambia', 'Zimbabwe',\n",
              "       'Eastern and Southern Africa', 'Algeria', 'Egypt', 'Libya',\n",
              "       'Mauritania', 'Morocco', 'South Sudan', 'Sudan', 'Tunisia',\n",
              "       'Western Sahara', 'Northern Africa', 'Benin', 'Burkina Faso',\n",
              "       'Burundi', 'Cameroon', 'Cabo Verde', 'Central African Republic',\n",
              "       'Chad', 'Congo', \"Côte d'Ivoire\",\n",
              "       'Democratic Republic of the Congo', 'Equatorial Guinea', 'Gabon',\n",
              "       'Gambia', 'Ghana', 'Guinea', 'Guinea-Bissau', 'Liberia', 'Mali',\n",
              "       'Niger', 'Nigeria', 'Rwanda',\n",
              "       'Saint Helena, Ascension and Tristan da Cunha',\n",
              "       'Sao Tome and Principe', 'Senegal', 'Sierra Leone', 'Togo',\n",
              "       'Western and Central Africa', 'China',\n",
              "       \"Democratic People's Republic of Korea\", 'Japan', 'Mongolia',\n",
              "       'Republic of Korea', 'East Asia', 'Bangladesh', 'Bhutan',\n",
              "       'Brunei Darussalam', 'Cambodia', 'India', 'Indonesia',\n",
              "       \"Lao People's Democratic Republic\", 'Malaysia', 'Maldives',\n",
              "       'Myanmar', 'Nepal', 'Pakistan', 'Philippines', 'Singapore',\n",
              "       'Sri Lanka', 'Thailand', 'Timor-Leste', 'Viet Nam',\n",
              "       'South and Southeast Asia', 'Afghanistan', 'Armenia', 'Azerbaijan',\n",
              "       'Bahrain', 'Cyprus', 'Georgia', 'Iran (Islamic Republic of)',\n",
              "       'Iraq', 'Israel', 'Jordan', 'Kazakhstan', 'Kuwait', 'Kyrgyzstan',\n",
              "       'Lebanon', 'Palestine', 'Oman', 'Qatar', 'Saudi Arabia',\n",
              "       'Syrian Arab Republic', 'Tajikistan', 'Turkey', 'Turkmenistan',\n",
              "       'United Arab Emirates', 'Uzbekistan', 'Yemen',\n",
              "       'Western and Central Asia', 'Albania', 'Andorra', 'Austria',\n",
              "       'Belarus', 'Belgium', 'Bosnia and Herzegovina', 'Bulgaria',\n",
              "       'Croatia', 'Czechia', 'Denmark', 'Estonia', 'Faroe Islands',\n",
              "       'Finland', 'France', 'Germany', 'Gibraltar', 'Greece', 'Guernsey',\n",
              "       'Holy See', 'Hungary', 'Iceland', 'Ireland', 'Isle of Man',\n",
              "       'Italy', 'Jersey', 'Latvia', 'Liechtenstein', 'Lithuania',\n",
              "       'Luxembourg', 'Malta', 'Monaco', 'Montenegro', 'Netherlands',\n",
              "       'North Macedonia', 'Norway', 'Poland', 'Portugal',\n",
              "       'Republic of Moldova', 'Romania', 'Russian Federation',\n",
              "       'San Marino', 'Serbia', 'Slovakia', 'Slovenia', 'Spain',\n",
              "       'Svalbard and Jan Mayen Islands', 'Sweden', 'Switzerland',\n",
              "       'Ukraine', 'United Kingdom', 'Europe', 'Anguilla',\n",
              "       'Antigua and Barbuda', 'Aruba', 'Bahamas', 'Barbados', 'Bermuda',\n",
              "       'Bonaire, Sint Eustatius and Saba', 'British Virgin Islands',\n",
              "       'Cayman Islands', 'Cuba', 'Curaçao', 'Dominica',\n",
              "       'Dominican Republic', 'Grenada', 'Guadeloupe', 'Haiti', 'Jamaica',\n",
              "       'Martinique', 'Montserrat', 'Puerto Rico', 'Saint Kitts and Nevis',\n",
              "       'Saint Lucia', 'Saint Martin (French part)',\n",
              "       'Saint Vincent and the Grenadines', 'Saint Barthélemy',\n",
              "       'Sint Maarten (Dutch part)', 'Trinidad and Tobago',\n",
              "       'Turks and Caicos Islands', 'United States Virgin Islands',\n",
              "       'Caribbean', 'Belize', 'Costa Rica', 'El Salvador', 'Guatemala',\n",
              "       'Honduras', 'Nicaragua', 'Panama', 'Central America', 'Canada',\n",
              "       'Greenland', 'Mexico', 'Saint Pierre and Miquelon',\n",
              "       'United States of America', 'North America', 'American Samoa',\n",
              "       'Australia', 'Cook Islands', 'Fiji', 'French Polynesia', 'Guam',\n",
              "       'Kiribati', 'Marshall Islands', 'Micronesia (Federated States of)',\n",
              "       'Nauru', 'New Caledonia', 'New Zealand', 'Niue', 'Norfolk Island',\n",
              "       'Northern Mariana Islands', 'Palau', 'Papua New Guinea',\n",
              "       'Pitcairn Islands', 'Samoa', 'Solomon Islands', 'Tokelau', 'Tonga',\n",
              "       'Tuvalu', 'Vanuatu', 'Wallis and Futuna Islands', 'Oceania',\n",
              "       'Argentina', 'Bolivia (plurinational state of)', 'Brazil', 'Chile',\n",
              "       'Colombia', 'Ecuador', 'Falkland Islands (Malvinas)',\n",
              "       'French Guiana', 'Guyana', 'Paraguay', 'Peru', 'Suriname',\n",
              "       'Uruguay', 'Venezuela (Bolivarian Republic of)', 'South America',\n",
              "       'World', 'Africa', 'Asia', 'North and Central America'],\n",
              "      dtype=object)"
            ]
          },
          "metadata": {},
          "execution_count": 12
        }
      ]
    },
    {
      "cell_type": "code",
      "metadata": {
        "colab": {
          "base_uri": "https://localhost:8080/"
        },
        "id": "gfkzX74tTeVG",
        "outputId": "0d918b9e-14eb-49fc-b860-f857060c8e48"
      },
      "source": [
        "len(df['Pais'].unique())"
      ],
      "execution_count": null,
      "outputs": [
        {
          "output_type": "execute_result",
          "data": {
            "text/plain": [
              "252"
            ]
          },
          "metadata": {},
          "execution_count": 13
        }
      ]
    },
    {
      "cell_type": "markdown",
      "metadata": {
        "id": "61RdFSXFVCpS"
      },
      "source": [
        "Excluindo linhas contendo dados sobre regiões e Mundo(total)"
      ]
    },
    {
      "cell_type": "code",
      "metadata": {
        "id": "u5vb7iXNTopQ"
      },
      "source": [
        "df.drop(df[(df['Pais'] == 'South America')].index, inplace=True)\n",
        "df.drop(df[(df['Pais'] == 'World')].index, inplace=True)\n",
        "df.drop(df[(df['Pais'] == 'Africa')].index, inplace=True)\n",
        "df.drop(df[(df['Pais'] == 'Asia')].index, inplace=True)\n",
        "df.drop(df[(df['Pais'] == 'North and Central America')].index, inplace=True)\n",
        "df.drop(df[(df['Pais'] == 'Central America')].index, inplace=True)\n",
        "df.drop(df[(df['Pais'] == 'Oceania')].index, inplace=True)\n",
        "df.drop(df[(df['Pais'] == 'Europe')].index, inplace=True)\n",
        "df.drop(df[(df['Pais'] == 'Western and Central Asia')].index, inplace=True)\n",
        "df.drop(df[(df['Pais'] == 'South and Southeast Asia')].index, inplace=True)\n",
        "df.drop(df[(df['Pais'] == 'Western and Central Africa')].index, inplace=True)\n",
        "df.drop(df[(df['Pais'] == 'Eastern and Southern Africa')].index, inplace=True)"
      ],
      "execution_count": null,
      "outputs": []
    },
    {
      "cell_type": "code",
      "metadata": {
        "id": "CWOE2ASEVpNI"
      },
      "source": [
        "df.drop(df[(df['Pais'] == 'Northern Africa')].index, inplace=True)\n",
        "df.drop(df[(df['Pais'] == 'East Asia')].index, inplace=True)\n",
        "df.drop(df[(df['Pais'] == 'Caribbean')].index, inplace=True)\n",
        "df.drop(df[(df['Pais'] == 'North America')].index, inplace=True) "
      ],
      "execution_count": null,
      "outputs": []
    },
    {
      "cell_type": "markdown",
      "metadata": {
        "id": "8jLZwAzCXzyM"
      },
      "source": [
        "Excluindo linhas contendo dados sobre países que não se encontram na lista de países das outras tabelas"
      ]
    },
    {
      "cell_type": "code",
      "metadata": {
        "id": "OS0PaA4GWQ3D"
      },
      "source": [
        "df.drop(df[(df['Pais'] == 'Mayotte')].index, inplace=True)\n",
        "df.drop(df[(df['Pais'] == 'South Sudan')].index, inplace=True)\n",
        "df.drop(df[(df['Pais'] == 'Guernsey')].index, inplace=True)\n",
        "df.drop(df[(df['Pais'] == 'Holy See')].index, inplace=True)\n",
        "df.drop(df[(df['Pais'] == 'Jersey')].index, inplace=True)\n",
        "df.drop(df[(df['Pais'] == 'Monaco')].index, inplace=True)\n",
        "df.drop(df[(df['Pais'] == 'San Marino')].index, inplace=True)\n",
        "df.drop(df[(df['Pais'] == 'Svalbard and Jan Mayen Islands')].index, inplace=True)\n",
        "df.drop(df[(df['Pais'] == 'Saint Martin (French part)')].index, inplace=True)\n",
        "df.drop(df[(df['Pais'] == 'Saint Barthélemy')].index, inplace=True)\n",
        "df.drop(df[(df['Pais'] == 'Sint Maarten (Dutch part)')].index, inplace=True)\n",
        "df.drop(df[(df['Pais'] == 'United States Virgin Islands')].index, inplace=True)\n",
        "df.drop(df[(df['Pais'] == 'American Samoa')].index, inplace=True)\n",
        "df.drop(df[(df['Pais'] == 'Bonaire, Sint Eustatius and Saba')].index, inplace=True)\n",
        "df.drop(df[(df['Pais'] == 'Cook Islands')].index, inplace=True)\n",
        "df.drop(df[(df['Pais'] == 'Guam')].index, inplace=True)\n",
        "df.drop(df[(df['Pais'] == 'Norfolk Island')].index, inplace=True)\n",
        "df.drop(df[(df['Pais'] == 'Pitcairn Islands')].index, inplace=True)\n",
        "df.drop(df[(df['Pais'] == 'Tokelau')].index, inplace=True)\n",
        "df.drop(df[(df['Pais'] == 'Wallis and Futuna Islands')].index, inplace=True)\n",
        "df.drop(df[(df['Pais'] == 'Bermuda')].index, inplace=True)\n",
        "df.drop(df[(df['Pais'] == 'Brunei Darussalam')].index, inplace=True)\n",
        "df.drop(df[(df['Pais'] == 'Gibraltar')].index, inplace=True)\n",
        "df.drop(df[(df['Pais'] == 'Maldives')].index, inplace=True)\n",
        "df.drop(df[(df['Pais'] == 'Marshall Islands')].index, inplace=True)\n",
        "df.drop(df[(df['Pais'] == 'Nauru')].index, inplace=True)\n",
        "df.drop(df[(df['Pais'] == 'Saint Helena, Ascension and Tristan da Cunha')].index, inplace=True)\n",
        "df.drop(df[(df['Pais'] == 'Saint Pierre and Miquelon')].index, inplace=True)\n",
        "df.drop(df[(df['Pais'] == 'Sint Maarten (Dutch part)')].index, inplace=True)\n",
        "df.drop(df[(df['Pais'] == 'South Sudan')].index, inplace=True)\n",
        "df.drop(df[(df['Pais'] == 'Tuvalu')].index, inplace=True)\n",
        "df.drop(df[(df['Pais'] == 'Vanuatu')].index, inplace=True)\n",
        "df.drop(df[(df['Pais'] == 'Wallis and Futuna Islands')].index, inplace=True)\n",
        "df.drop(df[(df['Pais'] == 'Western Sahara')].index, inplace=True)\n",
        "df.drop(df[(df['Pais'] == 'Northern Mariana Islands')].index, inplace=True)\n",
        "df.drop(df[(df['Pais'] == 'Isle of Man')].index, inplace=True)"
      ],
      "execution_count": null,
      "outputs": []
    },
    {
      "cell_type": "code",
      "metadata": {
        "colab": {
          "base_uri": "https://localhost:8080/"
        },
        "id": "7dINOt6CVT4U",
        "outputId": "be772afd-8171-4460-9214-195ee5ef9143"
      },
      "source": [
        "df.isna().sum()"
      ],
      "execution_count": null,
      "outputs": [
        {
          "output_type": "execute_result",
          "data": {
            "text/plain": [
              "Codigo                        0\n",
              "Pais                          0\n",
              "AreaFlorestal_1990(1000ha)    0\n",
              "AreaFlorestal_2000(1000ha)    0\n",
              "AreaFlorestal_2010(1000ha)    0\n",
              "AreaFlorestal_2015(1000ha)    0\n",
              "AreaFlorestal_2020(1000ha)    0\n",
              "Variacao_1990-2000            0\n",
              "Variacao_1990-2010            0\n",
              "Variacao_1990-2015            0\n",
              "Variacao_1990-2020            0\n",
              "Variacao_2000-2010            0\n",
              "Variacao_2000-2015            0\n",
              "Variacao_2000-2020            0\n",
              "Variacao_2010-2015            0\n",
              "Variacao_2010-2020            0\n",
              "Variacao_2015-2020            0\n",
              "VarPercentual_1990-2000       2\n",
              "VarPercentual_1990-2010       2\n",
              "VarPercentual_1990-2015       2\n",
              "VarPercentual_1990-2020       2\n",
              "VarPercentual_2000-2010       2\n",
              "VarPercentual_2000-2015       2\n",
              "VarPercentual_2000-2020       2\n",
              "VarPercentual_2010-2015       2\n",
              "VarPercentual_2010-2020       2\n",
              "VarPercentual_2015-2020       2\n",
              "dtype: int64"
            ]
          },
          "metadata": {},
          "execution_count": 17
        }
      ]
    },
    {
      "cell_type": "code",
      "metadata": {
        "colab": {
          "base_uri": "https://localhost:8080/",
          "height": 184
        },
        "id": "qfW3_34zVjvt",
        "outputId": "476bf59d-9b30-418e-a40a-1d611f23bcaa"
      },
      "source": [
        "#vizualizando os valores NaN\n",
        "filter = df['VarPercentual_1990-2020'].isna()\n",
        "df.loc[filter]"
      ],
      "execution_count": null,
      "outputs": [
        {
          "output_type": "execute_result",
          "data": {
            "text/html": [
              "<div>\n",
              "<style scoped>\n",
              "    .dataframe tbody tr th:only-of-type {\n",
              "        vertical-align: middle;\n",
              "    }\n",
              "\n",
              "    .dataframe tbody tr th {\n",
              "        vertical-align: top;\n",
              "    }\n",
              "\n",
              "    .dataframe thead th {\n",
              "        text-align: right;\n",
              "    }\n",
              "</style>\n",
              "<table border=\"1\" class=\"dataframe\">\n",
              "  <thead>\n",
              "    <tr style=\"text-align: right;\">\n",
              "      <th></th>\n",
              "      <th>Codigo</th>\n",
              "      <th>Pais</th>\n",
              "      <th>AreaFlorestal_1990(1000ha)</th>\n",
              "      <th>AreaFlorestal_2000(1000ha)</th>\n",
              "      <th>AreaFlorestal_2010(1000ha)</th>\n",
              "      <th>AreaFlorestal_2015(1000ha)</th>\n",
              "      <th>AreaFlorestal_2020(1000ha)</th>\n",
              "      <th>Variacao_1990-2000</th>\n",
              "      <th>Variacao_1990-2010</th>\n",
              "      <th>Variacao_1990-2015</th>\n",
              "      <th>Variacao_1990-2020</th>\n",
              "      <th>Variacao_2000-2010</th>\n",
              "      <th>Variacao_2000-2015</th>\n",
              "      <th>Variacao_2000-2020</th>\n",
              "      <th>Variacao_2010-2015</th>\n",
              "      <th>Variacao_2010-2020</th>\n",
              "      <th>Variacao_2015-2020</th>\n",
              "      <th>VarPercentual_1990-2000</th>\n",
              "      <th>VarPercentual_1990-2010</th>\n",
              "      <th>VarPercentual_1990-2015</th>\n",
              "      <th>VarPercentual_1990-2020</th>\n",
              "      <th>VarPercentual_2000-2010</th>\n",
              "      <th>VarPercentual_2000-2015</th>\n",
              "      <th>VarPercentual_2000-2020</th>\n",
              "      <th>VarPercentual_2010-2015</th>\n",
              "      <th>VarPercentual_2010-2020</th>\n",
              "      <th>VarPercentual_2015-2020</th>\n",
              "    </tr>\n",
              "  </thead>\n",
              "  <tbody>\n",
              "    <tr>\n",
              "      <th>102</th>\n",
              "      <td>QAT</td>\n",
              "      <td>Qatar</td>\n",
              "      <td>0.0</td>\n",
              "      <td>0.0</td>\n",
              "      <td>0.0</td>\n",
              "      <td>0.0</td>\n",
              "      <td>0.0</td>\n",
              "      <td>0.0</td>\n",
              "      <td>0.0</td>\n",
              "      <td>0.0</td>\n",
              "      <td>0.0</td>\n",
              "      <td>0.0</td>\n",
              "      <td>0.0</td>\n",
              "      <td>0.0</td>\n",
              "      <td>0.0</td>\n",
              "      <td>0.0</td>\n",
              "      <td>0.0</td>\n",
              "      <td>NaN</td>\n",
              "      <td>NaN</td>\n",
              "      <td>NaN</td>\n",
              "      <td>NaN</td>\n",
              "      <td>NaN</td>\n",
              "      <td>NaN</td>\n",
              "      <td>NaN</td>\n",
              "      <td>NaN</td>\n",
              "      <td>NaN</td>\n",
              "      <td>NaN</td>\n",
              "    </tr>\n",
              "    <tr>\n",
              "      <th>239</th>\n",
              "      <td>FLK</td>\n",
              "      <td>Falkland Islands (Malvinas)</td>\n",
              "      <td>0.0</td>\n",
              "      <td>0.0</td>\n",
              "      <td>0.0</td>\n",
              "      <td>0.0</td>\n",
              "      <td>0.0</td>\n",
              "      <td>0.0</td>\n",
              "      <td>0.0</td>\n",
              "      <td>0.0</td>\n",
              "      <td>0.0</td>\n",
              "      <td>0.0</td>\n",
              "      <td>0.0</td>\n",
              "      <td>0.0</td>\n",
              "      <td>0.0</td>\n",
              "      <td>0.0</td>\n",
              "      <td>0.0</td>\n",
              "      <td>NaN</td>\n",
              "      <td>NaN</td>\n",
              "      <td>NaN</td>\n",
              "      <td>NaN</td>\n",
              "      <td>NaN</td>\n",
              "      <td>NaN</td>\n",
              "      <td>NaN</td>\n",
              "      <td>NaN</td>\n",
              "      <td>NaN</td>\n",
              "      <td>NaN</td>\n",
              "    </tr>\n",
              "  </tbody>\n",
              "</table>\n",
              "</div>"
            ],
            "text/plain": [
              "    Codigo  ... VarPercentual_2015-2020\n",
              "102    QAT  ...                     NaN\n",
              "239    FLK  ...                     NaN\n",
              "\n",
              "[2 rows x 27 columns]"
            ]
          },
          "metadata": {},
          "execution_count": 18
        }
      ]
    },
    {
      "cell_type": "markdown",
      "metadata": {
        "id": "JFm0s9NICiei"
      },
      "source": [
        "Alteração de nomes de países para futuramente usar tal coluna para operações utilizando joins."
      ]
    },
    {
      "cell_type": "code",
      "metadata": {
        "id": "sybvpwPaCfuv"
      },
      "source": [
        "df.loc[df['Pais'] == \"Réunion\" , [\"Pais\"]] = \"Reunion\"\n",
        "df.loc[df['Pais'] == \"United Republic of Tanzania\" , [\"Pais\"]] = \"Tanzania\"\n",
        "df.loc[df['Pais'] == \"Cabo Verde\" , [\"Pais\"]] = \"Cape Verde\"\n",
        "df.loc[df['Pais'] == \"Falkland Islands (Malvinas)\" , [\"Pais\"]] = \"Islas Malvinas\"\n",
        "df.loc[df['Pais'] == \"Côte d'Ivoire\" , [\"Pais\"]] = \"Cote d'Ivoire\"\n",
        "df.loc[df['Pais'] == \"Democratic People's Republic of Korea\" , [\"Pais\"]] = \"North Korea\"\n",
        "df.loc[df['Pais'] == \"Republic of Korea\" , [\"Pais\"]] = \"South Korea\"\n",
        "df.loc[df['Pais'] == \"Lao People's Democratic Republic\" , [\"Pais\"]] = \"Laos\"\n",
        "df.loc[df['Pais'] == \"Cabo Verde\" , [\"Pais\"]] = \"Cape Verde\"\n",
        "df.loc[df['Pais'] == \"Timor-Leste\" , [\"Pais\"]] = \"Timor Leste\"\n",
        "df.loc[df['Pais'] == \"Vietnam\" , [\"Pais\"]] = \"Cote d'Ivoire\"\n",
        "df.loc[df['Pais'] == \"Iran (Islamic Republic of)\" , [\"Pais\"]] = \"Iran\"\n",
        "df.loc[df['Pais'] == \"Syrian Arab Republic\" , [\"Pais\"]] = \"Syria\"\n",
        "df.loc[df['Pais'] == \"Czechia\" , [\"Pais\"]] = \"Czech Republic\"\n",
        "df.loc[df['Pais'] == \"North Macedonia\" , [\"Pais\"]] = \"Macedonia\"\n",
        "df.loc[df['Pais'] == \"Republic of Moldova\" , [\"Pais\"]] = \"Moldova\"\n",
        "df.loc[df['Pais'] == \"Russian Federation\" , [\"Pais\"]] = \"Russia\"\n",
        "df.loc[df['Pais'] == \"Curaçao\" , [\"Pais\"]] = \"Curacao\"\n",
        "df.loc[df['Pais'] == \"Micronesia (Federated States of)\" , [\"Pais\"]] = \"Micronesia\"\n",
        "df.loc[df['Pais'] == \"Venezuela (Bolivarian Republic of)\" , [\"Pais\"]] = \"Venezuela\"\n",
        "df.loc[df['Pais'] == \"Bolivia (plurinational state of)\" , [\"Pais\"]] = \"Bolivia\""
      ],
      "execution_count": null,
      "outputs": []
    },
    {
      "cell_type": "code",
      "metadata": {
        "colab": {
          "base_uri": "https://localhost:8080/",
          "height": 167
        },
        "id": "W36GSt_dFo6U",
        "outputId": "a053b079-1ee8-4d48-8839-edf11a7eef64"
      },
      "source": [
        "#vizualizando os valores zerados de Área florestal\n",
        "filtro0 = df['AreaFlorestal_1990(1000ha)'] == 0\n",
        "df.loc[filtro0]"
      ],
      "execution_count": null,
      "outputs": [
        {
          "output_type": "execute_result",
          "data": {
            "text/html": [
              "<div>\n",
              "<style scoped>\n",
              "    .dataframe tbody tr th:only-of-type {\n",
              "        vertical-align: middle;\n",
              "    }\n",
              "\n",
              "    .dataframe tbody tr th {\n",
              "        vertical-align: top;\n",
              "    }\n",
              "\n",
              "    .dataframe thead th {\n",
              "        text-align: right;\n",
              "    }\n",
              "</style>\n",
              "<table border=\"1\" class=\"dataframe\">\n",
              "  <thead>\n",
              "    <tr style=\"text-align: right;\">\n",
              "      <th></th>\n",
              "      <th>Codigo</th>\n",
              "      <th>Pais</th>\n",
              "      <th>AreaFlorestal_1990(1000ha)</th>\n",
              "      <th>AreaFlorestal_2000(1000ha)</th>\n",
              "      <th>AreaFlorestal_2010(1000ha)</th>\n",
              "      <th>AreaFlorestal_2015(1000ha)</th>\n",
              "      <th>AreaFlorestal_2020(1000ha)</th>\n",
              "      <th>Variacao_1990-2000</th>\n",
              "      <th>Variacao_1990-2010</th>\n",
              "      <th>Variacao_1990-2015</th>\n",
              "      <th>Variacao_1990-2020</th>\n",
              "      <th>Variacao_2000-2010</th>\n",
              "      <th>Variacao_2000-2015</th>\n",
              "      <th>Variacao_2000-2020</th>\n",
              "      <th>Variacao_2010-2015</th>\n",
              "      <th>Variacao_2010-2020</th>\n",
              "      <th>Variacao_2015-2020</th>\n",
              "      <th>VarPercentual_1990-2000</th>\n",
              "      <th>VarPercentual_1990-2010</th>\n",
              "      <th>VarPercentual_1990-2015</th>\n",
              "      <th>VarPercentual_1990-2020</th>\n",
              "      <th>VarPercentual_2000-2010</th>\n",
              "      <th>VarPercentual_2000-2015</th>\n",
              "      <th>VarPercentual_2000-2020</th>\n",
              "      <th>VarPercentual_2010-2015</th>\n",
              "      <th>VarPercentual_2010-2020</th>\n",
              "      <th>VarPercentual_2015-2020</th>\n",
              "    </tr>\n",
              "  </thead>\n",
              "  <tbody>\n",
              "    <tr>\n",
              "      <th>102</th>\n",
              "      <td>QAT</td>\n",
              "      <td>Qatar</td>\n",
              "      <td>0.0</td>\n",
              "      <td>0.0</td>\n",
              "      <td>0.0</td>\n",
              "      <td>0.0</td>\n",
              "      <td>0.0</td>\n",
              "      <td>0.0</td>\n",
              "      <td>0.0</td>\n",
              "      <td>0.0</td>\n",
              "      <td>0.0</td>\n",
              "      <td>0.0</td>\n",
              "      <td>0.0</td>\n",
              "      <td>0.0</td>\n",
              "      <td>0.0</td>\n",
              "      <td>0.0</td>\n",
              "      <td>0.0</td>\n",
              "      <td>NaN</td>\n",
              "      <td>NaN</td>\n",
              "      <td>NaN</td>\n",
              "      <td>NaN</td>\n",
              "      <td>NaN</td>\n",
              "      <td>NaN</td>\n",
              "      <td>NaN</td>\n",
              "      <td>NaN</td>\n",
              "      <td>NaN</td>\n",
              "      <td>NaN</td>\n",
              "    </tr>\n",
              "    <tr>\n",
              "      <th>239</th>\n",
              "      <td>FLK</td>\n",
              "      <td>Islas Malvinas</td>\n",
              "      <td>0.0</td>\n",
              "      <td>0.0</td>\n",
              "      <td>0.0</td>\n",
              "      <td>0.0</td>\n",
              "      <td>0.0</td>\n",
              "      <td>0.0</td>\n",
              "      <td>0.0</td>\n",
              "      <td>0.0</td>\n",
              "      <td>0.0</td>\n",
              "      <td>0.0</td>\n",
              "      <td>0.0</td>\n",
              "      <td>0.0</td>\n",
              "      <td>0.0</td>\n",
              "      <td>0.0</td>\n",
              "      <td>0.0</td>\n",
              "      <td>NaN</td>\n",
              "      <td>NaN</td>\n",
              "      <td>NaN</td>\n",
              "      <td>NaN</td>\n",
              "      <td>NaN</td>\n",
              "      <td>NaN</td>\n",
              "      <td>NaN</td>\n",
              "      <td>NaN</td>\n",
              "      <td>NaN</td>\n",
              "      <td>NaN</td>\n",
              "    </tr>\n",
              "  </tbody>\n",
              "</table>\n",
              "</div>"
            ],
            "text/plain": [
              "    Codigo            Pais  ...  VarPercentual_2010-2020  VarPercentual_2015-2020\n",
              "102    QAT           Qatar  ...                      NaN                      NaN\n",
              "239    FLK  Islas Malvinas  ...                      NaN                      NaN\n",
              "\n",
              "[2 rows x 27 columns]"
            ]
          },
          "metadata": {},
          "execution_count": 20
        }
      ]
    },
    {
      "cell_type": "markdown",
      "metadata": {
        "id": "HGMu-r7eGqkM"
      },
      "source": [
        "Validação com Pandera"
      ]
    },
    {
      "cell_type": "code",
      "metadata": {
        "id": "xbOCKMNrGsxX"
      },
      "source": [
        "#construção da base de comparação para validação\n",
        "schema = pa.DataFrameSchema(\n",
        "    columns = {  \n",
        "        \"Codigo\":pa.Column(pa.String,pa.Check.str_length(3,3)),\n",
        "        \"Pais\":pa.Column(pa.String),\n",
        "        \"AreaFlorestal_1990(1000ha)\":pa.Column(pa.Float, nullable=True),\n",
        "        \"AreaFlorestal_2000(1000ha)\":pa.Column(pa.Float, nullable=True),\n",
        "        \"AreaFlorestal_2010(1000ha)\":pa.Column(pa.Float, nullable=True),\n",
        "        \"AreaFlorestal_2015(1000ha)\":pa.Column(pa.Float, nullable=True),\n",
        "        \"AreaFlorestal_2020(1000ha)\":pa.Column(pa.Float, nullable=True),\n",
        "        \"Variacao_1990-2000\":pa.Column(pa.Float, nullable=True),\n",
        "        \"Variacao_1990-2010\":pa.Column(pa.Float, nullable=True),\n",
        "        \"Variacao_1990-2015\":pa.Column(pa.Float, nullable=True),\n",
        "        \"Variacao_1990-2020\":pa.Column(pa.Float, nullable=True),\n",
        "        \"Variacao_2000-2010\":pa.Column(pa.Float, nullable=True),\n",
        "        \"Variacao_2000-2015\":pa.Column(pa.Float, nullable=True),\n",
        "        \"Variacao_2000-2020\":pa.Column(pa.Float, nullable=True),\n",
        "        \"Variacao_2010-2015\":pa.Column(pa.Float, nullable=True),\n",
        "        \"Variacao_2010-2020\":pa.Column(pa.Float, nullable=True),\n",
        "        \"Variacao_2015-2020\":pa.Column(pa.Float, nullable=True),\n",
        "        \"VarPercentual_1990-2000\":pa.Column(pa.Float, nullable=True),\n",
        "        \"VarPercentual_1990-2010\":pa.Column(pa.Float, nullable=True),\n",
        "        \"VarPercentual_1990-2015\":pa.Column(pa.Float, nullable=True),\n",
        "        \"VarPercentual_1990-2020\":pa.Column(pa.Float, nullable=True),\n",
        "        \"VarPercentual_2000-2010\":pa.Column(pa.Float, nullable=True),\n",
        "        \"VarPercentual_2000-2015\":pa.Column(pa.Float, nullable=True),\n",
        "        \"VarPercentual_2000-2020\":pa.Column(pa.Float, nullable=True),\n",
        "        \"VarPercentual_2010-2015\":pa.Column(pa.Float, nullable=True),\n",
        "        \"VarPercentual_2010-2020\":pa.Column(pa.Float, nullable=True),\n",
        "        \"VarPercentual_2015-2020\":pa.Column(pa.Float, nullable=True)\n",
        "        }\n",
        ")"
      ],
      "execution_count": null,
      "outputs": []
    },
    {
      "cell_type": "code",
      "metadata": {
        "colab": {
          "base_uri": "https://localhost:8080/",
          "height": 461
        },
        "id": "qqPdPjQyH5hX",
        "outputId": "9a41c248-8043-4e2e-c855-5b07846c907e"
      },
      "source": [
        "schema.validate(df)"
      ],
      "execution_count": null,
      "outputs": [
        {
          "output_type": "execute_result",
          "data": {
            "text/html": [
              "<div>\n",
              "<style scoped>\n",
              "    .dataframe tbody tr th:only-of-type {\n",
              "        vertical-align: middle;\n",
              "    }\n",
              "\n",
              "    .dataframe tbody tr th {\n",
              "        vertical-align: top;\n",
              "    }\n",
              "\n",
              "    .dataframe thead th {\n",
              "        text-align: right;\n",
              "    }\n",
              "</style>\n",
              "<table border=\"1\" class=\"dataframe\">\n",
              "  <thead>\n",
              "    <tr style=\"text-align: right;\">\n",
              "      <th></th>\n",
              "      <th>Codigo</th>\n",
              "      <th>Pais</th>\n",
              "      <th>AreaFlorestal_1990(1000ha)</th>\n",
              "      <th>AreaFlorestal_2000(1000ha)</th>\n",
              "      <th>AreaFlorestal_2010(1000ha)</th>\n",
              "      <th>AreaFlorestal_2015(1000ha)</th>\n",
              "      <th>AreaFlorestal_2020(1000ha)</th>\n",
              "      <th>Variacao_1990-2000</th>\n",
              "      <th>Variacao_1990-2010</th>\n",
              "      <th>Variacao_1990-2015</th>\n",
              "      <th>Variacao_1990-2020</th>\n",
              "      <th>Variacao_2000-2010</th>\n",
              "      <th>Variacao_2000-2015</th>\n",
              "      <th>Variacao_2000-2020</th>\n",
              "      <th>Variacao_2010-2015</th>\n",
              "      <th>Variacao_2010-2020</th>\n",
              "      <th>Variacao_2015-2020</th>\n",
              "      <th>VarPercentual_1990-2000</th>\n",
              "      <th>VarPercentual_1990-2010</th>\n",
              "      <th>VarPercentual_1990-2015</th>\n",
              "      <th>VarPercentual_1990-2020</th>\n",
              "      <th>VarPercentual_2000-2010</th>\n",
              "      <th>VarPercentual_2000-2015</th>\n",
              "      <th>VarPercentual_2000-2020</th>\n",
              "      <th>VarPercentual_2010-2015</th>\n",
              "      <th>VarPercentual_2010-2020</th>\n",
              "      <th>VarPercentual_2015-2020</th>\n",
              "    </tr>\n",
              "  </thead>\n",
              "  <tbody>\n",
              "    <tr>\n",
              "      <th>0</th>\n",
              "      <td>AGO</td>\n",
              "      <td>Angola</td>\n",
              "      <td>79262.78</td>\n",
              "      <td>77708.61</td>\n",
              "      <td>72158.00</td>\n",
              "      <td>69382.69</td>\n",
              "      <td>66607.38</td>\n",
              "      <td>-155.417</td>\n",
              "      <td>-355.2390</td>\n",
              "      <td>-395.2036</td>\n",
              "      <td>-421.846667</td>\n",
              "      <td>-555.061</td>\n",
              "      <td>-555.061333</td>\n",
              "      <td>-555.0615</td>\n",
              "      <td>-555.062</td>\n",
              "      <td>-555.062</td>\n",
              "      <td>-555.062</td>\n",
              "      <td>-0.001978</td>\n",
              "      <td>-0.004685</td>\n",
              "      <td>-0.005311</td>\n",
              "      <td>-0.005782</td>\n",
              "      <td>-0.007383</td>\n",
              "      <td>-0.007527</td>\n",
              "      <td>-0.007678</td>\n",
              "      <td>-0.007813</td>\n",
              "      <td>-0.007972</td>\n",
              "      <td>-0.008131</td>\n",
              "    </tr>\n",
              "    <tr>\n",
              "      <th>1</th>\n",
              "      <td>BWA</td>\n",
              "      <td>Botswana</td>\n",
              "      <td>18803.70</td>\n",
              "      <td>17620.70</td>\n",
              "      <td>16437.70</td>\n",
              "      <td>15846.20</td>\n",
              "      <td>15254.70</td>\n",
              "      <td>-118.300</td>\n",
              "      <td>-118.3000</td>\n",
              "      <td>-118.3000</td>\n",
              "      <td>-118.300000</td>\n",
              "      <td>-118.300</td>\n",
              "      <td>-118.300000</td>\n",
              "      <td>-118.3000</td>\n",
              "      <td>-118.300</td>\n",
              "      <td>-118.300</td>\n",
              "      <td>-118.300</td>\n",
              "      <td>-0.006477</td>\n",
              "      <td>-0.006701</td>\n",
              "      <td>-0.006822</td>\n",
              "      <td>-0.006948</td>\n",
              "      <td>-0.006926</td>\n",
              "      <td>-0.007051</td>\n",
              "      <td>-0.007183</td>\n",
              "      <td>-0.007303</td>\n",
              "      <td>-0.007441</td>\n",
              "      <td>-0.007580</td>\n",
              "    </tr>\n",
              "    <tr>\n",
              "      <th>2</th>\n",
              "      <td>COM</td>\n",
              "      <td>Comoros</td>\n",
              "      <td>46.06</td>\n",
              "      <td>41.68</td>\n",
              "      <td>37.30</td>\n",
              "      <td>35.11</td>\n",
              "      <td>32.92</td>\n",
              "      <td>-0.438</td>\n",
              "      <td>-0.4380</td>\n",
              "      <td>-0.4380</td>\n",
              "      <td>-0.438000</td>\n",
              "      <td>-0.438</td>\n",
              "      <td>-0.438000</td>\n",
              "      <td>-0.4380</td>\n",
              "      <td>-0.438</td>\n",
              "      <td>-0.438</td>\n",
              "      <td>-0.438</td>\n",
              "      <td>-0.009943</td>\n",
              "      <td>-0.010492</td>\n",
              "      <td>-0.010800</td>\n",
              "      <td>-0.011133</td>\n",
              "      <td>-0.011041</td>\n",
              "      <td>-0.011371</td>\n",
              "      <td>-0.011728</td>\n",
              "      <td>-0.012029</td>\n",
              "      <td>-0.012414</td>\n",
              "      <td>-0.012799</td>\n",
              "    </tr>\n",
              "    <tr>\n",
              "      <th>3</th>\n",
              "      <td>DJI</td>\n",
              "      <td>Djibouti</td>\n",
              "      <td>5.60</td>\n",
              "      <td>5.60</td>\n",
              "      <td>5.60</td>\n",
              "      <td>5.60</td>\n",
              "      <td>5.80</td>\n",
              "      <td>0.000</td>\n",
              "      <td>0.0000</td>\n",
              "      <td>0.0000</td>\n",
              "      <td>0.006667</td>\n",
              "      <td>0.000</td>\n",
              "      <td>0.000000</td>\n",
              "      <td>0.0100</td>\n",
              "      <td>0.000</td>\n",
              "      <td>0.020</td>\n",
              "      <td>0.040</td>\n",
              "      <td>0.000000</td>\n",
              "      <td>0.000000</td>\n",
              "      <td>0.000000</td>\n",
              "      <td>0.001170</td>\n",
              "      <td>0.000000</td>\n",
              "      <td>0.000000</td>\n",
              "      <td>0.001756</td>\n",
              "      <td>0.000000</td>\n",
              "      <td>0.003515</td>\n",
              "      <td>0.007043</td>\n",
              "    </tr>\n",
              "    <tr>\n",
              "      <th>4</th>\n",
              "      <td>ERI</td>\n",
              "      <td>Eritrea</td>\n",
              "      <td>1150.06</td>\n",
              "      <td>1118.46</td>\n",
              "      <td>1086.86</td>\n",
              "      <td>1071.06</td>\n",
              "      <td>1055.26</td>\n",
              "      <td>-3.160</td>\n",
              "      <td>-3.1600</td>\n",
              "      <td>-3.1600</td>\n",
              "      <td>-3.160000</td>\n",
              "      <td>-3.160</td>\n",
              "      <td>-3.160000</td>\n",
              "      <td>-3.1600</td>\n",
              "      <td>-3.160</td>\n",
              "      <td>-3.160</td>\n",
              "      <td>-3.160</td>\n",
              "      <td>-0.002782</td>\n",
              "      <td>-0.002822</td>\n",
              "      <td>-0.002843</td>\n",
              "      <td>-0.002863</td>\n",
              "      <td>-0.002862</td>\n",
              "      <td>-0.002883</td>\n",
              "      <td>-0.002904</td>\n",
              "      <td>-0.002925</td>\n",
              "      <td>-0.002946</td>\n",
              "      <td>-0.002968</td>\n",
              "    </tr>\n",
              "    <tr>\n",
              "      <th>...</th>\n",
              "      <td>...</td>\n",
              "      <td>...</td>\n",
              "      <td>...</td>\n",
              "      <td>...</td>\n",
              "      <td>...</td>\n",
              "      <td>...</td>\n",
              "      <td>...</td>\n",
              "      <td>...</td>\n",
              "      <td>...</td>\n",
              "      <td>...</td>\n",
              "      <td>...</td>\n",
              "      <td>...</td>\n",
              "      <td>...</td>\n",
              "      <td>...</td>\n",
              "      <td>...</td>\n",
              "      <td>...</td>\n",
              "      <td>...</td>\n",
              "      <td>...</td>\n",
              "      <td>...</td>\n",
              "      <td>...</td>\n",
              "      <td>...</td>\n",
              "      <td>...</td>\n",
              "      <td>...</td>\n",
              "      <td>...</td>\n",
              "      <td>...</td>\n",
              "      <td>...</td>\n",
              "      <td>...</td>\n",
              "    </tr>\n",
              "    <tr>\n",
              "      <th>242</th>\n",
              "      <td>PRY</td>\n",
              "      <td>Paraguay</td>\n",
              "      <td>25545.86</td>\n",
              "      <td>22991.65</td>\n",
              "      <td>19570.21</td>\n",
              "      <td>17498.94</td>\n",
              "      <td>16102.26</td>\n",
              "      <td>-255.421</td>\n",
              "      <td>-298.7825</td>\n",
              "      <td>-321.8768</td>\n",
              "      <td>-314.786667</td>\n",
              "      <td>-342.144</td>\n",
              "      <td>-366.180667</td>\n",
              "      <td>-344.4695</td>\n",
              "      <td>-414.254</td>\n",
              "      <td>-346.795</td>\n",
              "      <td>-279.336</td>\n",
              "      <td>-0.010479</td>\n",
              "      <td>-0.013235</td>\n",
              "      <td>-0.015019</td>\n",
              "      <td>-0.015266</td>\n",
              "      <td>-0.015983</td>\n",
              "      <td>-0.018035</td>\n",
              "      <td>-0.017651</td>\n",
              "      <td>-0.022125</td>\n",
              "      <td>-0.019316</td>\n",
              "      <td>-0.016499</td>\n",
              "    </tr>\n",
              "    <tr>\n",
              "      <th>243</th>\n",
              "      <td>PER</td>\n",
              "      <td>Peru</td>\n",
              "      <td>76448.54</td>\n",
              "      <td>75297.83</td>\n",
              "      <td>74049.80</td>\n",
              "      <td>73194.53</td>\n",
              "      <td>72330.37</td>\n",
              "      <td>-115.071</td>\n",
              "      <td>-119.9370</td>\n",
              "      <td>-130.1604</td>\n",
              "      <td>-137.272333</td>\n",
              "      <td>-124.803</td>\n",
              "      <td>-140.220000</td>\n",
              "      <td>-148.3730</td>\n",
              "      <td>-171.054</td>\n",
              "      <td>-171.943</td>\n",
              "      <td>-172.832</td>\n",
              "      <td>-0.001516</td>\n",
              "      <td>-0.001593</td>\n",
              "      <td>-0.001738</td>\n",
              "      <td>-0.001844</td>\n",
              "      <td>-0.001670</td>\n",
              "      <td>-0.001887</td>\n",
              "      <td>-0.002008</td>\n",
              "      <td>-0.002321</td>\n",
              "      <td>-0.002347</td>\n",
              "      <td>-0.002373</td>\n",
              "    </tr>\n",
              "    <tr>\n",
              "      <th>244</th>\n",
              "      <td>SUR</td>\n",
              "      <td>Suriname</td>\n",
              "      <td>15377.63</td>\n",
              "      <td>15340.87</td>\n",
              "      <td>15299.86</td>\n",
              "      <td>15251.67</td>\n",
              "      <td>15196.29</td>\n",
              "      <td>-3.676</td>\n",
              "      <td>-3.8885</td>\n",
              "      <td>-5.0384</td>\n",
              "      <td>-6.044667</td>\n",
              "      <td>-4.101</td>\n",
              "      <td>-5.946667</td>\n",
              "      <td>-7.2290</td>\n",
              "      <td>-9.638</td>\n",
              "      <td>-10.357</td>\n",
              "      <td>-11.076</td>\n",
              "      <td>-0.000239</td>\n",
              "      <td>-0.000253</td>\n",
              "      <td>-0.000329</td>\n",
              "      <td>-0.000395</td>\n",
              "      <td>-0.000268</td>\n",
              "      <td>-0.000389</td>\n",
              "      <td>-0.000473</td>\n",
              "      <td>-0.000631</td>\n",
              "      <td>-0.000679</td>\n",
              "      <td>-0.000727</td>\n",
              "    </tr>\n",
              "    <tr>\n",
              "      <th>245</th>\n",
              "      <td>URY</td>\n",
              "      <td>Uruguay</td>\n",
              "      <td>798.00</td>\n",
              "      <td>1369.00</td>\n",
              "      <td>1731.30</td>\n",
              "      <td>1920.00</td>\n",
              "      <td>2031.00</td>\n",
              "      <td>57.100</td>\n",
              "      <td>46.6650</td>\n",
              "      <td>44.8800</td>\n",
              "      <td>41.100000</td>\n",
              "      <td>36.230</td>\n",
              "      <td>36.733333</td>\n",
              "      <td>33.1000</td>\n",
              "      <td>37.740</td>\n",
              "      <td>29.970</td>\n",
              "      <td>22.200</td>\n",
              "      <td>0.055456</td>\n",
              "      <td>0.039486</td>\n",
              "      <td>0.035743</td>\n",
              "      <td>0.031629</td>\n",
              "      <td>0.023757</td>\n",
              "      <td>0.022806</td>\n",
              "      <td>0.019918</td>\n",
              "      <td>0.020906</td>\n",
              "      <td>0.016094</td>\n",
              "      <td>0.011304</td>\n",
              "    </tr>\n",
              "    <tr>\n",
              "      <th>246</th>\n",
              "      <td>VEN</td>\n",
              "      <td>Venezuela</td>\n",
              "      <td>52026.00</td>\n",
              "      <td>49151.00</td>\n",
              "      <td>47505.00</td>\n",
              "      <td>46683.00</td>\n",
              "      <td>46230.90</td>\n",
              "      <td>-287.500</td>\n",
              "      <td>-226.0500</td>\n",
              "      <td>-213.7200</td>\n",
              "      <td>-193.170000</td>\n",
              "      <td>-164.600</td>\n",
              "      <td>-164.533333</td>\n",
              "      <td>-146.0050</td>\n",
              "      <td>-164.400</td>\n",
              "      <td>-127.410</td>\n",
              "      <td>-90.420</td>\n",
              "      <td>-0.005669</td>\n",
              "      <td>-0.004535</td>\n",
              "      <td>-0.004325</td>\n",
              "      <td>-0.003929</td>\n",
              "      <td>-0.003400</td>\n",
              "      <td>-0.003429</td>\n",
              "      <td>-0.003058</td>\n",
              "      <td>-0.003485</td>\n",
              "      <td>-0.002715</td>\n",
              "      <td>-0.001944</td>\n",
              "    </tr>\n",
              "  </tbody>\n",
              "</table>\n",
              "<p>203 rows × 27 columns</p>\n",
              "</div>"
            ],
            "text/plain": [
              "    Codigo       Pais  ...  VarPercentual_2010-2020  VarPercentual_2015-2020\n",
              "0      AGO     Angola  ...                -0.007972                -0.008131\n",
              "1      BWA   Botswana  ...                -0.007441                -0.007580\n",
              "2      COM    Comoros  ...                -0.012414                -0.012799\n",
              "3      DJI   Djibouti  ...                 0.003515                 0.007043\n",
              "4      ERI    Eritrea  ...                -0.002946                -0.002968\n",
              "..     ...        ...  ...                      ...                      ...\n",
              "242    PRY   Paraguay  ...                -0.019316                -0.016499\n",
              "243    PER       Peru  ...                -0.002347                -0.002373\n",
              "244    SUR   Suriname  ...                -0.000679                -0.000727\n",
              "245    URY    Uruguay  ...                 0.016094                 0.011304\n",
              "246    VEN  Venezuela  ...                -0.002715                -0.001944\n",
              "\n",
              "[203 rows x 27 columns]"
            ]
          },
          "metadata": {},
          "execution_count": 22
        }
      ]
    },
    {
      "cell_type": "markdown",
      "metadata": {
        "id": "kK1e4i2EH-41"
      },
      "source": [
        "Arquivo salvo diretamento para o Bucket (Data Lake) da Google Cloud Storage."
      ]
    },
    {
      "cell_type": "code",
      "metadata": {
        "id": "re9YUwW0IBLR"
      },
      "source": [
        "client=storage.Client()\n",
        "bucket=client.get_bucket('projeto-final-bucket-g5')\n",
        "bucket.blob('saida/df_coberturaflorestal_pandas_tratado.csv').upload_from_string(df.to_csv(index=False), 'text/cvs')"
      ],
      "execution_count": null,
      "outputs": []
    },
    {
      "cell_type": "markdown",
      "metadata": {
        "id": "rGfijJenJspV"
      },
      "source": [
        "Instalação da biblioteca Pyspark"
      ]
    },
    {
      "cell_type": "code",
      "metadata": {
        "id": "7vYqz0xyJxN_",
        "colab": {
          "base_uri": "https://localhost:8080/"
        },
        "outputId": "edddac6e-4160-468e-e1ea-ffd7c7afe53e"
      },
      "source": [
        "!pip install pyspark"
      ],
      "execution_count": null,
      "outputs": [
        {
          "output_type": "stream",
          "name": "stdout",
          "text": [
            "Collecting pyspark\n",
            "  Downloading pyspark-3.2.0.tar.gz (281.3 MB)\n",
            "\u001b[K     |████████████████████████████████| 281.3 MB 39 kB/s \n",
            "\u001b[?25hCollecting py4j==0.10.9.2\n",
            "  Downloading py4j-0.10.9.2-py2.py3-none-any.whl (198 kB)\n",
            "\u001b[K     |████████████████████████████████| 198 kB 50.2 MB/s \n",
            "\u001b[?25hBuilding wheels for collected packages: pyspark\n",
            "  Building wheel for pyspark (setup.py) ... \u001b[?25l\u001b[?25hdone\n",
            "  Created wheel for pyspark: filename=pyspark-3.2.0-py2.py3-none-any.whl size=281805912 sha256=392b7d003ff8c961f79d4803741c3260e23af8a71d3ce4cf2a5e2c26e5af7f34\n",
            "  Stored in directory: /root/.cache/pip/wheels/0b/de/d2/9be5d59d7331c6c2a7c1b6d1a4f463ce107332b1ecd4e80718\n",
            "Successfully built pyspark\n",
            "Installing collected packages: py4j, pyspark\n",
            "Successfully installed py4j-0.10.9.2 pyspark-3.2.0\n"
          ]
        }
      ]
    },
    {
      "cell_type": "markdown",
      "metadata": {
        "id": "C74SMdvzKHJl"
      },
      "source": [
        "Importação de módulos e de funções específicas dentro da biblioteca Pyspark"
      ]
    },
    {
      "cell_type": "code",
      "metadata": {
        "id": "i4_LPZjoKIlg"
      },
      "source": [
        "from pyspark.sql import SparkSession\n",
        "import pyspark.sql.functions as F \n",
        "from pyspark.sql.types import StructType,StructField, StringType, IntegerType, FloatType, DoubleType, DateType \n",
        "from pyspark.sql.types import ArrayType, DoubleType, BooleanType\n",
        "from pyspark.sql.functions import col,array_contains\n",
        "from pyspark.sql.window import Window\n",
        "from pyspark.sql.functions import when\n"
      ],
      "execution_count": null,
      "outputs": []
    },
    {
      "cell_type": "markdown",
      "metadata": {
        "id": "CV0Kb6BQKOH5"
      },
      "source": [
        "Configurando a SparkSession"
      ]
    },
    {
      "cell_type": "code",
      "metadata": {
        "id": "a2x9kW6HKOxQ"
      },
      "source": [
        "spark = SparkSession.builder\\\n",
        "        .master(\"local\")\\\n",
        "        .appName(\"dataframe_coberturaflorestal\")\\\n",
        "        .config(\"spark.ui.port\",\"4050\")\\\n",
        "        .getOrCreate()"
      ],
      "execution_count": null,
      "outputs": []
    },
    {
      "cell_type": "markdown",
      "metadata": {
        "id": "_vOQZOW0KZe9"
      },
      "source": [
        "Criando o Esquema/Schema com a função StructType, usando o dataframe já driado na etapa de transformação com Pandas"
      ]
    },
    {
      "cell_type": "code",
      "metadata": {
        "colab": {
          "base_uri": "https://localhost:8080/"
        },
        "id": "_putqlqYKae4",
        "outputId": "22dcf383-461b-4098-b1f3-f71007e201e1"
      },
      "source": [
        "schema = StructType() \\\n",
        "      .add(\"Codigo\", StringType(), False) \\\n",
        "      .add(\"Pais\", StringType(), False) \\\n",
        "      .add(\"AreaFlorestal_1990(1000ha)\", FloatType(), True) \\\n",
        "      .add(\"AreaFlorestal_2000(1000ha)\", FloatType(), True) \\\n",
        "      .add(\"AreaFlorestal_2010(1000ha)\", FloatType(), True) \\\n",
        "      .add(\"AreaFlorestal_2015(1000ha)\", FloatType(), True) \\\n",
        "      .add(\"AreaFlorestal_2020(1000ha)\", FloatType(), True) \\\n",
        "      .add(\"Variacao_1990-2000\", FloatType(), True) \\\n",
        "      .add(\"Variacao_1990-2010\", FloatType(), True) \\\n",
        "      .add(\"Variacao_1990-2015\", FloatType(), True) \\\n",
        "      .add(\"Variacao_1990-2020\", FloatType(), True) \\\n",
        "      .add(\"Variacao_2000-2010\", FloatType(), True) \\\n",
        "      .add(\"Variacao_2000-2015\",FloatType(), True) \\\n",
        "      .add(\"Variacao_2000-2020\", FloatType(), True) \\\n",
        "      .add(\"Variacao_2010-2015\", FloatType(), True) \\\n",
        "      .add(\"Variacao_2010-2020\",FloatType(), True) \\\n",
        "      .add(\"Variacao_2015-2020\", FloatType(), True) \\\n",
        "      .add(\"VarPercentual_1990-2000\", FloatType(), True) \\\n",
        "      .add(\"VarPercentual_1990-2010\",FloatType(), True) \\\n",
        "      .add(\"VarPercentual_1990-2015\", FloatType(), True) \\\n",
        "      .add(\"VarPercentual_1990-2020\", FloatType(), True) \\\n",
        "      .add(\"VarPercentual_2000-2010\",FloatType(), True) \\\n",
        "      .add(\"VarPercentual_2000-2015\", FloatType(), True) \\\n",
        "      .add(\"VarPercentual_2000-2020\", FloatType(), True) \\\n",
        "      .add(\"VarPercentual_2010-2015\",FloatType(), True) \\\n",
        "      .add(\"VarPercentual_2010-2020\", FloatType(), True) \\\n",
        "      .add(\"VarPercentual_2015-2020\", FloatType(), True)    \n",
        "\n",
        "df_cflorestal_spark = spark.createDataFrame(df, schema=schema)\n",
        "\n",
        "df_cflorestal_spark.printSchema()"
      ],
      "execution_count": null,
      "outputs": [
        {
          "output_type": "stream",
          "name": "stdout",
          "text": [
            "root\n",
            " |-- Codigo: string (nullable = false)\n",
            " |-- Pais: string (nullable = false)\n",
            " |-- AreaFlorestal_1990(1000ha): float (nullable = true)\n",
            " |-- AreaFlorestal_2000(1000ha): float (nullable = true)\n",
            " |-- AreaFlorestal_2010(1000ha): float (nullable = true)\n",
            " |-- AreaFlorestal_2015(1000ha): float (nullable = true)\n",
            " |-- AreaFlorestal_2020(1000ha): float (nullable = true)\n",
            " |-- Variacao_1990-2000: float (nullable = true)\n",
            " |-- Variacao_1990-2010: float (nullable = true)\n",
            " |-- Variacao_1990-2015: float (nullable = true)\n",
            " |-- Variacao_1990-2020: float (nullable = true)\n",
            " |-- Variacao_2000-2010: float (nullable = true)\n",
            " |-- Variacao_2000-2015: float (nullable = true)\n",
            " |-- Variacao_2000-2020: float (nullable = true)\n",
            " |-- Variacao_2010-2015: float (nullable = true)\n",
            " |-- Variacao_2010-2020: float (nullable = true)\n",
            " |-- Variacao_2015-2020: float (nullable = true)\n",
            " |-- VarPercentual_1990-2000: float (nullable = true)\n",
            " |-- VarPercentual_1990-2010: float (nullable = true)\n",
            " |-- VarPercentual_1990-2015: float (nullable = true)\n",
            " |-- VarPercentual_1990-2020: float (nullable = true)\n",
            " |-- VarPercentual_2000-2010: float (nullable = true)\n",
            " |-- VarPercentual_2000-2015: float (nullable = true)\n",
            " |-- VarPercentual_2000-2020: float (nullable = true)\n",
            " |-- VarPercentual_2010-2015: float (nullable = true)\n",
            " |-- VarPercentual_2010-2020: float (nullable = true)\n",
            " |-- VarPercentual_2015-2020: float (nullable = true)\n",
            "\n"
          ]
        }
      ]
    },
    {
      "cell_type": "code",
      "metadata": {
        "colab": {
          "base_uri": "https://localhost:8080/"
        },
        "id": "ALsAz3rQNGcX",
        "outputId": "5ce445da-2ec2-4c7f-957e-83712ce70403"
      },
      "source": [
        "df_cflorestal_spark.show(5)"
      ],
      "execution_count": null,
      "outputs": [
        {
          "output_type": "stream",
          "name": "stdout",
          "text": [
            "+------+--------+--------------------------+--------------------------+--------------------------+--------------------------+--------------------------+------------------+------------------+------------------+------------------+------------------+------------------+------------------+------------------+------------------+------------------+-----------------------+-----------------------+-----------------------+-----------------------+-----------------------+-----------------------+-----------------------+-----------------------+-----------------------+-----------------------+\n",
            "|Codigo|    Pais|AreaFlorestal_1990(1000ha)|AreaFlorestal_2000(1000ha)|AreaFlorestal_2010(1000ha)|AreaFlorestal_2015(1000ha)|AreaFlorestal_2020(1000ha)|Variacao_1990-2000|Variacao_1990-2010|Variacao_1990-2015|Variacao_1990-2020|Variacao_2000-2010|Variacao_2000-2015|Variacao_2000-2020|Variacao_2010-2015|Variacao_2010-2020|Variacao_2015-2020|VarPercentual_1990-2000|VarPercentual_1990-2010|VarPercentual_1990-2015|VarPercentual_1990-2020|VarPercentual_2000-2010|VarPercentual_2000-2015|VarPercentual_2000-2020|VarPercentual_2010-2015|VarPercentual_2010-2020|VarPercentual_2015-2020|\n",
            "+------+--------+--------------------------+--------------------------+--------------------------+--------------------------+--------------------------+------------------+------------------+------------------+------------------+------------------+------------------+------------------+------------------+------------------+------------------+-----------------------+-----------------------+-----------------------+-----------------------+-----------------------+-----------------------+-----------------------+-----------------------+-----------------------+-----------------------+\n",
            "|   AGO|  Angola|                  79262.78|                  77708.61|                   72158.0|                  69382.69|                  66607.38|          -155.417|          -355.239|         -395.2036|        -421.84668|          -555.061|        -555.06134|         -555.0615|          -555.062|          -555.062|          -555.062|          -0.0019783005|          -0.0046845186|           -0.005311096|           -0.005781664|          -0.0073833982|           -0.007526774|           -0.007677907|           -0.007813464|           -0.007972329|           -0.008131168|\n",
            "|   BWA|Botswana|                   18803.7|                   17620.7|                   16437.7|                   15846.2|                   15254.7|            -118.3|            -118.3|            -118.3|            -118.3|            -118.3|            -118.3|            -118.3|            -118.3|            -118.3|            -118.3|           -0.006476865|          -0.0067012548|           -0.006821584|           -0.006947951|          -0.0069255936|            -0.00705133|          -0.0071834098|           -0.007302755|           -0.007441159|          -0.0075795436|\n",
            "|   COM| Comoros|                     46.06|                     41.68|                      37.3|                     35.11|                     32.92|            -0.438|            -0.438|            -0.438|            -0.438|            -0.438|            -0.438|            -0.438|            -0.438|            -0.438|            -0.438|           -0.009942592|           -0.010492148|           -0.010799617|           -0.011133048|           -0.011041398|           -0.011370555|           -0.011727739|           -0.012028539|           -0.012413602|           -0.012798516|\n",
            "|   DJI|Djibouti|                       5.6|                       5.6|                       5.6|                       5.6|                       5.8|               0.0|               0.0|               0.0|       0.006666667|               0.0|               0.0|              0.01|               0.0|              0.02|              0.04|                    0.0|                    0.0|                    0.0|           0.0011703951|                    0.0|                    0.0|           0.0017561062|                    0.0|           0.0035152961|           0.0070429496|\n",
            "|   ERI| Eritrea|                   1150.06|                   1118.46|                   1086.86|                   1071.06|                   1055.26|             -3.16|             -3.16|             -3.16|             -3.16|             -3.16|             -3.16|             -3.16|             -3.16|             -3.16|             -3.16|          -0.0027822598|           -0.002822076|          -0.0028425644|           -0.002863457|          -0.0028618905|          -0.0028827654|          -0.0029040528|          -0.0029245138|          -0.0029462136|          -0.0029679132|\n",
            "+------+--------+--------------------------+--------------------------+--------------------------+--------------------------+--------------------------+------------------+------------------+------------------+------------------+------------------+------------------+------------------+------------------+------------------+------------------+-----------------------+-----------------------+-----------------------+-----------------------+-----------------------+-----------------------+-----------------------+-----------------------+-----------------------+-----------------------+\n",
            "only showing top 5 rows\n",
            "\n"
          ]
        }
      ]
    },
    {
      "cell_type": "code",
      "metadata": {
        "colab": {
          "base_uri": "https://localhost:8080/"
        },
        "id": "CPQEwshoRlpJ",
        "outputId": "250800e6-69f2-4262-a1a0-083b974a5dae"
      },
      "source": [
        "df_cflorestal_spark.filter(F.col('Pais') == 'Brazil').show()"
      ],
      "execution_count": null,
      "outputs": [
        {
          "output_type": "stream",
          "name": "stdout",
          "text": [
            "+------+------+--------------------------+--------------------------+--------------------------+--------------------------+--------------------------+------------------+------------------+------------------+------------------+------------------+------------------+------------------+------------------+------------------+------------------+-----------------------+-----------------------+-----------------------+-----------------------+-----------------------+-----------------------+-----------------------+-----------------------+-----------------------+-----------------------+\n",
            "|Codigo|  Pais|AreaFlorestal_1990(1000ha)|AreaFlorestal_2000(1000ha)|AreaFlorestal_2010(1000ha)|AreaFlorestal_2015(1000ha)|AreaFlorestal_2020(1000ha)|Variacao_1990-2000|Variacao_1990-2010|Variacao_1990-2015|Variacao_1990-2020|Variacao_2000-2010|Variacao_2000-2015|Variacao_2000-2020|Variacao_2010-2015|Variacao_2010-2020|Variacao_2015-2020|VarPercentual_1990-2000|VarPercentual_1990-2010|VarPercentual_1990-2015|VarPercentual_1990-2020|VarPercentual_2000-2010|VarPercentual_2000-2015|VarPercentual_2000-2020|VarPercentual_2010-2015|VarPercentual_2010-2020|VarPercentual_2015-2020|\n",
            "+------+------+--------------------------+--------------------------+--------------------------+--------------------------+--------------------------+------------------+------------------+------------------+------------------+------------------+------------------+------------------+------------------+------------------+------------------+-----------------------+-----------------------+-----------------------+-----------------------+-----------------------+-----------------------+-----------------------+-----------------------+-----------------------+-----------------------+\n",
            "|   BRA|Brazil|                  588898.0|                  551088.6|                  511580.7|                  503884.8|                  496619.6|          -3780.94|         -3865.865|         -3400.528|        -3075.9468|          -3950.79|          -3146.92|          -2723.45|          -1539.18|          -1496.11|          -1453.04|           -0.006613772|          -0.0070126783|           -0.006216808|           -0.005664849|           -0.007411424|          -0.0059520775|          -0.0051900474|          -0.0030269444|          -0.0029636999|          -0.0029004514|\n",
            "+------+------+--------------------------+--------------------------+--------------------------+--------------------------+--------------------------+------------------+------------------+------------------+------------------+------------------+------------------+------------------+------------------+------------------+------------------+-----------------------+-----------------------+-----------------------+-----------------------+-----------------------+-----------------------+-----------------------+-----------------------+-----------------------+-----------------------+\n",
            "\n"
          ]
        }
      ]
    },
    {
      "cell_type": "code",
      "metadata": {
        "id": "9-6g28zgS1DH"
      },
      "source": [
        "def upload_blob(bucket_name, source_file_name, destination_blob_name):\n",
        "    \"\"\"Uploads a file to the bucket.\"\"\"\n",
        "    # The ID of your GCS bucket\n",
        "    # bucket_name = \"your-bucket-name\"\n",
        "    # The path to your file to upload\n",
        "    # source_file_name = \"local/path/to/file\"\n",
        "    # The ID of your GCS object\n",
        "    # destination_blob_name = \"storage-object-name\"\n",
        "\n",
        "    storage_client = storage.Client()\n",
        "    bucket = storage_client.bucket(bucket_name)\n",
        "    blob = bucket.blob(destination_blob_name)\n",
        "\n",
        "    blob.upload_from_filename(source_file_name)\n",
        "\n",
        "    print(\n",
        "        \"File {} uploaded to {}.\".format(\n",
        "            source_file_name, destination_blob_name\n",
        "        )\n",
        "    )"
      ],
      "execution_count": null,
      "outputs": []
    },
    {
      "cell_type": "code",
      "metadata": {
        "colab": {
          "base_uri": "https://localhost:8080/"
        },
        "id": "_7Ly9TUNS_Dt",
        "outputId": "aeab696d-96fa-4bd3-d8c2-c7a8225c24a8"
      },
      "source": [
        "from google.colab import drive\n",
        "drive.mount('/content/drive')"
      ],
      "execution_count": null,
      "outputs": [
        {
          "output_type": "stream",
          "name": "stdout",
          "text": [
            "Mounted at /content/drive\n"
          ]
        }
      ]
    },
    {
      "cell_type": "code",
      "metadata": {
        "id": "guSDLeFpTMyQ"
      },
      "source": [
        "df_cflorestal_spark.write.format(\"csv\") \\\n",
        ".option(\"header\", \"true\") \\\n",
        ".option(\"inferschema\", \"true\") \\\n",
        ".option(\"delimiter\", \",\") \\\n",
        ".save(\"/content/drive/MyDrive/dados_soulcode/df_cflorestal\")"
      ],
      "execution_count": null,
      "outputs": []
    },
    {
      "cell_type": "code",
      "metadata": {
        "colab": {
          "base_uri": "https://localhost:8080/"
        },
        "id": "AO2RjH3ATjyf",
        "outputId": "b5fd349d-519c-43ca-8a6b-3f6cc17d6d51"
      },
      "source": [
        "upload_blob(\"projeto-final-bucket-g5\", \"/content/drive/MyDrive/dados_soulcode/df_cflorestal/df_cflorestal_spark_tratado.csv\", \"saida/df_cflorestal_pyspark_final.csv\")"
      ],
      "execution_count": null,
      "outputs": [
        {
          "output_type": "stream",
          "name": "stdout",
          "text": [
            "File /content/drive/MyDrive/dados_soulcode/df_cflorestal/df_cflorestal_spark_tratado.csv uploaded to saida/df_cflorestal_pyspark_final.csv.\n"
          ]
        }
      ]
    },
    {
      "cell_type": "markdown",
      "metadata": {
        "id": "nhJ4Af9VaK9i"
      },
      "source": [
        "Definição de listas de países por continente para criação de nova coluna"
      ]
    },
    {
      "cell_type": "code",
      "metadata": {
        "id": "r0nr0mtkaEJI"
      },
      "source": [
        "\n",
        "africa = ['Algeria', 'Angola', 'Benin', 'Botswana', 'Burkina Faso', 'Burundi', 'Cameroon', 'Cape Verde', \n",
        "          'Central African Republic', 'Chad', 'Comoros', 'Congo', 'Democratic Republic of the Congo', \"Cote d'Ivoire\", \n",
        "          'Djibouti', 'Egypt', 'Equatorial Guinea', 'Eritrea', 'Eswatini', 'Ethiopia', 'Gabon', 'Gambia', 'Ghana', 'Guinea', \n",
        "          'Guinea-Bissau', 'Kenya', 'Lesotho', 'Liberia', 'Libya', 'Madagascar', 'Malawi', 'Mali', 'Mauritania', \n",
        "          'Mauritius', 'Morocco', 'Mozambique', 'Namibia', 'Niger', 'Nigeria', 'Reunion', 'Rwanda', 'Sao Tome and Principe', \n",
        "          'Senegal', 'Seychelles', 'Sierra Leone', 'Somalia', 'South Africa', 'Sudan', 'Tanzania', 'Togo', \n",
        "          'Tunisia', 'Uganda', 'Zambia', 'Zimbabwe']\n",
        "\n",
        "america = ['Anguilla', 'Antigua and Barbuda', 'Argentina', 'Aruba', 'Bahamas', 'Barbados', 'Belize', 'Bolivia', 'Brazil', \n",
        "           'British Virgin Islands', 'Canada', 'Cayman Islands', 'Chile', 'Colombia', 'Costa Rica', 'Cuba', 'Curacao', \n",
        "           'Dominica', 'Dominican Republic', 'Ecuador', 'El Salvador', 'Islas Malvinas', 'French Guiana', 'Greenland', \n",
        "           'Grenada', 'Guadeloupe', 'Guatemala', 'Guyana', 'Haiti', 'Honduras', 'Jamaica', 'Martinique', 'Mexico', \n",
        "           'Montserrat', 'Nicaragua', 'Panama', 'Paraguay', 'Peru', 'Saint Kitts and Nevis', 'Saint Lucia', \n",
        "           'Saint Vincent and the Grenadines', 'Suriname', 'Trinidad and Tobago', 'Turks and Caicos Islands', \n",
        "           'United States', 'Uruguay', 'Venezuela']\n",
        "\n",
        "asia = ['Afghanistan', 'Armenia', 'Azerbaijan', 'Bahrain', 'Bangladesh', 'Bhutan', 'Cambodia', 'China', \n",
        "        'Cyprus', 'Georgia', 'Hong Kong', 'India', 'Indonesia', 'Iran', 'Iraq', 'Israel', 'Japan', 'Jordan', 'Kazakhstan', \n",
        "        'Kuwait', 'Kyrgyzstan', 'Laos', 'Lebanon', 'Macao', 'Malaysia', 'Mongolia', 'Myanmar', 'Nepal', 'North Korea', \n",
        "        'Oman', 'Pakistan', 'Palestine', 'Philippines', 'Qatar', 'Saudi Arabia', 'Singapore', 'South Korea', 'Sri Lanka', \n",
        "        'Syria', 'Taiwan', 'Tajikistan', 'Thailand', 'Timor Leste', 'Turkey', 'Turkmenistan', 'United Arab Emirates', \n",
        "        'Uzbekistan', 'Vietnam', 'Yemen']\n",
        "\n",
        "europa = ['Albania', 'Andorra', 'Austria', 'Belarus', 'Belgium', 'Bosnia and Herzegovina', 'Bulgaria', 'Croatia', \n",
        "          'Czech Republic', 'Denmark', 'Estonia', 'Faroe Islands', 'Finland', 'France', 'Germany', 'Greece', \n",
        "          'Hungary', 'Iceland', 'Ireland', 'Italy', 'Latvia', 'Liechtenstein', 'Lithuania', 'Luxembourg', 'Macedonia', \n",
        "          'Malta', 'Moldova', 'Montenegro', 'Netherlands', 'Norway', 'Poland', 'Portugal', 'Romania', \n",
        "          'Russia', 'Serbia', 'Slovakia', 'Slovenia', 'Spain', 'Sweden', 'Switzerland', 'Ukraine', 'United Kingdom'] \n",
        "\n",
        "oceania = ['Australia', 'Christmas Island', 'Fiji', 'French Polynesia', 'Kiribati', 'Micronesia', 'New Caledonia',\n",
        "           'New Zealand', 'Niue', 'Palau', 'Papua New Guinea', 'Samoa', 'Solomon Islands', 'Tonga']\n"
      ],
      "execution_count": null,
      "outputs": []
    },
    {
      "cell_type": "code",
      "metadata": {
        "id": "1iwwTLrGaOaE"
      },
      "source": [
        "df_cflorestal_spark2 = (df_cflorestal_spark.withColumn('Continente', when(F.col('Pais').isin(europa), 'Europa')\n",
        "            .when(F.col('Pais').isin(asia), 'Ásia')\n",
        "            .when(F.col('Pais').isin(africa), 'África')\n",
        "            .when(F.col('Pais').isin(america), 'América')\n",
        "            .when(F.col('Pais').isin(oceania), 'Oceania'))\n",
        "\n",
        ")"
      ],
      "execution_count": null,
      "outputs": []
    },
    {
      "cell_type": "code",
      "metadata": {
        "colab": {
          "base_uri": "https://localhost:8080/"
        },
        "id": "PEuTk1n8a9Hq",
        "outputId": "35439f84-ef57-4ca6-f0be-aca23c124866"
      },
      "source": [
        "df_cflorestal_spark2.printSchema()"
      ],
      "execution_count": null,
      "outputs": [
        {
          "output_type": "stream",
          "name": "stdout",
          "text": [
            "root\n",
            " |-- Codigo: string (nullable = false)\n",
            " |-- Pais: string (nullable = false)\n",
            " |-- AreaFlorestal_1990(1000ha): float (nullable = true)\n",
            " |-- AreaFlorestal_2000(1000ha): float (nullable = true)\n",
            " |-- AreaFlorestal_2010(1000ha): float (nullable = true)\n",
            " |-- AreaFlorestal_2015(1000ha): float (nullable = true)\n",
            " |-- AreaFlorestal_2020(1000ha): float (nullable = true)\n",
            " |-- Variacao_1990-2000: float (nullable = true)\n",
            " |-- Variacao_1990-2010: float (nullable = true)\n",
            " |-- Variacao_1990-2015: float (nullable = true)\n",
            " |-- Variacao_1990-2020: float (nullable = true)\n",
            " |-- Variacao_2000-2010: float (nullable = true)\n",
            " |-- Variacao_2000-2015: float (nullable = true)\n",
            " |-- Variacao_2000-2020: float (nullable = true)\n",
            " |-- Variacao_2010-2015: float (nullable = true)\n",
            " |-- Variacao_2010-2020: float (nullable = true)\n",
            " |-- Variacao_2015-2020: float (nullable = true)\n",
            " |-- VarPercentual_1990-2000: float (nullable = true)\n",
            " |-- VarPercentual_1990-2010: float (nullable = true)\n",
            " |-- VarPercentual_1990-2015: float (nullable = true)\n",
            " |-- VarPercentual_1990-2020: float (nullable = true)\n",
            " |-- VarPercentual_2000-2010: float (nullable = true)\n",
            " |-- VarPercentual_2000-2015: float (nullable = true)\n",
            " |-- VarPercentual_2000-2020: float (nullable = true)\n",
            " |-- VarPercentual_2010-2015: float (nullable = true)\n",
            " |-- VarPercentual_2010-2020: float (nullable = true)\n",
            " |-- VarPercentual_2015-2020: float (nullable = true)\n",
            " |-- Continente: string (nullable = true)\n",
            "\n"
          ]
        }
      ]
    },
    {
      "cell_type": "code",
      "metadata": {
        "colab": {
          "base_uri": "https://localhost:8080/"
        },
        "id": "vtvLJFkWbIlU",
        "outputId": "474b4348-f19d-41ac-89df-2dd2bc39b877"
      },
      "source": [
        "df_cflorestal_spark2.show(5)"
      ],
      "execution_count": null,
      "outputs": [
        {
          "output_type": "stream",
          "name": "stdout",
          "text": [
            "+------+--------+--------------------------+--------------------------+--------------------------+--------------------------+--------------------------+------------------+------------------+------------------+------------------+------------------+------------------+------------------+------------------+------------------+------------------+-----------------------+-----------------------+-----------------------+-----------------------+-----------------------+-----------------------+-----------------------+-----------------------+-----------------------+-----------------------+----------+\n",
            "|Codigo|    Pais|AreaFlorestal_1990(1000ha)|AreaFlorestal_2000(1000ha)|AreaFlorestal_2010(1000ha)|AreaFlorestal_2015(1000ha)|AreaFlorestal_2020(1000ha)|Variacao_1990-2000|Variacao_1990-2010|Variacao_1990-2015|Variacao_1990-2020|Variacao_2000-2010|Variacao_2000-2015|Variacao_2000-2020|Variacao_2010-2015|Variacao_2010-2020|Variacao_2015-2020|VarPercentual_1990-2000|VarPercentual_1990-2010|VarPercentual_1990-2015|VarPercentual_1990-2020|VarPercentual_2000-2010|VarPercentual_2000-2015|VarPercentual_2000-2020|VarPercentual_2010-2015|VarPercentual_2010-2020|VarPercentual_2015-2020|Continente|\n",
            "+------+--------+--------------------------+--------------------------+--------------------------+--------------------------+--------------------------+------------------+------------------+------------------+------------------+------------------+------------------+------------------+------------------+------------------+------------------+-----------------------+-----------------------+-----------------------+-----------------------+-----------------------+-----------------------+-----------------------+-----------------------+-----------------------+-----------------------+----------+\n",
            "|   AGO|  Angola|                  79262.78|                  77708.61|                   72158.0|                  69382.69|                  66607.38|          -155.417|          -355.239|         -395.2036|        -421.84668|          -555.061|        -555.06134|         -555.0615|          -555.062|          -555.062|          -555.062|          -0.0019783005|          -0.0046845186|           -0.005311096|           -0.005781664|          -0.0073833982|           -0.007526774|           -0.007677907|           -0.007813464|           -0.007972329|           -0.008131168|    África|\n",
            "|   BWA|Botswana|                   18803.7|                   17620.7|                   16437.7|                   15846.2|                   15254.7|            -118.3|            -118.3|            -118.3|            -118.3|            -118.3|            -118.3|            -118.3|            -118.3|            -118.3|            -118.3|           -0.006476865|          -0.0067012548|           -0.006821584|           -0.006947951|          -0.0069255936|            -0.00705133|          -0.0071834098|           -0.007302755|           -0.007441159|          -0.0075795436|    África|\n",
            "|   COM| Comoros|                     46.06|                     41.68|                      37.3|                     35.11|                     32.92|            -0.438|            -0.438|            -0.438|            -0.438|            -0.438|            -0.438|            -0.438|            -0.438|            -0.438|            -0.438|           -0.009942592|           -0.010492148|           -0.010799617|           -0.011133048|           -0.011041398|           -0.011370555|           -0.011727739|           -0.012028539|           -0.012413602|           -0.012798516|    África|\n",
            "|   DJI|Djibouti|                       5.6|                       5.6|                       5.6|                       5.6|                       5.8|               0.0|               0.0|               0.0|       0.006666667|               0.0|               0.0|              0.01|               0.0|              0.02|              0.04|                    0.0|                    0.0|                    0.0|           0.0011703951|                    0.0|                    0.0|           0.0017561062|                    0.0|           0.0035152961|           0.0070429496|    África|\n",
            "|   ERI| Eritrea|                   1150.06|                   1118.46|                   1086.86|                   1071.06|                   1055.26|             -3.16|             -3.16|             -3.16|             -3.16|             -3.16|             -3.16|             -3.16|             -3.16|             -3.16|             -3.16|          -0.0027822598|           -0.002822076|          -0.0028425644|           -0.002863457|          -0.0028618905|          -0.0028827654|          -0.0029040528|          -0.0029245138|          -0.0029462136|          -0.0029679132|    África|\n",
            "+------+--------+--------------------------+--------------------------+--------------------------+--------------------------+--------------------------+------------------+------------------+------------------+------------------+------------------+------------------+------------------+------------------+------------------+------------------+-----------------------+-----------------------+-----------------------+-----------------------+-----------------------+-----------------------+-----------------------+-----------------------+-----------------------+-----------------------+----------+\n",
            "only showing top 5 rows\n",
            "\n"
          ]
        }
      ]
    },
    {
      "cell_type": "code",
      "metadata": {
        "id": "jZPWmRXjbcTx"
      },
      "source": [
        "df_cflorestal_spark2 = df_cflorestal_spark2.select('Continente', 'Pais', 'Codigo', 'AreaFlorestal_1990(1000ha)',\\\n",
        "                                                   'AreaFlorestal_2000(1000ha)', 'AreaFlorestal_2010(1000ha)',\\\n",
        "                                                   'AreaFlorestal_2015(1000ha)', 'AreaFlorestal_2020(1000ha)',\\\n",
        "                                                   'Variacao_1990-2000', 'Variacao_1990-2010', 'Variacao_1990-2015',\\\n",
        "                                                   'Variacao_1990-2020', 'Variacao_2000-2010', 'Variacao_2000-2015', \\\n",
        "                                                   'Variacao_2000-2020', 'Variacao_2010-2015', 'Variacao_2010-2020',\\\n",
        "                                                   'Variacao_2015-2020', 'VarPercentual_1990-2000', 'VarPercentual_1990-2010',\\\n",
        "                                                   'VarPercentual_1990-2015', 'VarPercentual_1990-2020', 'VarPercentual_2000-2010',\\\n",
        "                                                   'VarPercentual_2000-2015', 'VarPercentual_2000-2020', 'VarPercentual_2010-2015',\\\n",
        "                                                   'VarPercentual_2010-2020', 'VarPercentual_2015-2020')                   "
      ],
      "execution_count": null,
      "outputs": []
    },
    {
      "cell_type": "code",
      "metadata": {
        "colab": {
          "base_uri": "https://localhost:8080/"
        },
        "id": "m-M7O_hGdRHj",
        "outputId": "2edc4d8f-fa50-48a4-a3a5-90939e5ba295"
      },
      "source": [
        "df_cflorestal_spark2.show(70)"
      ],
      "execution_count": null,
      "outputs": [
        {
          "output_type": "stream",
          "name": "stdout",
          "text": [
            "+----------+--------------------+------+--------------------------+--------------------------+--------------------------+--------------------------+--------------------------+------------------+------------------+------------------+------------------+------------------+------------------+------------------+------------------+------------------+------------------+-----------------------+-----------------------+-----------------------+-----------------------+-----------------------+-----------------------+-----------------------+-----------------------+-----------------------+-----------------------+\n",
            "|Continente|                Pais|Codigo|AreaFlorestal_1990(1000ha)|AreaFlorestal_2000(1000ha)|AreaFlorestal_2010(1000ha)|AreaFlorestal_2015(1000ha)|AreaFlorestal_2020(1000ha)|Variacao_1990-2000|Variacao_1990-2010|Variacao_1990-2015|Variacao_1990-2020|Variacao_2000-2010|Variacao_2000-2015|Variacao_2000-2020|Variacao_2010-2015|Variacao_2010-2020|Variacao_2015-2020|VarPercentual_1990-2000|VarPercentual_1990-2010|VarPercentual_1990-2015|VarPercentual_1990-2020|VarPercentual_2000-2010|VarPercentual_2000-2015|VarPercentual_2000-2020|VarPercentual_2010-2015|VarPercentual_2010-2020|VarPercentual_2015-2020|\n",
            "+----------+--------------------+------+--------------------------+--------------------------+--------------------------+--------------------------+--------------------------+------------------+------------------+------------------+------------------+------------------+------------------+------------------+------------------+------------------+------------------+-----------------------+-----------------------+-----------------------+-----------------------+-----------------------+-----------------------+-----------------------+-----------------------+-----------------------+-----------------------+\n",
            "|    África|              Angola|   AGO|                  79262.78|                  77708.61|                   72158.0|                  69382.69|                  66607.38|          -155.417|          -355.239|         -395.2036|        -421.84668|          -555.061|        -555.06134|         -555.0615|          -555.062|          -555.062|          -555.062|          -0.0019783005|          -0.0046845186|           -0.005311096|           -0.005781664|          -0.0073833982|           -0.007526774|           -0.007677907|           -0.007813464|           -0.007972329|           -0.008131168|\n",
            "|    África|            Botswana|   BWA|                   18803.7|                   17620.7|                   16437.7|                   15846.2|                   15254.7|            -118.3|            -118.3|            -118.3|            -118.3|            -118.3|            -118.3|            -118.3|            -118.3|            -118.3|            -118.3|           -0.006476865|          -0.0067012548|           -0.006821584|           -0.006947951|          -0.0069255936|            -0.00705133|          -0.0071834098|           -0.007302755|           -0.007441159|          -0.0075795436|\n",
            "|    África|             Comoros|   COM|                     46.06|                     41.68|                      37.3|                     35.11|                     32.92|            -0.438|            -0.438|            -0.438|            -0.438|            -0.438|            -0.438|            -0.438|            -0.438|            -0.438|            -0.438|           -0.009942592|           -0.010492148|           -0.010799617|           -0.011133048|           -0.011041398|           -0.011370555|           -0.011727739|           -0.012028539|           -0.012413602|           -0.012798516|\n",
            "|    África|            Djibouti|   DJI|                       5.6|                       5.6|                       5.6|                       5.6|                       5.8|               0.0|               0.0|               0.0|       0.006666667|               0.0|               0.0|              0.01|               0.0|              0.02|              0.04|                    0.0|                    0.0|                    0.0|           0.0011703951|                    0.0|                    0.0|           0.0017561062|                    0.0|           0.0035152961|           0.0070429496|\n",
            "|    África|             Eritrea|   ERI|                   1150.06|                   1118.46|                   1086.86|                   1071.06|                   1055.26|             -3.16|             -3.16|             -3.16|             -3.16|             -3.16|             -3.16|             -3.16|             -3.16|             -3.16|             -3.16|          -0.0027822598|           -0.002822076|          -0.0028425644|           -0.002863457|          -0.0028618905|          -0.0028827654|          -0.0029040528|          -0.0029245138|          -0.0029462136|          -0.0029679132|\n",
            "|    África|            Eswatini|   SWZ|                    461.14|                    473.28|                    485.43|                     491.5|                    497.56|             1.214|            1.2145|            1.2144|             1.214|             1.215|         1.2146667|             1.214|             1.214|             1.213|             1.212|           0.0026019285|           0.0025699672|           0.0025536653|           0.0025370284|            0.002538007|            0.002521491|             0.00250458|           0.0024884597|           0.0024711539|           0.0024538483|\n",
            "|    África|            Ethiopia|   ETH|                   19258.5|                   18528.5|                   17798.5|                   17433.5|                   17068.5|             -73.0|             -73.0|             -73.0|             -73.0|             -73.0|             -73.0|             -73.0|             -73.0|             -73.0|             -73.0|          -0.0038567868|          -0.0039341575|          -0.0039744363|          -0.0040158434|          -0.0040115225|           -0.004052861|          -0.0040953625|          -0.0041355332|           -0.004179195|           -0.004222855|\n",
            "|    África|               Kenya|   KEN|                   3858.54|                   3961.19|                   3616.34|                   3522.41|                   3611.09|            10.265|            -12.11|          -13.4452|         -8.248333|           -34.485|           -29.252|           -17.505|           -18.786|            -0.525|            17.736|            0.002629011|           -0.003236073|          -0.0036391008|          -0.0022068683|           -0.009066848|          -0.0077960566|          -0.0046160542|          -0.0052495827|          -1.4526933E-4|           0.0049852356|\n",
            "|    África|             Lesotho|   LSO|                     34.52|                     34.52|                     34.52|                     34.52|                     34.52|               0.0|               0.0|               0.0|               0.0|               0.0|               0.0|               0.0|               0.0|               0.0|               0.0|                    0.0|                    0.0|                    0.0|                    0.0|                    0.0|                    0.0|                    0.0|                    0.0|                    0.0|                    0.0|\n",
            "|    África|          Madagascar|   MDG|                  13693.45|                  13030.67|                  12561.98|                  12495.89|                  12429.81|           -66.278|          -56.5735|          -47.9024|        -42.121334|           -46.869|           -35.652|           -30.043|           -13.218|           -13.217|           -13.216|          -0.0049488945|          -0.0043028574|          -0.0036540208|           -0.003222131|          -0.0036564008|          -0.0027898357|          -0.0023576259|           -0.001054444|           -0.001057158|           -0.001059872|\n",
            "|    África|              Malawi|   MWI|                    3501.7|                    3081.7|                    2661.7|                    2451.7|                    2241.7|             -42.0|             -42.0|             -42.0|             -42.0|             -42.0|             -42.0|             -42.0|             -42.0|             -42.0|             -42.0|           -0.012695441|           -0.013620567|           -0.014157503|           -0.014757165|           -0.014544825|           -0.015131007|           -0.015786411|           -0.016302327|           -0.017026434|            -0.01775001|\n",
            "|    África|           Mauritius|   MUS|                     41.07|                     41.93|                     38.39|                      38.3|                     38.77|             0.086|            -0.134|           -0.1108|       -0.07666667|            -0.354|            -0.242|            -0.158|            -0.018|             0.038|             0.094|           0.0020745122|          -0.0033683602|           -0.002789224|          -0.0019191952|           -0.008781669|           -0.006018593|          -0.0039100763|           -4.693124E-4|            9.854595E-4|           0.0024423487|\n",
            "|    África|          Mozambique|   MOZ|                   43378.0|                   41188.0|                  38972.14|                   37940.0|                  36743.76|            -219.0|          -220.293|           -217.52|        -221.14133|          -221.586|        -216.53334|          -222.212|          -206.428|          -222.838|          -239.248|           -0.005167149|          -0.0053409548|            -0.00534353|           -0.005517522|            -0.00551473|          -0.0054610996|          -0.0056926617|          -0.0053538303|           -0.005870562|          -0.0063870256|\n",
            "|    África|             Namibia|   NAM|                   8769.17|                  8059.084|                   7348.99|                   6993.95|                    6638.9|          -71.0086|           -71.009|          -71.0088|           -71.009|          -71.0094|        -71.008934|          -71.0092|           -71.008|           -71.009|            -71.01|           -0.008408673|           -0.008795058|           -0.009007058|           -0.009233635|           -0.009181294|           -0.009405781|           -0.009645858|           -0.009854602|           -0.010110205|           -0.010365742|\n",
            "|    África|             Reunion|   REU|                     87.95|                     90.97|                     93.99|                     96.04|                     98.44|             0.302|             0.302|            0.3236|        0.34966666|             0.302|             0.338|            0.3735|              0.41|             0.445|              0.48|           0.0033818367|           0.0033265168|           0.0035260539|            0.003763021|              0.0032712|           0.0036222104|           0.0039536674|           0.0043245996|            0.004636599|            0.004948695|\n",
            "|    África|          Seychelles|   SYC|                      33.7|                      33.7|                      33.7|                      33.7|                      33.7|               0.0|               0.0|               0.0|               0.0|               0.0|               0.0|               0.0|               0.0|               0.0|               0.0|                    0.0|                    0.0|                    0.0|                    0.0|                    0.0|                    0.0|                    0.0|                    0.0|                    0.0|                    0.0|\n",
            "|    África|             Somalia|   SOM|                    8282.5|                    7515.0|                    6747.5|                   6363.75|                    5980.0|            -76.75|            -76.75|            -76.75|            -76.75|            -76.75|            -76.75|            -76.75|            -76.75|            -76.75|            -76.75|           -0.009677255|           -0.010196301|           -0.010485719|           -0.010798747|           -0.010715076|           -0.011024328|           -0.011359016|           -0.011642543|           -0.012002538|           -0.012362402|\n",
            "|    África|        South Africa|   ZAF|                  18142.09|                  17778.09|                  17414.09|                  17232.09|                  17050.09|             -36.4|             -36.4|             -36.4|             -36.4|             -36.4|             -36.4|             -36.4|             -36.4|             -36.4|             -36.4|          -0.0020247328|           -0.002045655|          -0.0020563353|          -0.0020671661|          -0.0020665769|           -0.002077403|          -0.0020883821|          -0.0020990549|           -0.002110187|           -0.002121319|\n",
            "|    África|              Uganda|   UGA|                   3575.47|                   3162.95|                   2750.42|                   2544.16|                    2337.9|           -41.252|          -41.2525|          -41.2524|        -41.252335|           -41.253|        -41.252666|          -41.2525|           -41.252|           -41.252|           -41.252|           -0.012184313|           -0.013031496|           -0.013519621|            -0.01406165|           -0.013877952|           -0.014408825|            -0.01499898|           -0.015469713|           -0.016118733|           -0.016767327|\n",
            "|    África|            Tanzania|   TZA|                  57390.01|                  53670.01|                  49950.01|                   48090.0|                   45745.0|            -372.0|            -372.0|         -372.0004|          -388.167|            -372.0|        -372.00067|         -396.2505|          -372.002|          -420.501|            -469.0|           -0.006679182|          -0.0069183344|          -0.0070468932|          -0.0075310897|          -0.0071574296|           -0.007291958|            -0.00795677|           -0.007560961|           -0.008755467|           -0.009948535|\n",
            "|    África|              Zambia|   ZMB|                   47412.0|                   47054.0|                   46696.0|                   45755.1|                  44814.03|             -35.8|             -35.8|           -66.276|           -86.599|             -35.8|         -86.59333|         -111.9985|           -188.18|          -188.197|          -188.214|           -7.576611E-4|           -7.605533E-4|          -0.0014218722|          -0.0018767068|          -7.6344545E-4|          -0.0018644342|          -0.0024357596|           -0.004062774|           -0.004105275|           -0.004147774|\n",
            "|    África|            Zimbabwe|   ZWE|                  18826.68|                  18365.98|                  17905.28|                  17674.93|                  17444.58|            -46.07|            -46.07|            -46.07|            -46.07|            -46.07|            -46.07|            -46.07|            -46.07|            -46.07|            -46.07|          -0.0024744307|          -0.0025058237|          -0.0025219251|          -0.0025383069|          -0.0025372156|          -0.0025535866|          -0.0025702433|          -0.0025863277|          -0.0026032699|          -0.0026202118|\n",
            "|    África|             Algeria|   DZA|                    1667.0|                    1579.0|                    1918.0|                    1956.0|                    1949.0|              -8.8|             12.55|             11.56|               9.4|              33.9|         25.133333|              18.5|               7.6|               3.1|              -1.4|          -0.0054087066|            0.007037516|           0.0064155306|           0.0052232877|             0.01963949|            0.014376349|             0.01058183|            0.003931427|           0.0016046305|           -7.167732E-4|\n",
            "|    África|               Egypt|   EGY|                     43.81|                     59.21|                     65.64|                     48.42|                     44.98|              1.54|            1.0915|            0.1844|             0.039|             0.643|       -0.71933335|           -0.7115|            -3.444|            -2.066|            -0.688|            0.030581117|            0.020421889|            0.004010053|            8.789142E-4|            0.010362808|           -0.013322295|           -0.013649613|           -0.059039827|           -0.037091352|           -0.014630914|\n",
            "|    África|               Libya|   LBY|                     217.0|                     217.0|                     217.0|                     217.0|                     217.0|               0.0|               0.0|               0.0|               0.0|               0.0|               0.0|               0.0|               0.0|               0.0|               0.0|                    0.0|                    0.0|                    0.0|                    0.0|                    0.0|                    0.0|                    0.0|                    0.0|                    0.0|                    0.0|\n",
            "|    África|          Mauritania|   MRT|                    476.04|                    421.64|                    367.24|                    340.04|                     312.8|             -5.44|             -5.44|             -5.44|        -5.4413333|             -5.44|             -5.44|            -5.442|             -5.44|            -5.444|            -5.448|          -0.0120616695|           -0.012890511|           -0.013367397|           -0.013900414|           -0.013718658|           -0.014236923|           -0.014818503|           -0.015272638|            -0.01591712|            -0.01656118|\n",
            "|    África|             Morocco|   MAR|                   5485.29|                   5506.54|                   5674.57|                   5684.69|                   5742.49|             2.125|             9.464|             7.976|          8.573334|            16.803|         11.876667|           11.7975|             2.024|             6.792|             11.56|           3.8672605E-4|           0.0016976807|           0.0014292857|           0.0015285988|           0.0030103533|            0.002124929|            0.002100024|           3.5642483E-4|           0.0011905206|           0.0020253118|\n",
            "|    África|               Sudan|   SDN|                  23570.31|                  21826.16|                  20081.17|                  19209.93|                  18359.55|          -174.415|          -174.457|         -174.4152|          -173.692|          -174.499|        -174.41533|         -173.3305|          -174.248|          -172.162|          -170.076|          -0.0076583857|           -0.007978269|           -0.008149036|           -0.008293352|           -0.008298049|           -0.008476002|           -0.008610683|           -0.008831814|           -0.008923219|           -0.009014614|\n",
            "|    África|             Tunisia|   TUN|                  643.9769|                    667.85|                    687.43|                    695.08|                    702.73|           2.38731|          2.172655|          2.044124|         1.9584366|             1.958|         1.8153334|             1.744|              1.53|              1.53|              1.53|           0.0036467072|            0.003270193|           0.0030592335|           0.0029145689|             0.00289382|           0.0026677754|              0.0025487|           0.0022158395|            0.002203699|           0.0021915585|\n",
            "|    África|               Benin|   BEN|                   4835.15|                   4135.15|                   3635.15|                   3385.15|                   3135.15|             -70.0|             -60.0|             -58.0|        -56.666668|             -50.0|             -50.0|             -50.0|             -50.0|             -50.0|             -50.0|           -0.015517203|           -0.014161853|           -0.014159357|           -0.014337397|           -0.012804637|           -0.013253086|           -0.013746965|           -0.014149374|           -0.014688393|           -0.015227117|\n",
            "|    África|        Burkina Faso|   BFA|                    7716.6|                    7216.5|                    6716.5|                    6466.4|                    6216.4|            -50.01|           -50.005|           -50.008|        -50.006668|             -50.0|        -50.006668|           -50.005|            -50.02|            -50.01|             -50.0|          -0.0066779805|           -0.006916305|           -0.007045238|           -0.007180195|           -0.007154572|               -0.00729|          -0.0074312063|          -0.0075608017|           -0.007707764|           -0.007854705|\n",
            "|    África|             Burundi|   BDI|                    276.48|                    193.94|                    193.94|                    279.64|                    279.64|            -8.254|            -4.127|            0.1264|       0.105333336|               0.0|          5.713333|             4.285|             17.14|              8.57|               0.0|           -0.034837663|            -0.01757324|           4.5468638E-4|           3.7889095E-4|                    0.0|            0.024696989|            0.018466141|            0.075935856|             0.03727328|                    0.0|\n",
            "|    África|            Cameroon|   CMR|                   22500.0|                  21597.49|                  20900.48|                  20620.48|                  20340.48|           -90.251|           -79.976|          -75.1808|           -71.984|           -69.701|           -65.134|          -62.8505|             -56.0|             -56.0|             -56.0|          -0.0040854523|            -0.00368037|          -0.0034831418|          -0.0033577608|           -0.003275123|          -0.0030813992|          -0.0029937157|           -0.002693839|          -0.0027122288|          -0.0027306185|\n",
            "|    África|          Cape Verde|   CPV|                     15.38|                     39.72|                     42.72|                     44.22|                     45.72|             2.434|             1.367|            1.1536|         1.0113333|               0.3|               0.3|               0.3|               0.3|               0.3|               0.3|             0.09952546|             0.05240704|             0.04314936|             0.03698306|           0.0073078084|           0.0071804794|            0.007058847|           0.0069258697|           0.0068099475|           0.0066940384|\n",
            "|    África|Central African R...|   CAF|                   23203.0|                   22903.0|                   22603.0|                   22453.0|                   22303.0|             -30.0|             -30.0|             -30.0|             -30.0|             -30.0|             -30.0|             -30.0|             -30.0|             -30.0|             -30.0|           -0.001300521|          -0.0013090894|          -0.0013134305|          -0.0013178104|          -0.0013176576|          -0.0013220367|          -0.0013264549|          -0.0013307948|           -0.001335252|          -0.0013397092|\n",
            "|    África|                Chad|   TCD|                    6730.0|                    6353.0|                    5530.0|                    4890.0|                    4313.0|             -37.7|             -60.0|             -73.6|        -80.566666|             -82.3|         -97.53333|            -102.0|            -128.0|            -121.7|            -115.4|          -0.0057482156|          -0.0097713135|           -0.012694056|          -0.0147219375|           -0.013778133|           -0.017297637|           -0.019178381|            -0.02429901|           -0.024549058|           -0.024799041|\n",
            "|    África|               Congo|   COG|                   22315.0|                   22195.0|                   22075.0|                   22015.0|                   21946.0|             -12.0|             -12.0|             -12.0|             -12.3|             -12.0|             -12.0|            -12.45|             -12.0|             -12.9|             -13.8|           -5.390606E-4|          -5.4052146E-4|           -5.412558E-4|           -5.556525E-4|          -5.4198224E-4|          -5.4271927E-4|           -5.639483E-4|           -5.441933E-4|           -5.859139E-4|          -6.2763266E-4|\n",
            "|    África|       Cote d'Ivoire|   CIV|                   7850.86|                   5094.45|                   3965.58|                   3401.15|                   2836.71|          -275.641|          -194.264|         -177.9884|        -167.13834|          -112.887|       -112.886665|          -112.887|          -112.886|          -112.887|          -112.888|           -0.042325314|           -0.033572067|            -0.03290677|            -0.03336335|           -0.024738813|           -0.026576338|           -0.028850967|            -0.03024101|           -0.032945786|           -0.035643015|\n",
            "|    África|Democratic Republ...|   COD|                  150629.0|                  143899.0|                  137169.0|                 131662.12|                 126155.24|            -673.0|            -673.0|         -758.6752|          -815.792|            -673.0|          -815.792|          -887.188|         -1101.376|         -1101.376|         -1101.376|           -0.004560389|            -0.00466937|           -0.005368773|          -0.0058927904|          -0.0047783395|          -0.0059073307|          -0.0065583223|           -0.008161472|           -0.008335122|            -0.00850874|\n",
            "|    África|   Equatorial Guinea|   GNQ|                   2699.15|                   2615.58|                   2532.01|                   2490.22|                   2448.42|            -8.357|            -8.357|           -8.3572|         -8.357667|            -8.357|         -8.357333|            -8.358|            -8.358|            -8.359|             -8.36|          -0.0031401631|          -0.0031910704|          -0.0032174469|          -0.0032445248|           -0.003241975|           -0.003268966|          -0.0032967015|          -0.0033229454|          -0.0033514248|          -0.0033799035|\n",
            "|    África|               Gabon|   GAB|                  23761.62|                   23700.0|                  23649.41|                   23590.0|                   23530.6|            -6.162|           -5.6105|           -6.8648|         -7.700667|            -5.059|        -7.3333335|             -8.47|           -11.882|           -11.881|            -11.88|          -2.5962887E-4|          -2.3664732E-4|           -2.899092E-4|          -3.2561272E-4|          -2.1366523E-4|          -3.1009555E-4|            -3.58603E-4|           -5.029283E-4|           -5.035198E-4|          -5.0411123E-4|\n",
            "|    África|              Gambia|   GMB|                    414.66|                    357.33|                     300.0|                    271.34|                    242.67|            -5.733|            -5.733|           -5.7328|            -5.733|            -5.733|        -5.7326665|            -5.733|            -5.732|            -5.733|            -5.734|           -0.014769759|           -0.016053567|            -0.01682038|           -0.017700028|           -0.017335702|            -0.01818509|           -0.019161893|           -0.019881666|            -0.02098469|           -0.022086471|\n",
            "|    África|               Ghana|   GHA|                   9924.26|                   8848.61|                   7942.93|                   7880.44|                   7985.71|          -107.565|          -99.0665|          -81.7528|         -64.61833|           -90.568|         -64.54467|           -43.145|           -12.498|             4.278|            21.054|           -0.011406633|           -0.011073237|           -0.009181531|           -0.007218109|           -0.010739729|          -0.0076953475|          -0.0051171966|            -0.00157845|            5.372912E-4|            0.002657516|\n",
            "|    África|              Guinea|   GIN|                    7276.0|                    6929.0|                    6569.0|                    6389.0|                    6189.0|             -34.7|            -35.35|            -35.48|        -36.233334|             -36.0|             -36.0|             -37.0|             -36.0|             -38.0|             -40.0|           -0.004874656|          -0.0050979434|          -0.0051866425|           -0.005379072|           -0.005321181|          -0.0053945794|           -0.005631184|            -0.00554136|          -0.0059410906|          -0.0063406606|\n",
            "|    África|       Guinea-Bissau|   GNB|                   2233.33|                   2148.88|                   2064.43|                   2022.21|                   1980.01|            -8.445|            -8.445|           -8.4448|            -8.444|            -8.445|         -8.444667|           -8.4435|            -8.444|            -8.442|             -8.44|           -0.003847277|           -0.003924259|          -0.0039642323|            -0.00400502|           -0.004001235|           -0.004042195|           -0.004083882|          -0.0041241096|           -0.004166522|           -0.004208933|\n",
            "|    África|             Liberia|   LBR|                   8525.24|                   8222.64|                   7920.04|                   7768.74|                   7617.44|            -30.26|            -30.26|            -30.26|            -30.26|            -30.26|            -30.26|            -30.26|            -30.26|            -30.26|            -30.26|          -0.0036074624|          -0.0036749765|          -0.0037100282|          -0.0037459936|          -0.0037424862|          -0.0037783997|          -0.0038152519|          -0.0038502223|          -0.0038880121|           -0.003925801|\n",
            "|    África|                Mali|   MLI|                   13296.0|                   13296.0|                   13296.0|                   13296.0|                   13296.0|               0.0|               0.0|               0.0|               0.0|               0.0|               0.0|               0.0|               0.0|               0.0|               0.0|                    0.0|                    0.0|                    0.0|                    0.0|                    0.0|                    0.0|                    0.0|                    0.0|                    0.0|                    0.0|\n",
            "|    África|               Niger|   NER|                    1945.0|                    1328.1|                    1203.9|                    1141.8|                    1079.7|            -61.69|           -37.055|           -32.128|        -28.843334|            -12.42|            -12.42|            -12.42|            -12.42|            -12.42|            -12.42|            -0.03743267|           -0.023699436|           -0.021080866|           -0.019428086|           -0.009770264|           -0.010025631|           -0.010299895|           -0.010536166|           -0.010829243|           -0.011122233|\n",
            "|    África|             Nigeria|   NGA|                  26526.09|                  24893.04|                  23259.98|                  22443.45|                  21626.95|          -163.305|         -163.3055|         -163.3056|        -163.30467|          -163.306|          -163.306|         -163.3045|          -163.306|          -163.303|            -163.3|          -0.0063339085|           -0.006548191|          -0.0066629024|           -0.006783175|          -0.0067624273|           -0.006882171|          -0.0070077316|           -0.007121615|           -0.007252976|           -0.007384319|\n",
            "|    África|              Rwanda|   RWA|                     317.0|                     287.0|                     265.0|                     270.0|                     276.0|              -3.0|              -2.6|             -1.88|        -1.3666667|              -2.2|        -1.1333333|             -0.55|               1.0|               1.1|               1.2|           -0.009892698|           -0.008918589|          -0.0063986336|          -0.0046060565|           -0.007943521|            -0.00406241|          -0.0019521596|           0.0037454232|            0.004075386|            0.004405457|\n",
            "|    África|Sao Tome and Prin...|   STP|                     58.62|                     58.36|                      58.1|                      55.0|                      51.9|            -0.026|            -0.026|           -0.1448|            -0.224|            -0.026|            -0.224|            -0.323|             -0.62|             -0.62|             -0.62|           -4.444224E-4|          -4.4541433E-4|          -0.0025464622|          -0.0040503466|           -4.464063E-4|          -0.0039453655|           -0.005848428|           -0.010906583|           -0.011221254|           -0.011535825|\n",
            "|    África|             Senegal|   SEN|                   9303.16|                   8853.16|                   8468.16|                   8268.16|                   8068.16|             -45.0|            -41.75|             -41.4|        -41.166668|             -38.5|             -39.0|            -39.25|             -40.0|             -40.0|             -40.0|           -0.004945697|          -0.0046910066|          -0.0047065746|          -0.0047363704|          -0.0044362517|           -0.004547128|          -0.0046316907|          -0.0047688438|          -0.0048270915|           -0.004885336|\n",
            "|    África|        Sierra Leone|   SLE|                    3126.7|                   2929.43|                   2732.16|                   2633.53|                   2534.88|           -19.727|           -19.727|          -19.7268|        -19.727333|           -19.727|        -19.726667|          -19.7275|           -19.726|           -19.728|            -19.73|           -0.006495837|          -0.0067215897|          -0.0068426016|          -0.0069699907|           -0.006947291|            -0.00707371|          -0.0072069825|             -0.0073265|           -0.007466606|           -0.007606692|\n",
            "|    África|                Togo|   TGO|                   1361.66|                  1268.464|                   1238.87|                   1224.07|                   1209.27|           -9.3196|           -6.1395|           -5.5036|        -5.0796666|           -2.9594|           -2.9596|           -2.9597|             -2.96|             -2.96|             -2.96|           -0.007064709|           -0.004714097|           -0.004251862|            -0.00394844|          -0.0023579204|           -0.002372205|          -0.0023866398|          -0.0024007738|          -0.0024153586|          -0.0024299428|\n",
            "|      Ásia|               China|   CHN|                  157140.6|                 177000.55|                 200610.38|                 210294.25|                 219978.19|          1985.996|         2173.4895|         2126.1465|         2094.5864|          2360.983|           2219.58|         2148.8816|          1936.774|           1936.78|          1936.786|            0.011972297|            0.012286047|            0.011722854|            0.011276016|            0.012599896|            0.011556594|            0.010928055|            0.009473214|            0.009258975|            0.009044783|\n",
            "|      Ásia|         North Korea|   PRK|                   6912.03|                   6454.69|                   6242.39|                   6136.24|                   6030.09|           -45.734|           -33.482|          -31.0316|           -29.398|            -21.23|            -21.23|            -21.23|            -21.23|            -21.23|            -21.23|           -0.006822259|           -0.005082055|           -0.004750727|           -0.004539712|          -0.0033388014|           -0.003367306|           -0.003396472|          -0.0034243127|          -0.0034541392|           -0.003483965|\n",
            "|      Ásia|               Japan|   JPN|                   24950.0|                   24876.0|                   24966.0|                   24944.0|                   24935.0|              -7.4|               0.8|             -0.24|              -0.5|               9.0|         4.5333333|              2.95|              -4.4|              -3.1|              -1.8|          -2.9698978E-4|           3.2054366E-5|           -9.620349E-6|          -2.0045905E-5|           3.6120682E-4|           1.8200517E-4|            1.184548E-4|          -1.7630184E-4|           -1.242383E-4|           -7.217206E-5|\n",
            "|      Ásia|            Mongolia|   MNG|                   14352.0|                   14263.9|                   14183.9|                  14178.33|                  14172.78|             -8.81|            -8.405|           -6.9468|            -5.974|              -8.0|        -5.7046666|            -4.556|            -1.114|            -1.112|             -1.11|            -6.15554E-4|          -5.8891583E-4|          -4.8686395E-4|          -4.1878168E-4|            -5.62277E-4|          -4.0106138E-4|            -3.20381E-4|           -7.855209E-5|           -7.842642E-5|           -7.830075E-5|\n",
            "|      Ásia|         South Korea|   KOR|                    6551.0|                    6476.0|                    6387.0|                    6337.0|                    6287.0|              -7.5|              -8.2|             -8.56|              -8.8|              -8.9|         -9.266666|             -9.45|             -10.0|             -10.0|             -10.0|          -0.0011508047|          -0.0012668486|          -0.0013276075|          -0.0013701838|          -0.0013828791|          -0.0014454587|          -0.0014798553|          -0.0015706061|           -0.001576822|          -0.0015830379|\n",
            "|      Ásia|          Bangladesh|   BGD|                   1920.33|                 1920.3281|                  1888.342|                    1883.4|                    1883.4|         -1.906E-4|        -1.5993979|           -1.4772|            -1.231|        -3.1986053|        -2.4618728|        -1.8464047|        -0.9884084|        -0.4942042|               0.0|           -9.925382E-8|           -8.395388E-4|           -7.764341E-4|           -6.470703E-4|          -0.0016782738|          -0.0012936558|          -9.7039883E-4|           -5.239754E-4|          -2.6202202E-4|                    0.0|\n",
            "|      Ásia|              Bhutan|   BTN|                   2506.72|                    2606.0|                   2705.29|                   2715.18|                   2725.08|             9.928|            9.9285|            8.3384|         7.2786665|             9.929|         7.2786665|             5.954|             1.978|             1.979|              1.98|           0.0038916883|           0.0038189732|           0.0032004355|            0.002787968|           0.0037462635|           0.0027398646|           0.0022365628|            7.300932E-4|            7.291327E-4|            7.281722E-4|\n",
            "|      Ásia|            Cambodia|   KHM|                  11004.79|                   10781.0|                  10589.23|                   8846.82|                   8068.37|           -22.379|           -20.778|          -86.3188|         -97.88067|           -19.177|        -128.94533|         -135.6315|          -348.482|          -252.086|           -155.69|          -0.0020524217|          -0.0019228084|           -0.008692899|           -0.010292636|          -0.0017931781|           -0.013095317|           -0.014387193|            -0.03531714|           -0.026822314|           -0.018252684|\n",
            "|      Ásia|               India|   IND|                   63938.0|                   67591.0|                   69496.0|                   70828.0|                   72160.0|             365.3|             277.9|             275.6|         274.06668|             190.5|             215.8|            228.45|             266.4|             266.4|             266.4|            0.005571561|            0.004176464|           0.0041020117|           0.0040405416|            0.002783302|           0.0031235057|            0.003275906|            0.003804259|           0.0037687519|            0.003733246|\n",
            "|      Ásia|           Indonesia|   IDN|                  118545.0|                  101280.0|                   99659.2|                   95027.9|                   92133.2|           -1726.5|           -944.29|          -940.684|         -880.3933|           -162.08|        -416.80667|           -457.34|           -926.26|            -752.6|           -578.94|           -0.015617136|           -0.008639279|           -0.008805883|           -0.008366712|          -0.0016119587|          -0.0042388854|          -0.0047214986|           -0.009472022|           -0.007821354|           -0.006167935|\n",
            "|      Ásia|                Laos|   LAO|                   17843.0|                   17425.0|                   16940.5|                   16768.0|                   16595.5|             -41.8|           -45.125|             -43.0|        -41.583332|            -48.45|             -43.8|           -41.475|             -34.5|             -34.5|             -34.5|          -0.0023677242|          -0.0025918388|          -0.0024824722|          -0.0024130738|          -0.0028159032|          -0.0025589636|          -0.0024357478|          -0.0020448857|          -0.0020554478|          -0.0020660097|\n",
            "|      Ásia|            Malaysia|   MYS|                   20618.5|                  19691.35|                  18947.65|                  19464.22|                  19114.04|           -92.715|          -83.5425|          -46.1712|        -50.148666|            -74.37|           -15.142|          -28.8655|           103.314|            16.639|           -70.036|          -0.0045903595|           -0.004216526|          -0.0023017798|           -0.002522333|          -0.0038425524|          -7.7313726E-4|          -0.0014867092|            0.005394095|            8.747054E-4|           -0.003624369|\n",
            "|      Ásia|             Myanmar|   MMR|                  39218.48|                  34868.11|                   31441.0|                  29992.44|                  28543.89|          -435.037|          -388.874|         -369.0416|        -355.81967|          -342.711|        -325.04468|          -316.211|          -289.712|          -289.711|           -289.71|           -0.011688691|           -0.010990918|           -0.010670768|           -0.010534294|           -0.010292653|           -0.009991569|            -0.00995659|          -0.0093891295|           -0.009620412|           -0.009851641|\n",
            "|      Ásia|               Nepal|   NPL|                    5672.0|                   5780.76|                   5962.03|                   5962.03|                   5962.03|            10.876|           14.5015|           11.6012|          9.667666|            18.127|         12.084666|            9.0635|               0.0|               0.0|               0.0|           0.0019011422|           0.0024965731|           0.0019967605|           0.0016636903|           0.0030923581|            0.002060511|           0.0015449856|                    0.0|                    0.0|                    0.0|\n",
            "|      Ásia|            Pakistan|   PAK|                   4986.79|                   4511.26|                   4093.73|                    3932.6|                    3725.9|           -47.553|           -44.653|          -42.1676|        -42.029667|           -41.753|         -38.57733|           -39.268|           -32.226|           -36.783|            -41.34|           -0.009971543|           -0.009818277|           -0.009454686|           -0.009669084|           -0.009664987|           -0.009109965|           -0.009517819|           -0.007998986|            -0.00937063|           -0.010740376|\n",
            "|      Ásia|         Philippines|   PHL|                   7778.81|                   7309.26|                   6839.72|                   7014.15|                   7188.59|           -46.955|          -46.9545|          -30.5864|           -19.674|           -46.954|           -19.674|           -6.0335|            34.886|            34.887|            34.888|           -0.006206791|          -0.0064121825|             -0.0041304|          -0.0026268214|           -0.006617531|          -0.0027437292|          -8.3200325E-4|           0.0050492533|           0.0049872203|            0.004925191|\n",
            "+----------+--------------------+------+--------------------------+--------------------------+--------------------------+--------------------------+--------------------------+------------------+------------------+------------------+------------------+------------------+------------------+------------------+------------------+------------------+------------------+-----------------------+-----------------------+-----------------------+-----------------------+-----------------------+-----------------------+-----------------------+-----------------------+-----------------------+-----------------------+\n",
            "only showing top 70 rows\n",
            "\n"
          ]
        }
      ]
    },
    {
      "cell_type": "code",
      "metadata": {
        "id": "rmaEgfJJdadl"
      },
      "source": [
        "def upload_blob(bucket_name, source_file_name, destination_blob_name):\n",
        "    \"\"\"Uploads a file to the bucket.\"\"\"\n",
        "    # The ID of your GCS bucket\n",
        "    # bucket_name = \"your-bucket-name\"\n",
        "    # The path to your file to upload\n",
        "    # source_file_name = \"local/path/to/file\"\n",
        "    # The ID of your GCS object\n",
        "    # destination_blob_name = \"storage-object-name\"\n",
        "\n",
        "    storage_client = storage.Client()\n",
        "    bucket = storage_client.bucket(bucket_name)\n",
        "    blob = bucket.blob(destination_blob_name)\n",
        "\n",
        "    blob.upload_from_filename(source_file_name)\n",
        "\n",
        "    print(\n",
        "        \"File {} uploaded to {}.\".format(\n",
        "            source_file_name, destination_blob_name\n",
        "        )\n",
        "    )"
      ],
      "execution_count": null,
      "outputs": []
    },
    {
      "cell_type": "code",
      "metadata": {
        "id": "NQn1wTPSdxql"
      },
      "source": [
        "from google.colab import drive\n",
        "drive.mount('/content/drive')"
      ],
      "execution_count": null,
      "outputs": []
    },
    {
      "cell_type": "code",
      "metadata": {
        "id": "XU3N_x2DduXE"
      },
      "source": [
        "df_cflorestal_spark2.write.format(\"csv\") \\\n",
        ".option(\"header\", \"true\") \\\n",
        ".option(\"inferschema\", \"true\") \\\n",
        ".option(\"delimiter\", \",\") \\\n",
        ".save(\"/content/drive/MyDrive/DF_cobertura_florestal_pipeline\")"
      ],
      "execution_count": null,
      "outputs": []
    },
    {
      "cell_type": "code",
      "metadata": {
        "colab": {
          "base_uri": "https://localhost:8080/"
        },
        "id": "3eIm2CNqeJ5u",
        "outputId": "18fcc5f6-a343-4af0-fbcc-542d39bfcd12"
      },
      "source": [
        "upload_blob(\"projeto-final-bucket-g5\", \"/content/drive/MyDrive/DF_cobertura_florestal_pipeline/df_cobertura_florestal_pipeline.csv.csv\", \"saida/df_cobertura_florestal_pipeline.csv\")"
      ],
      "execution_count": null,
      "outputs": [
        {
          "output_type": "stream",
          "name": "stdout",
          "text": [
            "File /content/drive/MyDrive/DF_cobertura_florestal_pipeline/df_cobertura_florestal_pipeline.csv.csv uploaded to saida/df_cobertura_florestal_pipeline.csv.\n"
          ]
        }
      ]
    }
  ]
}